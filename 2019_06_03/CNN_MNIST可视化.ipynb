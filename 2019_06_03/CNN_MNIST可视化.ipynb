{
 "cells": [
  {
   "cell_type": "markdown",
   "metadata": {},
   "source": [
    "## 准备阶段"
   ]
  },
  {
   "cell_type": "code",
   "execution_count": 33,
   "metadata": {},
   "outputs": [],
   "source": [
    "import time\n",
    "import csv, os\n",
    "import numpy as np\n",
    "import pandas as pd\n",
    "import matplotlib.pyplot as plt\n",
    "import cv2\n",
    "from cv2 import resize\n",
    "\n",
    "import torch\n",
    "import torch.nn as nn\n",
    "import torch.nn.functional as F\n",
    "from torch.utils.data.sampler import SubsetRandomSampler\n",
    "from torch.autograd import Variable\n",
    "import torch.utils.data as Data\n",
    "from sklearn import preprocessing\n",
    "import copy\n",
    "import torchvision\n",
    "import torchvision.transforms as transforms"
   ]
  },
  {
   "cell_type": "code",
   "execution_count": 2,
   "metadata": {},
   "outputs": [],
   "source": [
    "# ---------------\n",
    "# Visual The Loss\n",
    "# ---------------\n",
    "def draw_loss_acc(train_list,validation_list,mode='Loss'):\n",
    "    plt.style.use('seaborn')\n",
    "    fig = plt.figure(figsize=(10,5))\n",
    "    ax = fig.add_subplot(1, 1, 1)\n",
    "    # 设置间隔\n",
    "    data_len = len(train_list)\n",
    "    x_ticks = np.arange(1,data_len+1)\n",
    "    plt.xticks(x_ticks)\n",
    "    if mode == 'Loss':\n",
    "        plt.plot(x_ticks,train_list,label='Train Loss')\n",
    "        plt.plot(x_ticks,validation_list,label='Validation Loss')\n",
    "        plt.xlabel('Epoch')\n",
    "        plt.ylabel('Loss')\n",
    "        plt.legend()\n",
    "        plt.savefig('Epoch_loss.jpg')\n",
    "    elif mode == 'Accuracy':\n",
    "        plt.plot(x_ticks,train_list,label='Train Accuracy')\n",
    "        plt.plot(x_ticks,validation_list,label='Validation Accuracy')\n",
    "        plt.xlabel('Epoch')\n",
    "        plt.ylabel('Accuracy')\n",
    "        plt.legend()\n",
    "        plt.savefig('Epoch_Accuracy.jpg')"
   ]
  },
  {
   "cell_type": "code",
   "execution_count": 3,
   "metadata": {},
   "outputs": [],
   "source": [
    "# ----------------\n",
    "# Train the model\n",
    "# ----------------\n",
    "def train_model(model, criterion, optimizer, dataloaders, train_datalengths, scheduler=None, num_epochs=2):\n",
    "    \"\"\"传入的参数分别是:\n",
    "    1. model:定义的模型结构\n",
    "    2. criterion:损失函数\n",
    "    3. optimizer:优化器\n",
    "    4. dataloaders:training dataset\n",
    "    5. train_datalengths:train set和validation set的大小, 为了计算准确率\n",
    "    6. scheduler:lr的更新策略\n",
    "    7. num_epochs:训练的epochs\n",
    "    \"\"\"\n",
    "    since = time.time()\n",
    "    # 保存最好一次的模型参数和最好的准确率\n",
    "    best_model_wts = copy.deepcopy(model.state_dict())\n",
    "    best_acc = 0.0\n",
    "    train_loss = [] # 记录每一个epoch后的train的loss\n",
    "    train_acc = []\n",
    "    validation_loss = []\n",
    "    validation_acc = []\n",
    "    for epoch in range(num_epochs):\n",
    "        print('Epoch [{}/{}]'.format(epoch+1, num_epochs))\n",
    "        print('-' * 10)\n",
    "\n",
    "        # Each epoch has a training and validation phase\n",
    "        for phase in ['train', 'val']:\n",
    "            if phase == 'train':\n",
    "                if scheduler != None:\n",
    "                    scheduler.step()\n",
    "                model.train()  # Set model to training mode\n",
    "            else:\n",
    "                model.eval()   # Set model to evaluate mode\n",
    "\n",
    "            running_loss = 0.0 # 这个是一个epoch积累一次\n",
    "            running_corrects = 0 # 这个是一个epoch积累一次\n",
    "\n",
    "            # Iterate over data.\n",
    "            total_step = len(dataloaders[phase])\n",
    "            for i, (inputs, labels) in enumerate(dataloaders[phase]):\n",
    "                # inputs = inputs.reshape(-1, 28*28).to(device)\n",
    "                inputs = inputs.to(device)\n",
    "                labels = labels.to(device)\n",
    "                # zero the parameter gradients\n",
    "                optimizer.zero_grad()\n",
    "\n",
    "                # forward\n",
    "                # track history if only in train\n",
    "                with torch.set_grad_enabled(phase == 'train'):\n",
    "                    outputs = model(inputs)\n",
    "                    _, preds = torch.max(outputs, 1) # 使用output(概率)得到预测\n",
    "                    \n",
    "                    loss = criterion(outputs, labels) # 使用output计算误差\n",
    "\n",
    "                    # backward + optimize only if in training phase\n",
    "                    if phase == 'train':\n",
    "                        loss.backward()\n",
    "                        optimizer.step()\n",
    "\n",
    "                # statistics\n",
    "                running_loss += loss.item() * inputs.size(0)\n",
    "                running_corrects += torch.sum(preds == labels.data)\n",
    "                if (i+1)%100==0:\n",
    "                    # 这里相当于是i*batch_size的样本个数打印一次, i*100\n",
    "                    iteration_loss = loss.item()/inputs.size(0)\n",
    "                    iteration_acc = 100*torch.sum(preds == labels.data).item() / len(preds)\n",
    "                    print ('Mode {}, Epoch [{}/{}], Step [{}/{}], Accuracy: {}, Loss: {:.4f}'.format(phase, epoch+1, num_epochs, i+1, total_step, iteration_acc, iteration_loss))\n",
    "            \n",
    "            epoch_loss = running_loss / train_datalengths[phase]\n",
    "            epoch_acc = running_corrects.double() / train_datalengths[phase]\n",
    "            if phase == 'train':\n",
    "                train_loss.append(epoch_loss)\n",
    "                train_acc.append(epoch_acc)\n",
    "            else:\n",
    "                validation_loss.append(epoch_loss)\n",
    "                validation_acc.append(epoch_acc)\n",
    "            print('*'*10)\n",
    "            print('Mode: [{}], Loss: {:.4f}, Acc: {:.4f}'.format(\n",
    "                phase, epoch_loss, epoch_acc))\n",
    "            print('*'*10)\n",
    "            # deep copy the model\n",
    "            if phase == 'val' and epoch_acc > best_acc:\n",
    "                best_acc = epoch_acc\n",
    "                best_model_wts = copy.deepcopy(model.state_dict())\n",
    "\n",
    "        print()\n",
    "\n",
    "    time_elapsed = time.time() - since\n",
    "    print('*'*10)\n",
    "    print('Training complete in {:.0f}m {:.0f}s'.format(time_elapsed // 60, time_elapsed % 60))\n",
    "    print('Best val Acc: {:4f}'.format(best_acc))\n",
    "    print('*'*10)\n",
    "    # load best model weights\n",
    "    final_model = copy.deepcopy(model) # 最后得到的model\n",
    "    model.load_state_dict(best_model_wts) # 在验证集上最好的model\n",
    "    draw_loss_acc(train_list=train_loss,validation_list=validation_loss,mode='Loss') # 绘制Loss图像\n",
    "    draw_loss_acc(train_list=train_acc,validation_list=validation_acc,mode='Accuracy') # 绘制准确率图像\n",
    "    return (model,final_model)"
   ]
  },
  {
   "cell_type": "code",
   "execution_count": 7,
   "metadata": {},
   "outputs": [],
   "source": [
    "# --------------------\n",
    "# Device configuration\n",
    "# --------------------\n",
    "device = torch.device('cuda' if torch.cuda.is_available() else 'cpu')\n",
    "\n",
    "# ----------------\n",
    "# Hyper-parameters \n",
    "# ----------------\n",
    "num_classes = 10\n",
    "num_epochs = 3\n",
    "batch_size = 100\n",
    "validation_split = 0.05 # 每次训练集中选出10%作为\n",
    "learning_rate = 0.001"
   ]
  },
  {
   "cell_type": "markdown",
   "metadata": {},
   "source": [
    "## 数据定义"
   ]
  },
  {
   "cell_type": "code",
   "execution_count": 22,
   "metadata": {},
   "outputs": [
    {
     "name": "stdout",
     "output_type": "stream",
     "text": [
      "torch.Size([100, 1, 28, 28])\n",
      "torch.Size([100])\n"
     ]
    }
   ],
   "source": [
    "# -------------\n",
    "# MNIST dataset \n",
    "# -------------\n",
    "train_dataset = torchvision.datasets.MNIST(root='./',\n",
    "                                        train=True, \n",
    "                                        transform=transforms.ToTensor(),\n",
    "                                        download=True)\n",
    "\n",
    "test_dataset = torchvision.datasets.MNIST(root='./',\n",
    "                                        train=False, \n",
    "                                        transform=transforms.ToTensor())\n",
    "# -----------\n",
    "# Data loader\n",
    "# -----------\n",
    "test_len = len(test_dataset) # 计算测试集的个数\n",
    "test_loader = torch.utils.data.DataLoader(dataset=test_dataset,\n",
    "                                        batch_size=batch_size, \n",
    "                                        shuffle=False)\n",
    "\n",
    "for (inputs,labels) in test_loader:\n",
    "    print(inputs.size())\n",
    "    print(labels.size())\n",
    "    break\n",
    "# ------------------\n",
    "# 下面切分validation\n",
    "# ------------------\n",
    "dataset_len = len(train_dataset)\n",
    "indices = list(range(dataset_len))\n",
    "# Randomly splitting indices:\n",
    "val_len = int(np.floor(validation_split * dataset_len)) # validation的长度\n",
    "validation_idx = np.random.choice(indices, size=val_len, replace=False) # validatiuon的index\n",
    "train_idx = list(set(indices) - set(validation_idx)) # train的index\n",
    "## Defining the samplers for each phase based on the random indices:\n",
    "train_sampler = SubsetRandomSampler(train_idx)\n",
    "validation_sampler = SubsetRandomSampler(validation_idx)\n",
    "train_loader = torch.utils.data.DataLoader(dataset=train_dataset,\n",
    "                                            sampler=train_sampler,\n",
    "                                            batch_size=batch_size)\n",
    "validation_loader = torch.utils.data.DataLoader(train_dataset,\n",
    "                                            sampler=validation_sampler,\n",
    "                                            batch_size=batch_size)\n",
    "train_dataloaders = {\"train\": train_loader, \"val\": validation_loader} # 使用字典的方式进行保存\n",
    "train_datalengths = {\"train\": len(train_idx), \"val\": val_len} # 保存train和validation的长度"
   ]
  },
  {
   "cell_type": "markdown",
   "metadata": {},
   "source": [
    "## 模型定义"
   ]
  },
  {
   "cell_type": "code",
   "execution_count": 2,
   "metadata": {},
   "outputs": [],
   "source": [
    "# -------------------------------------------------------\n",
    "# Convolutional neural network (two convolutional layers)\n",
    "# -------------------------------------------------------\n",
    "class ConvNet(nn.Module):\n",
    "    def __init__(self, num_classes=10):\n",
    "        super(ConvNet, self).__init__()\n",
    "        self.layer1 = nn.Sequential(\n",
    "            nn.Conv2d(in_channels=1, out_channels=16, kernel_size=5, stride=1, padding=2),\n",
    "            nn.BatchNorm2d(16),\n",
    "            nn.ReLU(),\n",
    "            nn.MaxPool2d(kernel_size=2, stride=2))\n",
    "        self.layer2 = nn.Sequential(\n",
    "            nn.Conv2d(in_channels=16, out_channels=32, kernel_size=5, stride=1, padding=2),\n",
    "            nn.BatchNorm2d(32),\n",
    "            nn.ReLU(),\n",
    "            nn.MaxPool2d(kernel_size=2, stride=2))\n",
    "        self.fc = nn.Linear(7*7*32, num_classes)\n",
    "\n",
    "    def forward(self, x):\n",
    "        out = self.layer1(x)\n",
    "        out = self.layer2(out)\n",
    "        out = out.reshape(out.size(0), -1)\n",
    "        out = self.fc(out)\n",
    "        return out"
   ]
  },
  {
   "cell_type": "code",
   "execution_count": 7,
   "metadata": {},
   "outputs": [
    {
     "name": "stdout",
     "output_type": "stream",
     "text": [
      "ConvNet(\n",
      "  (layer1): Sequential(\n",
      "    (0): Conv2d(1, 16, kernel_size=(5, 5), stride=(1, 1), padding=(2, 2))\n",
      "    (1): BatchNorm2d(16, eps=1e-05, momentum=0.1, affine=True, track_running_stats=True)\n",
      "    (2): ReLU()\n",
      "    (3): MaxPool2d(kernel_size=2, stride=2, padding=0, dilation=1, ceil_mode=False)\n",
      "  )\n",
      "  (layer2): Sequential(\n",
      "    (0): Conv2d(16, 32, kernel_size=(5, 5), stride=(1, 1), padding=(2, 2))\n",
      "    (1): BatchNorm2d(32, eps=1e-05, momentum=0.1, affine=True, track_running_stats=True)\n",
      "    (2): ReLU()\n",
      "    (3): MaxPool2d(kernel_size=2, stride=2, padding=0, dilation=1, ceil_mode=False)\n",
      "  )\n",
      "  (fc): Linear(in_features=1568, out_features=10, bias=True)\n",
      ")\n"
     ]
    }
   ],
   "source": [
    "# 模型初始化\n",
    "model = ConvNet(num_classes=num_classes).to(device)\n",
    "\n",
    "# 打印模型结构\n",
    "print(model)"
   ]
  },
  {
   "cell_type": "code",
   "execution_count": 10,
   "metadata": {},
   "outputs": [
    {
     "name": "stdout",
     "output_type": "stream",
     "text": [
      "Epoch [1/3]\n",
      "----------\n",
      "Mode train, Epoch [1/3], Step [100/570], Accuracy: 94.0, Loss: 0.0018\n",
      "Mode train, Epoch [1/3], Step [200/570], Accuracy: 97.0, Loss: 0.0008\n",
      "Mode train, Epoch [1/3], Step [300/570], Accuracy: 98.0, Loss: 0.0007\n",
      "Mode train, Epoch [1/3], Step [400/570], Accuracy: 97.0, Loss: 0.0006\n",
      "Mode train, Epoch [1/3], Step [500/570], Accuracy: 99.0, Loss: 0.0004\n",
      "**********\n",
      "Mode: [train], Loss: 0.1659, Acc: 0.9553\n",
      "**********\n",
      "**********\n",
      "Mode: [val], Loss: 0.0591, Acc: 0.9797\n",
      "**********\n",
      "\n",
      "Epoch [2/3]\n",
      "----------\n",
      "Mode train, Epoch [2/3], Step [100/570], Accuracy: 100.0, Loss: 0.0001\n",
      "Mode train, Epoch [2/3], Step [200/570], Accuracy: 99.0, Loss: 0.0006\n",
      "Mode train, Epoch [2/3], Step [300/570], Accuracy: 99.0, Loss: 0.0003\n",
      "Mode train, Epoch [2/3], Step [400/570], Accuracy: 100.0, Loss: 0.0002\n",
      "Mode train, Epoch [2/3], Step [500/570], Accuracy: 99.0, Loss: 0.0003\n",
      "**********\n",
      "Mode: [train], Loss: 0.0484, Acc: 0.9858\n",
      "**********\n",
      "**********\n",
      "Mode: [val], Loss: 0.0521, Acc: 0.9823\n",
      "**********\n",
      "\n",
      "Epoch [3/3]\n",
      "----------\n",
      "Mode train, Epoch [3/3], Step [100/570], Accuracy: 98.0, Loss: 0.0003\n",
      "Mode train, Epoch [3/3], Step [200/570], Accuracy: 99.0, Loss: 0.0003\n",
      "Mode train, Epoch [3/3], Step [300/570], Accuracy: 98.0, Loss: 0.0008\n",
      "Mode train, Epoch [3/3], Step [400/570], Accuracy: 99.0, Loss: 0.0004\n",
      "Mode train, Epoch [3/3], Step [500/570], Accuracy: 98.0, Loss: 0.0005\n",
      "**********\n",
      "Mode: [train], Loss: 0.0368, Acc: 0.9886\n",
      "**********\n",
      "**********\n",
      "Mode: [val], Loss: 0.0541, Acc: 0.9823\n",
      "**********\n",
      "\n",
      "**********\n",
      "Training complete in 0m 56s\n",
      "Best val Acc: 0.982333\n",
      "**********\n"
     ]
    },
    {
     "data": {
      "image/png": "[encoded data removed]",
      "text/plain": [
       "<Figure size 720x360 with 1 Axes>"
      ]
     },
     "metadata": {},
     "output_type": "display_data"
    },
    {
     "data": {
      "image/png": "[encoded data removed]",
      "text/plain": [
       "<Figure size 720x360 with 1 Axes>"
      ]
     },
     "metadata": {},
     "output_type": "display_data"
    }
   ],
   "source": [
    "# -------------------\n",
    "# Loss and optimizer\n",
    "# ------------------\n",
    "criterion = nn.CrossEntropyLoss()\n",
    "optimizer = torch.optim.Adam(model.parameters(), lr=learning_rate)\n",
    "\n",
    "# -------------\n",
    "# 进行模型的训练\n",
    "# -------------\n",
    "(best_model,final_model) = train_model(model=model,criterion=criterion,optimizer=optimizer,dataloaders=train_dataloaders,train_datalengths=train_datalengths,num_epochs=num_epochs)"
   ]
  },
  {
   "cell_type": "markdown",
   "metadata": {},
   "source": [
    "## 模型的保存"
   ]
  },
  {
   "cell_type": "code",
   "execution_count": 12,
   "metadata": {},
   "outputs": [],
   "source": [
    "torch.save(model, 'CNN_MNIST.pkl')"
   ]
  },
  {
   "cell_type": "markdown",
   "metadata": {},
   "source": [
    "## 模型的加载"
   ]
  },
  {
   "cell_type": "code",
   "execution_count": 3,
   "metadata": {},
   "outputs": [],
   "source": [
    "model = torch.load('CNN_MNIST.pkl')"
   ]
  },
  {
   "cell_type": "markdown",
   "metadata": {},
   "source": [
    "## 模型的测试"
   ]
  },
  {
   "cell_type": "code",
   "execution_count": 27,
   "metadata": {},
   "outputs": [
    {
     "data": {
      "text/plain": [
       "torch.Size([28, 28])"
      ]
     },
     "execution_count": 27,
     "metadata": {},
     "output_type": "execute_result"
    }
   ],
   "source": [
    "test_dataset.data[0].shape"
   ]
  },
  {
   "cell_type": "code",
   "execution_count": 25,
   "metadata": {},
   "outputs": [
    {
     "data": {
      "image/png": "[encoded data removed]",
      "text/plain": [
       "<PIL.Image.Image image mode=L size=28x28 at 0x25327720EF0>"
      ]
     },
     "execution_count": 25,
     "metadata": {},
     "output_type": "execute_result"
    }
   ],
   "source": [
    "unload = transforms.ToPILImage()\n",
    "unload(test_dataset.data[0])"
   ]
  },
  {
   "cell_type": "code",
   "execution_count": 24,
   "metadata": {},
   "outputs": [
    {
     "data": {
      "text/plain": [
       "tensor(7)"
      ]
     },
     "execution_count": 24,
     "metadata": {},
     "output_type": "execute_result"
    }
   ],
   "source": [
    "test_dataset.targets[0]"
   ]
  },
  {
   "cell_type": "code",
   "execution_count": 23,
   "metadata": {},
   "outputs": [
    {
     "data": {
      "text/plain": [
       "tensor([[ -4.6164,  -4.6860,  -2.4694,   0.9703,  -9.9539,  -4.8575, -15.4606,\n",
       "          12.0382,  -6.5464,   0.2383]], device='cuda:0',\n",
       "       grad_fn=<AddmmBackward>)"
      ]
     },
     "execution_count": 23,
     "metadata": {},
     "output_type": "execute_result"
    }
   ],
   "source": [
    "# 带入模型进行预测\n",
    "inputdata = test_dataset.data[0].view(1,1,28,28).float()/255\n",
    "inputdata = inputdata.to(device)\n",
    "outputs = model(inputdata)\n",
    "outputs"
   ]
  },
  {
   "cell_type": "code",
   "execution_count": 11,
   "metadata": {},
   "outputs": [
    {
     "data": {
      "text/plain": [
       "(tensor([12.0382], device='cuda:0', grad_fn=<MaxBackward0>),\n",
       " tensor([7], device='cuda:0'))"
      ]
     },
     "execution_count": 11,
     "metadata": {},
     "output_type": "execute_result"
    }
   ],
   "source": [
    "# 查看预测结果\n",
    "torch.max(outputs, 1)"
   ]
  },
  {
   "cell_type": "markdown",
   "metadata": {},
   "source": [
    "## 查看feature map"
   ]
  },
  {
   "cell_type": "code",
   "execution_count": 4,
   "metadata": {},
   "outputs": [],
   "source": [
    "# hook类的写法\n",
    "class SaveFeatures():\n",
    "    \"\"\"注册hook和移除hook\n",
    "    \"\"\"\n",
    "    def __init__(self, module):\n",
    "        self.hook = module.register_forward_hook(self.hook_fn)\n",
    "    def hook_fn(self, module, input, output):\n",
    "        # self.features = output.clone().detach().requires_grad_(True)\n",
    "        self.features = output.clone()\n",
    "    def close(self):\n",
    "        self.hook.remove()"
   ]
  },
  {
   "cell_type": "code",
   "execution_count": 58,
   "metadata": {},
   "outputs": [
    {
     "data": {
      "text/plain": [
       "Conv2d(1, 16, kernel_size=(5, 5), stride=(1, 1), padding=(2, 2))"
      ]
     },
     "execution_count": 58,
     "metadata": {},
     "output_type": "execute_result"
    }
   ],
   "source": [
    "# 一共有两个卷积层\n",
    "list(model.children())[0][0]"
   ]
  },
  {
   "cell_type": "code",
   "execution_count": 78,
   "metadata": {},
   "outputs": [
    {
     "name": "stdout",
     "output_type": "stream",
     "text": [
      "torch.Size([1, 16, 28, 28])\n",
      "========\n",
      "torch.Size([1, 16, 28, 28])\n",
      "========\n",
      "torch.Size([1, 16, 28, 28])\n",
      "========\n",
      "torch.Size([1, 16, 28, 28])\n",
      "========\n",
      "torch.Size([1, 16, 28, 28])\n",
      "========\n",
      "torch.Size([1, 16, 28, 28])\n",
      "========\n",
      "torch.Size([1, 16, 28, 28])\n",
      "========\n",
      "torch.Size([1, 16, 28, 28])\n",
      "========\n",
      "torch.Size([1, 16, 28, 28])\n",
      "========\n",
      "torch.Size([1, 16, 28, 28])\n",
      "========\n",
      "torch.Size([1, 16, 28, 28])\n",
      "========\n",
      "torch.Size([1, 16, 28, 28])\n",
      "========\n",
      "torch.Size([1, 16, 28, 28])\n",
      "========\n",
      "torch.Size([1, 16, 28, 28])\n",
      "========\n",
      "torch.Size([1, 16, 28, 28])\n",
      "========\n",
      "torch.Size([1, 16, 28, 28])\n",
      "========\n"
     ]
    }
   ],
   "source": [
    "# hook住模型\n",
    "layer = 0 # 第layer层卷积层\n",
    "activations = SaveFeatures(list(model.children())[layer][0])\n",
    "\n",
    "# 超参数\n",
    "lr = 0.1 # 学习率\n",
    "opt_steps = 500 # 迭代次数\n",
    "upscaling_factor = 10 # 放大的倍数\n",
    "\n",
    "\n",
    "\n",
    "# 带入网络进行迭代\n",
    "for f in range(0,16):\n",
    "   # 初始化随机图片\n",
    "    sz = 28\n",
    "    img = np.uint8(np.random.uniform(0, 255, (1, sz, sz)))/255\n",
    "    img = torch.from_numpy(img[None]).float().to(device)\n",
    "    img_var = Variable(img, requires_grad=True)\n",
    "    # 定义优化器\n",
    "    optimizer = torch.optim.Adam([img_var], lr=lr, weight_decay=1e-6)\n",
    "    for n in range(opt_steps):  # optimize pixel values for opt_steps times\n",
    "        optimizer.zero_grad()\n",
    "        model(img_var) # 正向传播\n",
    "        loss = -activations.features[0, f].mean() # loss相当于最大该层的激活的值\n",
    "        loss.backward()\n",
    "        optimizer.step()\n",
    "    # print(activations.features[0].view(16,28*28).mean(1))\n",
    "    print(activations.features.shape)\n",
    "    print('========')\n",
    "    # 打印最后的img的样子\n",
    "    img = img_var.cpu().clone()\n",
    "    img = img.squeeze(0)\n",
    "    unloader = transforms.ToPILImage()\n",
    "    img = unloader(img)\n",
    "    img = cv2.cvtColor(np.asarray(img),cv2.COLOR_RGB2BGR)\n",
    "    sz = int(upscaling_factor * sz)  # calculate new image size\n",
    "    img = cv2.resize(img, (sz, sz), interpolation = cv2.INTER_CUBIC)  # scale image up\n",
    "    cv2.imwrite('layer0_filter{}.jpg'.format(f),img)\n",
    "\n",
    "# 移除hook\n",
    "activations.close()"
   ]
  },
  {
   "cell_type": "markdown",
   "metadata": {},
   "source": [
    "## 想要输出是1, 看输出是什么"
   ]
  },
  {
   "cell_type": "code",
   "execution_count": 5,
   "metadata": {},
   "outputs": [
    {
     "data": {
      "text/plain": [
       "tensor([[[-0.1163,  0.0831, -0.0897,  0.0312,  0.0483],\n",
       "         [-0.0079,  0.0953,  0.1118,  0.1827,  0.0142],\n",
       "         [ 0.0728,  0.1149,  0.0472, -0.0303, -0.1781],\n",
       "         [-0.0655,  0.0482, -0.1040,  0.0260, -0.0505],\n",
       "         [-0.2907, -0.2503, -0.1944, -0.1212, -0.1266]]], device='cuda:0')"
      ]
     },
     "execution_count": 5,
     "metadata": {},
     "output_type": "execute_result"
    }
   ],
   "source": [
    "model.state_dict()['layer1.0.weight'][1]"
   ]
  },
  {
   "cell_type": "code",
   "execution_count": 16,
   "metadata": {},
   "outputs": [
    {
     "data": {
      "text/plain": [
       "Linear(in_features=1568, out_features=10, bias=True)"
      ]
     },
     "execution_count": 16,
     "metadata": {},
     "output_type": "execute_result"
    }
   ],
   "source": [
    "list(model.children())[2]"
   ]
  },
  {
   "cell_type": "code",
   "execution_count": 20,
   "metadata": {},
   "outputs": [
    {
     "name": "stdout",
     "output_type": "stream",
     "text": [
      "tensor(196.1546, device='cuda:0', grad_fn=<SelectBackward>)\n",
      "tensor([ 196.1546, -294.8484,   -7.6568, -112.3714, -152.9670, -123.5260,\n",
      "         -92.3355, -256.8824,   28.9716, -153.6280], device='cuda:0',\n",
      "       grad_fn=<SelectBackward>)\n",
      "========\n",
      "tensor(328.1340, device='cuda:0', grad_fn=<SelectBackward>)\n",
      "tensor([-361.2679,  328.1340,  120.0587,  -39.1018, -109.6398,  -63.7581,\n",
      "        -283.5492,  -34.5981, -315.9140, -319.0491], device='cuda:0',\n",
      "       grad_fn=<SelectBackward>)\n",
      "========\n",
      "tensor(507.1016, device='cuda:0', grad_fn=<SelectBackward>)\n",
      "tensor([-241.7440, -163.1944,  507.1016,  -45.3038, -299.0189, -232.5516,\n",
      "        -344.2968,  -92.5664, -125.8911, -380.9313], device='cuda:0',\n",
      "       grad_fn=<SelectBackward>)\n",
      "========\n",
      "tensor(522.1756, device='cuda:0', grad_fn=<SelectBackward>)\n",
      "tensor([-332.2834, -241.8614,   -9.3087,  522.1756, -432.0358,  -28.5559,\n",
      "        -401.9879,  -94.7131, -106.5323, -190.4074], device='cuda:0',\n",
      "       grad_fn=<SelectBackward>)\n",
      "========\n",
      "tensor(256.4749, device='cuda:0', grad_fn=<SelectBackward>)\n",
      "tensor([-259.1803,  -66.2065,    3.7045, -199.5505,  256.4749,  -56.9771,\n",
      "        -278.9342,  -90.0364, -166.3792, -187.9330], device='cuda:0',\n",
      "       grad_fn=<SelectBackward>)\n",
      "========\n",
      "tensor(506.0936, device='cuda:0', grad_fn=<SelectBackward>)\n",
      "tensor([-350.8197, -256.9981, -186.8870,   19.5400, -285.2265,  506.0936,\n",
      "        -238.2321, -203.3604, -145.3642, -233.4115], device='cuda:0',\n",
      "       grad_fn=<SelectBackward>)\n",
      "========\n",
      "tensor(303.1725, device='cuda:0', grad_fn=<SelectBackward>)\n",
      "tensor([-135.9065, -243.5394,  -76.9749, -143.2702, -198.1079,   56.0296,\n",
      "         303.1725, -283.2840,  -42.2712, -327.5182], device='cuda:0',\n",
      "       grad_fn=<SelectBackward>)\n",
      "========\n",
      "tensor(398.3211, device='cuda:0', grad_fn=<SelectBackward>)\n",
      "tensor([-270.6204,  -35.9392,   85.8039,   25.8492, -218.8194,  -48.2347,\n",
      "        -434.4893,  398.3211, -312.8970, -260.7600], device='cuda:0',\n",
      "       grad_fn=<SelectBackward>)\n",
      "========\n",
      "tensor(409.6620, device='cuda:0', grad_fn=<SelectBackward>)\n",
      "tensor([-225.7240, -421.8864,  -85.2194,  -36.7202, -283.8878,  -65.7516,\n",
      "        -198.6227, -300.6422,  409.6620, -249.4478], device='cuda:0',\n",
      "       grad_fn=<SelectBackward>)\n",
      "========\n",
      "tensor(298.7635, device='cuda:0', grad_fn=<SelectBackward>)\n",
      "tensor([-186.3144, -331.5996, -125.8276,   50.3878, -185.2805,   -2.6273,\n",
      "        -295.7914, -199.6375,  -60.2734,  298.7635], device='cuda:0',\n",
      "       grad_fn=<SelectBackward>)\n",
      "========\n"
     ]
    }
   ],
   "source": [
    "# hook住模型\n",
    "layer = 2\n",
    "activations = SaveFeatures(list(model.children())[layer])\n",
    "\n",
    "# 超参数\n",
    "lr = 0.05 # 学习率\n",
    "opt_steps = 100 # 迭代次数\n",
    "upscaling_factor = 10 # 放大的倍数(为了最后图像的保存)\n",
    "\n",
    "# 保存迭代后的数字\n",
    "true_nums = []\n",
    "\n",
    "\n",
    "# 带入网络进行迭代\n",
    "for true_num in range(0,10):\n",
    "    # 初始化随机图片(数据定义和优化器一定要在一起)\n",
    "    # 定义数据\n",
    "    sz = 28\n",
    "    img = np.uint8(np.random.uniform(0, 255, (1, sz, sz)))/255\n",
    "    img = torch.from_numpy(img[None]).float().to(device)\n",
    "    img_var = Variable(img, requires_grad=True)\n",
    "    # 定义优化器\n",
    "    optimizer = torch.optim.Adam([img_var], lr=lr, weight_decay=1e-6)\n",
    "    for n in range(opt_steps):  # optimize pixel values for opt_steps times\n",
    "        optimizer.zero_grad()\n",
    "        model(img_var) # 正向传播\n",
    "        loss = -(activations.features[0, true_num]-activations.features[0].mean()) # loss相当于最大该层的激活的值\n",
    "        # loss = -activations.features[0, true_num]\n",
    "        loss.backward()\n",
    "        optimizer.step()\n",
    "    # 打印最后的img的样子\n",
    "    print(activations.features[0, true_num])\n",
    "    print(activations.features[0])\n",
    "    print('========')\n",
    "    img = img_var.cpu().clone()\n",
    "    img = img.squeeze(0)\n",
    "    # 图像的裁剪(确保像素值的范围)\n",
    "    img[img>1]=1\n",
    "    img[img<0]=0\n",
    "    true_nums.append(img)\n",
    "    unloader = transforms.ToPILImage()\n",
    "    img = unloader(img)\n",
    "    img = cv2.cvtColor(np.asarray(img),cv2.COLOR_RGB2BGR)\n",
    "    sz = int(upscaling_factor * sz)  # calculate new image size\n",
    "    img = cv2.resize(img, (sz, sz), interpolation = cv2.INTER_CUBIC)  # scale image up\n",
    "    cv2.imwrite('num_{}.jpg'.format(true_num),img)\n",
    "\n",
    "# 移除hook\n",
    "activations.close()"
   ]
  },
  {
   "cell_type": "code",
   "execution_count": 21,
   "metadata": {},
   "outputs": [
    {
     "name": "stdout",
     "output_type": "stream",
     "text": [
      "i:0,Pre:tensor([8], device='cuda:0')\n",
      "i:1,Pre:tensor([1], device='cuda:0')\n",
      "i:2,Pre:tensor([2], device='cuda:0')\n",
      "i:3,Pre:tensor([3], device='cuda:0')\n",
      "i:4,Pre:tensor([4], device='cuda:0')\n",
      "i:5,Pre:tensor([5], device='cuda:0')\n",
      "i:6,Pre:tensor([6], device='cuda:0')\n",
      "i:7,Pre:tensor([7], device='cuda:0')\n",
      "i:8,Pre:tensor([8], device='cuda:0')\n",
      "i:9,Pre:tensor([9], device='cuda:0')\n"
     ]
    }
   ],
   "source": [
    "for i in range(0,10):\n",
    "    _ , pre = torch.max(model(true_nums[i][None].to(device)),1)\n",
    "    print(\"i:{},Pre:{}\".format(i,pre))"
   ]
  },
  {
   "cell_type": "markdown",
   "metadata": {},
   "source": [
    "## 使用正确的图片, 沿着梯度反方向移动"
   ]
  },
  {
   "cell_type": "code",
   "execution_count": 56,
   "metadata": {},
   "outputs": [
    {
     "name": "stdout",
     "output_type": "stream",
     "text": [
      "tensor(13.0160, device='cuda:0', grad_fn=<SelectBackward>)\n",
      "tensor([ 13.0160, -18.8720,  -2.3680,  -9.2591,  -9.6613, -10.2659, -12.1550,\n",
      "          0.5029,  -0.4319,  -2.1710], device='cuda:0',\n",
      "       grad_fn=<SelectBackward>)\n",
      "========\n",
      "tensor(26.0117, device='cuda:0', grad_fn=<SelectBackward>)\n",
      "tensor([-20.3887,  26.0117,   2.6921,  -6.4331,  -3.2147,  -5.8528, -28.1495,\n",
      "         17.9849, -31.7930, -15.1926], device='cuda:0',\n",
      "       grad_fn=<SelectBackward>)\n",
      "========\n",
      "tensor(34.4822, device='cuda:0', grad_fn=<SelectBackward>)\n",
      "tensor([-14.1361,  -7.2388,  34.4822,  -2.0734, -21.4665, -19.7852, -32.1796,\n",
      "         13.3965, -18.3029, -21.4641], device='cuda:0',\n",
      "       grad_fn=<SelectBackward>)\n",
      "========\n",
      "tensor(35.4379, device='cuda:0', grad_fn=<SelectBackward>)\n",
      "tensor([-23.3432, -12.6486,   0.3977,  35.4379, -30.4956,  -3.2850, -38.2244,\n",
      "         11.4169, -15.4760,  -7.9958], device='cuda:0',\n",
      "       grad_fn=<SelectBackward>)\n",
      "========\n",
      "tensor(17.8015, device='cuda:0', grad_fn=<SelectBackward>)\n",
      "tensor([-17.3047,   6.2924,  -5.2854, -13.0921,  17.8015,  -5.2776, -25.3247,\n",
      "          8.1588, -18.0196,  -6.9780], device='cuda:0',\n",
      "       grad_fn=<SelectBackward>)\n",
      "========\n",
      "tensor(32.4529, device='cuda:0', grad_fn=<SelectBackward>)\n",
      "tensor([-21.9082, -14.6359, -14.5615,   1.2794, -22.4443,  32.4529, -26.1558,\n",
      "          2.9505, -17.3751,  -8.0193], device='cuda:0',\n",
      "       grad_fn=<SelectBackward>)\n",
      "========\n",
      "tensor(12.8599, device='cuda:0', grad_fn=<SelectBackward>)\n",
      "tensor([ -4.9526, -17.6310,  -9.6919, -10.0498, -11.8177,   0.5500,  12.8599,\n",
      "         -6.8022,  -0.5154, -11.0274], device='cuda:0',\n",
      "       grad_fn=<SelectBackward>)\n",
      "========\n",
      "tensor(43.7629, device='cuda:0', grad_fn=<SelectBackward>)\n",
      "tensor([-17.8679,   2.6625,   4.0276,   1.7142, -18.0363,  -5.8360, -44.6165,\n",
      "         43.7629, -31.4655, -11.8327], device='cuda:0',\n",
      "       grad_fn=<SelectBackward>)\n",
      "========\n",
      "tensor(23.4023, device='cuda:0', grad_fn=<SelectBackward>)\n",
      "tensor([ -6.4757, -25.8865,  -9.1030,  -4.5607, -15.8210,  -9.5705, -13.0901,\n",
      "        -10.6974,  23.4023,  -6.4093], device='cuda:0',\n",
      "       grad_fn=<SelectBackward>)\n",
      "========\n",
      "tensor(23.5809, device='cuda:0', grad_fn=<SelectBackward>)\n",
      "tensor([-13.0789, -16.9125, -13.7993,   0.5469, -12.2658,  -1.7861, -29.3286,\n",
      "          2.2525,  -7.8215,  23.5809], device='cuda:0',\n",
      "       grad_fn=<SelectBackward>)\n",
      "========\n"
     ]
    }
   ],
   "source": [
    "# hook住模型\n",
    "layer = 2\n",
    "activations = SaveFeatures(list(model.children())[layer])\n",
    "\n",
    "# 超参数\n",
    "lr = 0.005 # 学习率\n",
    "opt_steps = 70 # 迭代次数\n",
    "upscaling_factor = 10 # 放大的倍数(为了最后图像的保存)\n",
    "\n",
    "# 保存迭代后的数字\n",
    "true_nums = []\n",
    "\n",
    "# 带入网络进行迭代\n",
    "for true_num in range(0,10):\n",
    "    # 初始化随机图片(数据定义和优化器一定要在一起)\n",
    "    # 定义数据\n",
    "    sz = 28\n",
    "    # 将7变成0,1,2,3,4,5,6,7,8,9\n",
    "    img = test_dataset.data[0].view(1,1,28,28).float()/255\n",
    "    img = img.to(device)\n",
    "    img_var = Variable(img, requires_grad=True)\n",
    "    # 定义优化器\n",
    "    optimizer = torch.optim.Adam([img_var], lr=lr, weight_decay=1e-6)\n",
    "    for n in range(opt_steps):  # optimize pixel values for opt_steps times\n",
    "        optimizer.zero_grad()\n",
    "        model(img_var) # 正向传播\n",
    "        # 这里的loss确保某个值的输出大, 并且与原图不会相差很多\n",
    "        loss = -activations.features[0, true_num] + F.mse_loss(img_var,img)\n",
    "        loss.backward()\n",
    "        optimizer.step()\n",
    "    # 打印最后的img的样子\n",
    "    print(activations.features[0, true_num])\n",
    "    print(activations.features[0])\n",
    "    print('========')\n",
    "    img = img_var.cpu().clone()\n",
    "    img = img.squeeze(0)\n",
    "    # 图像的裁剪(确保像素值的范围)\n",
    "    img[img>1]=1\n",
    "    img[img<0]=0\n",
    "    true_nums.append(img)\n",
    "    unloader = transforms.ToPILImage()\n",
    "    img = unloader(img)\n",
    "    img = cv2.cvtColor(np.asarray(img),cv2.COLOR_RGB2BGR)\n",
    "    sz = int(upscaling_factor * sz)  # calculate new image size\n",
    "    img = cv2.resize(img, (sz, sz), interpolation = cv2.INTER_CUBIC)  # scale image up\n",
    "    cv2.imwrite('real7_regonize{}.jpg'.format(true_num),img)\n",
    "\n",
    "# 移除hook\n",
    "activations.close()"
   ]
  },
  {
   "cell_type": "code",
   "execution_count": 57,
   "metadata": {},
   "outputs": [
    {
     "name": "stdout",
     "output_type": "stream",
     "text": [
      "i:0,Pre:tensor([0], device='cuda:0')\n",
      "i:1,Pre:tensor([7], device='cuda:0')\n",
      "i:2,Pre:tensor([2], device='cuda:0')\n",
      "i:3,Pre:tensor([3], device='cuda:0')\n",
      "i:4,Pre:tensor([4], device='cuda:0')\n",
      "i:5,Pre:tensor([5], device='cuda:0')\n",
      "i:6,Pre:tensor([6], device='cuda:0')\n",
      "i:7,Pre:tensor([7], device='cuda:0')\n",
      "i:8,Pre:tensor([8], device='cuda:0')\n",
      "i:9,Pre:tensor([9], device='cuda:0')\n"
     ]
    }
   ],
   "source": [
    "for i in range(0,10):\n",
    "    _ , pre = torch.max(model(true_nums[i][None].to(device)),1)\n",
    "    print(\"i:{},Pre:{}\".format(i,pre))"
   ]
  },
  {
   "cell_type": "code",
   "execution_count": null,
   "metadata": {},
   "outputs": [],
   "source": []
  }
 ],
 "metadata": {
  "kernelspec": {
   "display_name": "Python 3",
   "language": "python",
   "name": "python3"
  },
  "language_info": {
   "codemirror_mode": {
    "name": "ipython",
    "version": 3
   },
   "file_extension": ".py",
   "mimetype": "text/x-python",
   "name": "python",
   "nbconvert_exporter": "python",
   "pygments_lexer": "ipython3",
   "version": "3.7.3"
  }
 },
 "nbformat": 4,
 "nbformat_minor": 2
}

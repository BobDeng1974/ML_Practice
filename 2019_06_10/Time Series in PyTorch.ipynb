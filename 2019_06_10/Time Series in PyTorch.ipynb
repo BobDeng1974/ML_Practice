{
 "cells": [
  {
   "cell_type": "code",
   "execution_count": 1,
   "metadata": {},
   "outputs": [],
   "source": [
    "import torch\n",
    "import torch.nn as nn\n",
    "import torch.optim as optim\n",
    "\n",
    "import numpy as np\n",
    "from sklearn.model_selection import train_test_split\n",
    "import matplotlib.pyplot as plt"
   ]
  },
  {
   "cell_type": "markdown",
   "metadata": {},
   "source": [
    "## Generating Autoregressive data for experiments"
   ]
  },
  {
   "cell_type": "code",
   "execution_count": 2,
   "metadata": {},
   "outputs": [],
   "source": [
    "# 代码来源 : http://www.jessicayung.com/generating-autoregressive-data-for-experiments/\n",
    "# 代码来源 : https://github.com/jessicayung/blog-code-snippets\n",
    "class TimeSeriesData:\n",
    "    def __init__(self, num_datapoints, test_size=0.2, max_t=20, num_prev=1,\n",
    "                 noise_var=1):\n",
    "        \"\"\"\n",
    "        Template class for generating time series data.\n",
    "        :param test_size: in (0,1), data to be used in test set as a fraction of all data generated.\n",
    "        \"\"\"\n",
    "        self.num_datapoints = num_datapoints\n",
    "        self.test_size = test_size\n",
    "        self.num_prev = num_prev\n",
    "        self.max_t = max_t\n",
    "        self.data = None\n",
    "        self.noise_var = noise_var\n",
    "        self.y = np.zeros(num_datapoints + num_prev*4) # TODO: check this\n",
    "        self.bayes_preds = np.copy(self.y)\n",
    "\n",
    "        # Generate data and reshape data\n",
    "        self.create_data()\n",
    "\n",
    "        # Split into training and test sets\n",
    "        self.train_test_split()\n",
    "\n",
    "    def create_data(self):\n",
    "        self.generate_data()\n",
    "        self.reshape_data()\n",
    "\n",
    "    def generate_data(self):\n",
    "        \"\"\"Generates data in self.y, may take as implicit input timesteps self.t.\n",
    "        May also generate Bayes predictions.\"\"\"\n",
    "        raise NotImplementedError(\"Generate data method not implemented.\")\n",
    "\n",
    "    def reshape_data(self):\n",
    "        self.x = np.reshape([self.y[i:i + self.num_prev] for i in range(\n",
    "            self.num_datapoints)], (-1, self.num_prev))\n",
    "        self.y = np.copy(self.y[self.num_prev:])\n",
    "        self.bayes_preds = np.copy(self.bayes_preds[self.num_prev:])\n",
    "\n",
    "    def train_test_split(self):\n",
    "        test_size = int(len(self.y) * self.test_size)\n",
    "        self.data = [self.X_train, self.X_test, self.y_train,\n",
    "                     self.y_test] = \\\n",
    "                    self.x[:-test_size], self.x[-test_size:], \\\n",
    "                    self.y[:-test_size], self.y[-test_size:]\n",
    "        self.bayes_preds = [self.bayes_train_preds, self.bayes_test_preds] = self.bayes_preds[:-test_size], self.bayes_preds[-test_size:]\n",
    "\n",
    "    def return_data(self):\n",
    "        return self.data\n",
    "\n",
    "    def return_train_test(self):\n",
    "        return self.X_train, self.y_train, self.X_test, self.y_test\n",
    "\n",
    "class ARData(TimeSeriesData):\n",
    "    \"\"\"Class to generate autoregressive data.\"\"\"\n",
    "\n",
    "    def __init__(self, *args, coeffs=None, **kwargs):\n",
    "        self.given_coeffs = coeffs\n",
    "        super(ARData, self).__init__(*args, **kwargs)\n",
    "\n",
    "        if coeffs is not None:\n",
    "            self.num_prev = len(coeffs) - 1\n",
    "\n",
    "    def generate_data(self):\n",
    "        self.generate_coefficients()\n",
    "        self.generate_initial_points()\n",
    "\n",
    "        # + 3*self.num_prev because we want to cut first (3*self.num_prev) datapoints later\n",
    "        # so dist is more stationary (else initial num_prev datapoints will stand out as diff dist)\n",
    "        for i in range(self.num_datapoints+3*self.num_prev):\n",
    "            # Generate y value if there was no noise\n",
    "            # (equivalent to Bayes predictions: predictions from oracle that knows true parameters (coefficients))\n",
    "            self.bayes_preds[i + self.num_prev] = np.dot(self.y[i:self.num_prev+i][::-1], self.coeffs)\n",
    "            # Add noise\n",
    "            self.y[i + self.num_prev] = self.bayes_preds[i + self.num_prev] + self.noise()\n",
    "\n",
    "        # Cut first 20 points so dist is roughly stationary\n",
    "        self.bayes_preds = self.bayes_preds[3*self.num_prev:]\n",
    "        self.y = self.y[3*self.num_prev:]\n",
    "\n",
    "    def generate_coefficients(self):\n",
    "        if self.given_coeffs is not None:\n",
    "            self.coeffs = self.given_coeffs\n",
    "        else:\n",
    "            filter_stable = False\n",
    "            # Keep generating coefficients until we come across a set of coefficients\n",
    "            # that correspond to stable poles\n",
    "            while not filter_stable:\n",
    "                true_theta = np.random.random(self.num_prev) - 0.5\n",
    "                coefficients = np.append(1, -true_theta)\n",
    "                # check if magnitude of all poles is less than one\n",
    "                if np.max(np.abs(np.roots(coefficients))) < 1:\n",
    "                    filter_stable = True\n",
    "            self.coeffs = true_theta\n",
    "\n",
    "    def generate_initial_points(self):\n",
    "        # Initial datapoints distributed as N(0,1)\n",
    "        self.y[:self.num_prev] = np.random.randn(self.num_prev)\n",
    "\n",
    "    def noise(self):\n",
    "        # Noise distributed as N(0, self.noise_var)\n",
    "        return self.noise_var * np.random.randn()\n",
    "\n",
    "# A set of coefficients that are stable (to produce replicable plots, experiments)\n",
    "fixed_ar_coefficients = {2: [ 0.46152873, -0.29890739],\n",
    "    5: [ 0.02519834, -0.24396899,  0.2785921,   0.14682383,  0.39390468],\n",
    "                        10: [-0.10958935, -0.34564819,  0.3682048,   0.3134046,  -0.21553732,  0.34613629,\n",
    "  0.41916508,  0.0165352,   0.14163503, -0.38844378],\n",
    "                         20: [ 0.1937815,   0.01201026,  0.00464018, -0.21887467, -0.20113385, -0.02322278,\n",
    "  0.34285319, -0.21069086,  0.06604683, -0.22377364,  0.11714593, -0.07122126,\n",
    " -0.16346554,  0.03174824,  0.308584,    0.06881604,  0.24840789, -0.32735569,\n",
    "  0.21939492, 0.3996207 ]}"
   ]
  },
  {
   "cell_type": "code",
   "execution_count": 3,
   "metadata": {},
   "outputs": [],
   "source": [
    "# --------------------\n",
    "# Device configuration\n",
    "# --------------------\n",
    "device = torch.device('cuda' if torch.cuda.is_available() else 'cpu')"
   ]
  },
  {
   "cell_type": "code",
   "execution_count": 4,
   "metadata": {},
   "outputs": [],
   "source": [
    "#####################\n",
    "# Generate data\n",
    "#####################\n",
    "num_datapoints = 100\n",
    "test_size = 0.2\n",
    "input_size = 20\n",
    "noise_var = 0\n",
    "\n",
    "data = ARData(num_datapoints, num_prev=input_size, test_size=test_size, noise_var=noise_var, coeffs=fixed_ar_coefficients[input_size])"
   ]
  },
  {
   "cell_type": "code",
   "execution_count": 15,
   "metadata": {},
   "outputs": [
    {
     "name": "stdout",
     "output_type": "stream",
     "text": [
      "(80, 20) (80,)\n"
     ]
    }
   ],
   "source": [
    "# data中包含X_train, Y_train, X_test, Y_test\n",
    "print(data.X_train.shape,data.y_train.shape)"
   ]
  },
  {
   "cell_type": "code",
   "execution_count": 16,
   "metadata": {},
   "outputs": [
    {
     "name": "stdout",
     "output_type": "stream",
     "text": [
      "(20, 20) (20,)\n"
     ]
    }
   ],
   "source": [
    "print(data.X_test.shape,data.y_test.shape)"
   ]
  },
  {
   "cell_type": "code",
   "execution_count": 5,
   "metadata": {},
   "outputs": [],
   "source": [
    "X_train = torch.from_numpy(data.X_train).float().to(device)\n",
    "X_test = torch.from_numpy(data.X_test).float().to(device)\n",
    "y_train = torch.from_numpy(data.y_train).float().to(device)\n",
    "y_test = torch.from_numpy(data.y_test).float().to(device)"
   ]
  },
  {
   "cell_type": "code",
   "execution_count": 57,
   "metadata": {},
   "outputs": [
    {
     "data": {
      "text/plain": [
       "torch.Size([80, 20])"
      ]
     },
     "execution_count": 57,
     "metadata": {},
     "output_type": "execute_result"
    }
   ],
   "source": [
    "X_train.shape"
   ]
  },
  {
   "cell_type": "code",
   "execution_count": 23,
   "metadata": {},
   "outputs": [
    {
     "data": {
      "text/plain": [
       "torch.Size([80, 1, 20])"
      ]
     },
     "execution_count": 23,
     "metadata": {},
     "output_type": "execute_result"
    }
   ],
   "source": [
    "X_train.unsqueeze(1).shape"
   ]
  },
  {
   "cell_type": "code",
   "execution_count": 6,
   "metadata": {},
   "outputs": [],
   "source": [
    "# 使用slide window, window size=7\n",
    "# 即返回 data=1-7 label=8; data=2-8 label=9\n",
    "def create_dataset(X_data, y_data, look_back=1):\n",
    "    length = X_data.size(0)\n",
    "    for i in range(0,length-look_back):\n",
    "        result = (X_data[i:(i+look_back),:],y_data[i+look_back])\n",
    "        yield result"
   ]
  },
  {
   "cell_type": "code",
   "execution_count": 75,
   "metadata": {
    "scrolled": true
   },
   "outputs": [
    {
     "name": "stdout",
     "output_type": "stream",
     "text": [
      "torch.Size([7, 20]) tensor(-0.1751, device='cuda:0')\n",
      "torch.Size([7, 20]) tensor(-0.2223, device='cuda:0')\n",
      "torch.Size([7, 20]) tensor(0.0469, device='cuda:0')\n",
      "torch.Size([7, 20]) tensor(0.0818, device='cuda:0')\n",
      "torch.Size([7, 20]) tensor(-0.0763, device='cuda:0')\n",
      "torch.Size([7, 20]) tensor(0.1022, device='cuda:0')\n",
      "torch.Size([7, 20]) tensor(0.0935, device='cuda:0')\n",
      "torch.Size([7, 20]) tensor(-0.0546, device='cuda:0')\n",
      "torch.Size([7, 20]) tensor(0.2455, device='cuda:0')\n",
      "torch.Size([7, 20]) tensor(0.1946, device='cuda:0')\n",
      "torch.Size([7, 20]) tensor(0.0043, device='cuda:0')\n",
      "torch.Size([7, 20]) tensor(-0.0064, device='cuda:0')\n",
      "torch.Size([7, 20]) tensor(-0.0950, device='cuda:0')\n",
      "torch.Size([7, 20]) tensor(0.0167, device='cuda:0')\n",
      "torch.Size([7, 20]) tensor(0.0708, device='cuda:0')\n",
      "torch.Size([7, 20]) tensor(-0.2207, device='cuda:0')\n",
      "torch.Size([7, 20]) tensor(-0.1005, device='cuda:0')\n",
      "torch.Size([7, 20]) tensor(-0.0580, device='cuda:0')\n",
      "torch.Size([7, 20]) tensor(-0.1583, device='cuda:0')\n",
      "torch.Size([7, 20]) tensor(-0.0255, device='cuda:0')\n",
      "torch.Size([7, 20]) tensor(0.0117, device='cuda:0')\n",
      "torch.Size([7, 20]) tensor(-0.0885, device='cuda:0')\n",
      "torch.Size([7, 20]) tensor(0.0149, device='cuda:0')\n",
      "torch.Size([7, 20]) tensor(0.1261, device='cuda:0')\n",
      "torch.Size([7, 20]) tensor(0.0360, device='cuda:0')\n",
      "torch.Size([7, 20]) tensor(0.2042, device='cuda:0')\n",
      "torch.Size([7, 20]) tensor(0.0532, device='cuda:0')\n",
      "torch.Size([7, 20]) tensor(-0.0712, device='cuda:0')\n",
      "torch.Size([7, 20]) tensor(0.1302, device='cuda:0')\n",
      "torch.Size([7, 20]) tensor(0.0752, device='cuda:0')\n",
      "torch.Size([7, 20]) tensor(-0.0192, device='cuda:0')\n",
      "torch.Size([7, 20]) tensor(-0.0258, device='cuda:0')\n",
      "torch.Size([7, 20]) tensor(-0.1020, device='cuda:0')\n",
      "torch.Size([7, 20]) tensor(-0.0898, device='cuda:0')\n",
      "torch.Size([7, 20]) tensor(-0.0547, device='cuda:0')\n",
      "torch.Size([7, 20]) tensor(-0.1257, device='cuda:0')\n",
      "torch.Size([7, 20]) tensor(-0.0484, device='cuda:0')\n",
      "torch.Size([7, 20]) tensor(-0.0266, device='cuda:0')\n",
      "torch.Size([7, 20]) tensor(-0.1020, device='cuda:0')\n",
      "torch.Size([7, 20]) tensor(0.0356, device='cuda:0')\n",
      "torch.Size([7, 20]) tensor(0.1260, device='cuda:0')\n",
      "torch.Size([7, 20]) tensor(-0.0231, device='cuda:0')\n",
      "torch.Size([7, 20]) tensor(0.0558, device='cuda:0')\n",
      "torch.Size([7, 20]) tensor(0.0862, device='cuda:0')\n",
      "torch.Size([7, 20]) tensor(0.0465, device='cuda:0')\n",
      "torch.Size([7, 20]) tensor(0.1488, device='cuda:0')\n",
      "torch.Size([7, 20]) tensor(0.0351, device='cuda:0')\n",
      "torch.Size([7, 20]) tensor(-0.0389, device='cuda:0')\n",
      "torch.Size([7, 20]) tensor(0.0083, device='cuda:0')\n",
      "torch.Size([7, 20]) tensor(-0.0385, device='cuda:0')\n",
      "torch.Size([7, 20]) tensor(-0.0887, device='cuda:0')\n",
      "torch.Size([7, 20]) tensor(-0.0254, device='cuda:0')\n",
      "torch.Size([7, 20]) tensor(-0.0726, device='cuda:0')\n",
      "torch.Size([7, 20]) tensor(-0.1060, device='cuda:0')\n",
      "torch.Size([7, 20]) tensor(-0.0382, device='cuda:0')\n",
      "torch.Size([7, 20]) tensor(-0.0513, device='cuda:0')\n",
      "torch.Size([7, 20]) tensor(0.0072, device='cuda:0')\n",
      "torch.Size([7, 20]) tensor(0.0169, device='cuda:0')\n",
      "torch.Size([7, 20]) tensor(-0.0393, device='cuda:0')\n",
      "torch.Size([7, 20]) tensor(0.0835, device='cuda:0')\n",
      "torch.Size([7, 20]) tensor(0.1225, device='cuda:0')\n",
      "torch.Size([7, 20]) tensor(0.0279, device='cuda:0')\n",
      "torch.Size([7, 20]) tensor(0.0752, device='cuda:0')\n",
      "torch.Size([7, 20]) tensor(0.0503, device='cuda:0')\n",
      "torch.Size([7, 20]) tensor(-0.0096, device='cuda:0')\n",
      "torch.Size([7, 20]) tensor(0.0274, device='cuda:0')\n",
      "torch.Size([7, 20]) tensor(0.0079, device='cuda:0')\n",
      "torch.Size([7, 20]) tensor(-0.0469, device='cuda:0')\n",
      "torch.Size([7, 20]) tensor(-0.0320, device='cuda:0')\n",
      "torch.Size([7, 20]) tensor(-0.0749, device='cuda:0')\n",
      "torch.Size([7, 20]) tensor(-0.0983, device='cuda:0')\n",
      "torch.Size([7, 20]) tensor(-0.0141, device='cuda:0')\n",
      "torch.Size([7, 20]) tensor(-0.0573, device='cuda:0')\n"
     ]
    }
   ],
   "source": [
    "test_data = create_dataset(X_train,y_train, look_back=7)\n",
    "for (i,j) in test_data:\n",
    "    print(i.shape,j)"
   ]
  },
  {
   "cell_type": "code",
   "execution_count": 76,
   "metadata": {},
   "outputs": [
    {
     "data": {
      "text/plain": [
       "tensor([[ 0.1488,  0.0351, -0.0389,  0.0083, -0.0385, -0.0887, -0.0254, -0.0726,\n",
       "         -0.1060, -0.0382, -0.0513,  0.0072,  0.0169, -0.0393,  0.0835,  0.1225,\n",
       "          0.0279,  0.0752,  0.0503, -0.0096],\n",
       "        [ 0.0351, -0.0389,  0.0083, -0.0385, -0.0887, -0.0254, -0.0726, -0.1060,\n",
       "         -0.0382, -0.0513,  0.0072,  0.0169, -0.0393,  0.0835,  0.1225,  0.0279,\n",
       "          0.0752,  0.0503, -0.0096,  0.0274],\n",
       "        [-0.0389,  0.0083, -0.0385, -0.0887, -0.0254, -0.0726, -0.1060, -0.0382,\n",
       "         -0.0513,  0.0072,  0.0169, -0.0393,  0.0835,  0.1225,  0.0279,  0.0752,\n",
       "          0.0503, -0.0096,  0.0274,  0.0079],\n",
       "        [ 0.0083, -0.0385, -0.0887, -0.0254, -0.0726, -0.1060, -0.0382, -0.0513,\n",
       "          0.0072,  0.0169, -0.0393,  0.0835,  0.1225,  0.0279,  0.0752,  0.0503,\n",
       "         -0.0096,  0.0274,  0.0079, -0.0469],\n",
       "        [-0.0385, -0.0887, -0.0254, -0.0726, -0.1060, -0.0382, -0.0513,  0.0072,\n",
       "          0.0169, -0.0393,  0.0835,  0.1225,  0.0279,  0.0752,  0.0503, -0.0096,\n",
       "          0.0274,  0.0079, -0.0469, -0.0320],\n",
       "        [-0.0887, -0.0254, -0.0726, -0.1060, -0.0382, -0.0513,  0.0072,  0.0169,\n",
       "         -0.0393,  0.0835,  0.1225,  0.0279,  0.0752,  0.0503, -0.0096,  0.0274,\n",
       "          0.0079, -0.0469, -0.0320, -0.0749],\n",
       "        [-0.0254, -0.0726, -0.1060, -0.0382, -0.0513,  0.0072,  0.0169, -0.0393,\n",
       "          0.0835,  0.1225,  0.0279,  0.0752,  0.0503, -0.0096,  0.0274,  0.0079,\n",
       "         -0.0469, -0.0320, -0.0749, -0.0983]], device='cuda:0')"
      ]
     },
     "execution_count": 76,
     "metadata": {},
     "output_type": "execute_result"
    }
   ],
   "source": [
    "i"
   ]
  },
  {
   "cell_type": "code",
   "execution_count": 77,
   "metadata": {},
   "outputs": [
    {
     "data": {
      "text/plain": [
       "tensor([-0.0254, -0.0726, -0.1060, -0.0382, -0.0513,  0.0072,  0.0169, -0.0393,\n",
       "         0.0835,  0.1225,  0.0279,  0.0752,  0.0503, -0.0096,  0.0274,  0.0079,\n",
       "        -0.0469, -0.0320, -0.0749, -0.0983], device='cuda:0')"
      ]
     },
     "execution_count": 77,
     "metadata": {},
     "output_type": "execute_result"
    }
   ],
   "source": [
    "X_train[-2]"
   ]
  },
  {
   "cell_type": "code",
   "execution_count": 78,
   "metadata": {},
   "outputs": [
    {
     "data": {
      "text/plain": [
       "tensor(-0.0573, device='cuda:0')"
      ]
     },
     "execution_count": 78,
     "metadata": {},
     "output_type": "execute_result"
    }
   ],
   "source": [
    "j"
   ]
  },
  {
   "cell_type": "code",
   "execution_count": 79,
   "metadata": {},
   "outputs": [
    {
     "data": {
      "text/plain": [
       "tensor(-0.0573, device='cuda:0')"
      ]
     },
     "execution_count": 79,
     "metadata": {},
     "output_type": "execute_result"
    }
   ],
   "source": [
    "y_train[-1]"
   ]
  },
  {
   "cell_type": "markdown",
   "metadata": {},
   "source": [
    "## Build Network"
   ]
  },
  {
   "cell_type": "code",
   "execution_count": 7,
   "metadata": {},
   "outputs": [],
   "source": [
    "class TimeSeries(nn.Module):\n",
    "    def __init__(self, input_dim, hidden_dim, batch_size, output_dim=1, num_layers=2):\n",
    "        super(TimeSeries,self).__init__()\n",
    "        self.input_dim = input_dim # 输入的特征的个数\n",
    "        self.hidden_dim = hidden_dim\n",
    "        self.batch_size = batch_size\n",
    "        self.num_layers = num_layers\n",
    "        self.output_dim = output_dim\n",
    "        \n",
    "        # Defeine the GRU layer\n",
    "        self.gru = nn.GRU(self.input_dim, self.hidden_dim, self.num_layers, dropout=0.1)\n",
    "        # Define the output layer\n",
    "        self.fc = nn.Linear(self.hidden_dim, self.output_dim)\n",
    "        \n",
    "    def init_hidden(self):\n",
    "        # initialise hidden state\n",
    "        return (torch.zeros(self.num_layers, self.batch_size, self.hidden_dim).to(device))\n",
    "        # return (torch.zeros(self.num_layers, self.batch_size, self.hidden_dim))\n",
    "    \n",
    "    def forward(self,x):\n",
    "        self.batch_size = x.size(1)\n",
    "        self.hidden = self.init_hidden() # 初始化hidden state\n",
    "        gru_out, self.hidden = self.gru(x, self.hidden)\n",
    "        y_pred = self.fc(gru_out[-1])\n",
    "        return y_pred"
   ]
  },
  {
   "cell_type": "code",
   "execution_count": 39,
   "metadata": {},
   "outputs": [
    {
     "data": {
      "text/plain": [
       "(10, 1, 20)"
      ]
     },
     "execution_count": 39,
     "metadata": {},
     "output_type": "execute_result"
    }
   ],
   "source": [
    "np.random.randn(10,1,20).shape"
   ]
  },
  {
   "cell_type": "code",
   "execution_count": 8,
   "metadata": {},
   "outputs": [
    {
     "data": {
      "text/plain": [
       "tensor([[-0.0021]], device='cuda:0', grad_fn=<AddmmBackward>)"
      ]
     },
     "execution_count": 8,
     "metadata": {},
     "output_type": "execute_result"
    }
   ],
   "source": [
    "# 模型的测试\n",
    "input_data = torch.from_numpy(np.random.randn(7,1,20)).float().to(device)\n",
    "model = TimeSeries(input_dim=20, hidden_dim=20, batch_size=1, output_dim=1, num_layers=2).to(device)\n",
    "model(input_data)"
   ]
  },
  {
   "cell_type": "markdown",
   "metadata": {},
   "source": [
    "## 模型的训练"
   ]
  },
  {
   "cell_type": "code",
   "execution_count": 9,
   "metadata": {
    "scrolled": true
   },
   "outputs": [
    {
     "name": "stdout",
     "output_type": "stream",
     "text": [
      "Epoch:0000, MSE:8.438955307\n",
      "============\n",
      "Epoch:0010, MSE:2.617796659\n",
      "============\n",
      "Epoch:0020, MSE:2.100596189\n",
      "============\n",
      "Epoch:0030, MSE:1.656640410\n",
      "============\n",
      "Epoch:0040, MSE:1.297698498\n",
      "============\n",
      "Epoch:0050, MSE:1.072669864\n",
      "============\n",
      "Epoch:0060, MSE:0.853107750\n",
      "============\n",
      "Epoch:0070, MSE:0.660168946\n",
      "============\n",
      "Epoch:0080, MSE:0.491784811\n",
      "============\n",
      "Epoch:0090, MSE:0.531620502\n",
      "============\n",
      "Epoch:0100, MSE:0.495098591\n",
      "============\n",
      "Epoch:0110, MSE:0.488277167\n",
      "============\n",
      "Epoch:0120, MSE:0.438852519\n",
      "============\n",
      "Epoch:0130, MSE:0.408718497\n",
      "============\n",
      "Epoch:0140, MSE:0.403583318\n",
      "============\n",
      "Epoch:0150, MSE:0.383323967\n",
      "============\n",
      "Epoch:0160, MSE:0.459906161\n",
      "============\n",
      "Epoch:0170, MSE:0.346215844\n",
      "============\n",
      "Epoch:0180, MSE:0.334014773\n",
      "============\n",
      "Epoch:0190, MSE:0.295782954\n",
      "============\n",
      "Epoch:0200, MSE:0.271336615\n",
      "============\n",
      "Epoch:0210, MSE:0.193765327\n",
      "============\n",
      "Epoch:0220, MSE:0.155365109\n",
      "============\n",
      "Epoch:0230, MSE:0.131595090\n",
      "============\n",
      "Epoch:0240, MSE:0.134911284\n",
      "============\n",
      "Epoch:0250, MSE:0.123327047\n",
      "============\n",
      "Epoch:0260, MSE:0.089595281\n",
      "============\n",
      "Epoch:0270, MSE:0.080776535\n",
      "============\n",
      "Epoch:0280, MSE:0.065318339\n",
      "============\n",
      "Epoch:0290, MSE:0.062139522\n",
      "============\n",
      "Epoch:0300, MSE:0.052231308\n",
      "============\n",
      "Epoch:0310, MSE:0.062196679\n",
      "============\n",
      "Epoch:0320, MSE:0.048043706\n",
      "============\n",
      "Epoch:0330, MSE:0.042937677\n",
      "============\n",
      "Epoch:0340, MSE:0.080768086\n",
      "============\n",
      "Epoch:0350, MSE:0.052159518\n",
      "============\n",
      "Epoch:0360, MSE:0.054945845\n",
      "============\n",
      "Epoch:0370, MSE:0.034967080\n",
      "============\n",
      "Epoch:0380, MSE:0.041464012\n",
      "============\n",
      "Epoch:0390, MSE:0.048061218\n",
      "============\n",
      "Epoch:0400, MSE:0.032224592\n",
      "============\n",
      "Epoch:0410, MSE:0.032411598\n",
      "============\n",
      "Epoch:0420, MSE:0.044242334\n",
      "============\n",
      "Epoch:0430, MSE:0.038937658\n",
      "============\n",
      "Epoch:0440, MSE:0.037964210\n",
      "============\n",
      "Epoch:0450, MSE:0.038368408\n",
      "============\n",
      "Epoch:0460, MSE:0.033799101\n",
      "============\n",
      "Epoch:0470, MSE:0.033418432\n",
      "============\n",
      "Epoch:0480, MSE:0.032507479\n",
      "============\n",
      "Epoch:0490, MSE:0.028437112\n",
      "============\n",
      "Epoch:0500, MSE:0.030379133\n",
      "============\n",
      "Epoch:0510, MSE:0.021381896\n",
      "============\n",
      "Epoch:0520, MSE:0.039546181\n",
      "============\n",
      "Epoch:0530, MSE:0.028622765\n",
      "============\n",
      "Epoch:0540, MSE:0.027338743\n",
      "============\n",
      "Epoch:0550, MSE:0.026594631\n",
      "============\n",
      "Epoch:0560, MSE:0.029239174\n",
      "============\n",
      "Epoch:0570, MSE:0.025663683\n",
      "============\n",
      "Epoch:0580, MSE:0.030488843\n",
      "============\n",
      "Epoch:0590, MSE:0.024185138\n",
      "============\n",
      "Epoch:0600, MSE:0.029207340\n",
      "============\n",
      "Epoch:0610, MSE:0.023380565\n",
      "============\n",
      "Epoch:0620, MSE:0.024705695\n",
      "============\n",
      "Epoch:0630, MSE:0.031011906\n",
      "============\n",
      "Epoch:0640, MSE:0.023526853\n",
      "============\n",
      "Epoch:0650, MSE:0.022914618\n",
      "============\n",
      "Epoch:0660, MSE:0.024963634\n",
      "============\n",
      "Epoch:0670, MSE:0.018842705\n",
      "============\n",
      "Epoch:0680, MSE:0.025572550\n",
      "============\n",
      "Epoch:0690, MSE:0.028438497\n",
      "============\n",
      "Epoch:0700, MSE:0.021202536\n",
      "============\n",
      "Epoch:0710, MSE:0.017906018\n",
      "============\n",
      "Epoch:0720, MSE:0.019026846\n",
      "============\n",
      "Epoch:0730, MSE:0.023395086\n",
      "============\n",
      "Epoch:0740, MSE:0.025533371\n",
      "============\n",
      "Epoch:0750, MSE:0.020253841\n",
      "============\n",
      "Epoch:0760, MSE:0.017440746\n",
      "============\n",
      "Epoch:0770, MSE:0.022035001\n",
      "============\n",
      "Epoch:0780, MSE:0.022637296\n",
      "============\n",
      "Epoch:0790, MSE:0.024738414\n",
      "============\n",
      "Epoch:0800, MSE:0.018230898\n",
      "============\n",
      "Epoch:0810, MSE:0.019013017\n",
      "============\n",
      "Epoch:0820, MSE:0.023190463\n",
      "============\n",
      "Epoch:0830, MSE:0.020898459\n",
      "============\n",
      "Epoch:0840, MSE:0.016146187\n",
      "============\n",
      "Epoch:0850, MSE:0.019856000\n",
      "============\n",
      "Epoch:0860, MSE:0.019041531\n",
      "============\n",
      "Epoch:0870, MSE:0.017375395\n",
      "============\n",
      "Epoch:0880, MSE:0.017324330\n",
      "============\n",
      "Epoch:0890, MSE:0.020868475\n",
      "============\n",
      "Epoch:0900, MSE:0.017183583\n",
      "============\n",
      "Epoch:0910, MSE:0.016778342\n",
      "============\n",
      "Epoch:0920, MSE:0.021381458\n",
      "============\n",
      "Epoch:0930, MSE:0.016275313\n",
      "============\n",
      "Epoch:0940, MSE:0.026217552\n",
      "============\n",
      "Epoch:0950, MSE:0.018140277\n",
      "============\n",
      "Epoch:0960, MSE:0.015722105\n",
      "============\n",
      "Epoch:0970, MSE:0.016544076\n",
      "============\n",
      "Epoch:0980, MSE:0.019499419\n",
      "============\n",
      "Epoch:0990, MSE:0.008911056\n",
      "============\n"
     ]
    }
   ],
   "source": [
    "# 模型的初始化\n",
    "model = TimeSeries(input_dim=20, hidden_dim=28, batch_size=1, output_dim=1, num_layers=3).to(device)\n",
    "\n",
    "# 定义损失函数和优化器\n",
    "criterion = nn.MSELoss()\n",
    "optimizer = optim.Adam(model.parameters(),lr=0.001)\n",
    "\n",
    "# 模型的训练\n",
    "pre_output = y_train.clone()\n",
    "num_epochs = 1000\n",
    "hist = np.zeros(num_epochs) # 用来记录每一个epoch的误差\n",
    "\n",
    "for t in range(num_epochs):\n",
    "    test_data = create_dataset(X_train,y_train, look_back=7) # 这个要每次刷新\n",
    "    loss = torch.tensor([0.0]).float().to(device)\n",
    "    for num, (i,j) in enumerate(test_data):\n",
    "        optimizer.zero_grad()\n",
    "        # reset hidden states\n",
    "        model.hidden = model.init_hidden()\n",
    "        # forward\n",
    "        output = model(i.unsqueeze(1))\n",
    "        pre_output[num+7]=output\n",
    "        # backward\n",
    "        loss = loss + criterion(output, j)\n",
    "    loss.backward()\n",
    "    # optimize\n",
    "    optimizer.step()\n",
    "    # 打印与记录误差\n",
    "    if t%10 == 0:\n",
    "        print(\"Epoch:{:0>4d}, MSE:{:<10.9f}\".format(t,loss.item()))\n",
    "        print('============')\n",
    "    hist[t] = loss.item()"
   ]
  },
  {
   "cell_type": "markdown",
   "metadata": {},
   "source": [
    "## 结果的可视化"
   ]
  },
  {
   "cell_type": "code",
   "execution_count": 10,
   "metadata": {},
   "outputs": [
    {
     "data": {
      "text/plain": [
       "<matplotlib.legend.Legend at 0x2d0025cb0b8>"
      ]
     },
     "execution_count": 10,
     "metadata": {},
     "output_type": "execute_result"
    },
    {
     "data": {
      "image/png": "[encoded data removed]",
      "text/plain": [
       "<Figure size 864x504 with 1 Axes>"
      ]
     },
     "metadata": {
      "needs_background": "light"
     },
     "output_type": "display_data"
    }
   ],
   "source": [
    "# 打印预测和实际\n",
    "fig = plt.figure(figsize=(12,7))\n",
    "ax = fig.add_subplot(1,1,1)\n",
    "\n",
    "ax.plot(pre_output.cpu().detach().numpy(), label=\"Preds\")\n",
    "ax.plot(y_train.cpu().detach().numpy(), label=\"Data\")\n",
    "ax.legend()"
   ]
  },
  {
   "cell_type": "code",
   "execution_count": 11,
   "metadata": {},
   "outputs": [
    {
     "data": {
      "text/plain": [
       "<matplotlib.legend.Legend at 0x2d00dbd92b0>"
      ]
     },
     "execution_count": 11,
     "metadata": {},
     "output_type": "execute_result"
    },
    {
     "data": {
      "image/png": "[encoded data removed]",
      "text/plain": [
       "<Figure size 864x504 with 1 Axes>"
      ]
     },
     "metadata": {
      "needs_background": "light"
     },
     "output_type": "display_data"
    }
   ],
   "source": [
    "# 打印Loss\n",
    "fig = plt.figure(figsize=(12,7))\n",
    "ax = fig.add_subplot(1,1,1)\n",
    "\n",
    "ax.plot(hist, label=\"Training loss\")\n",
    "ax.legend()"
   ]
  },
  {
   "cell_type": "code",
   "execution_count": null,
   "metadata": {},
   "outputs": [],
   "source": []
  }
 ],
 "metadata": {
  "kernelspec": {
   "display_name": "Python 3",
   "language": "python",
   "name": "python3"
  },
  "language_info": {
   "codemirror_mode": {
    "name": "ipython",
    "version": 3
   },
   "file_extension": ".py",
   "mimetype": "text/x-python",
   "name": "python",
   "nbconvert_exporter": "python",
   "pygments_lexer": "ipython3",
   "version": "3.7.3"
  }
 },
 "nbformat": 4,
 "nbformat_minor": 2
}

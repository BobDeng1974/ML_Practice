{
  "nbformat": 4,
  "nbformat_minor": 0,
  "metadata": {
    "colab": {
      "name": "梯度下降法示例.ipynb",
      "provenance": [],
      "collapsed_sections": []
    },
    "kernelspec": {
      "name": "python3",
      "display_name": "Python 3"
    }
  },
  "cells": [
    {
      "cell_type": "code",
      "metadata": {
        "id": "zbyTHhSK1DGi",
        "colab_type": "code",
        "colab": {}
      },
      "source": [
        "import torch\n",
        "import numpy as np\n",
        "import matplotlib.pyplot as plt\n",
        "%matplotlib inline"
      ],
      "execution_count": 1,
      "outputs": []
    },
    {
      "cell_type": "markdown",
      "metadata": {
        "id": "_RewLgEZUCEK",
        "colab_type": "text"
      },
      "source": [
        "## 手动梯度下降法"
      ]
    },
    {
      "cell_type": "markdown",
      "metadata": {
        "id": "dc40QQYdU0S9",
        "colab_type": "text"
      },
      "source": [
        "### 生成测试数据集"
      ]
    },
    {
      "cell_type": "code",
      "metadata": {
        "id": "Gfv3EBiR-fLo",
        "colab_type": "code",
        "colab": {}
      },
      "source": [
        "# 定义数据集合\n",
        "X = np.arange(0,10,0.1, dtype=np.float32)\n",
        "Y = 2*X + 2*np.random.random(100)"
      ],
      "execution_count": 2,
      "outputs": []
    },
    {
      "cell_type": "code",
      "metadata": {
        "id": "nUZ4-ujR-hBh",
        "colab_type": "code",
        "colab": {
          "base_uri": "https://localhost:8080/",
          "height": 483
        },
        "outputId": "a69072eb-6877-4550-f1b7-e5ce67dbb770"
      },
      "source": [
        "# 可视化数据集\n",
        "fig = plt.figure(figsize=(12,8))\n",
        "ax = fig.add_subplot(1,1,1)\n",
        "\n",
        "ax.scatter(X,Y)\n",
        "\n",
        "fig.show()"
      ],
      "execution_count": 3,
      "outputs": [
        {
          "output_type": "display_data",
          "data": {
            "image/png": "[encoded data removed]",
            "text/plain": [
              "<Figure size 864x576 with 1 Axes>"
            ]
          },
          "metadata": {
            "tags": [],
            "needs_background": "light"
          }
        }
      ]
    },
    {
      "cell_type": "markdown",
      "metadata": {
        "id": "r0swU3I4U2Y9",
        "colab_type": "text"
      },
      "source": [
        "### 反向传播"
      ]
    },
    {
      "cell_type": "markdown",
      "metadata": {
        "id": "tLV652O76lLv",
        "colab_type": "text"
      },
      "source": [
        "我们可以将损失函数值Loss定义如下：\n",
        "\n",
        "$$Loss(w) = \\frac{1}{N}\\sum_{i=1}^N(w\\cdot x_i - y_i)^2$$\n",
        "\n",
        "接着我们求loss关于w的梯度.\n",
        "\n",
        "$$ \\frac{\\partial{Loss}}{\\partial w} = \\frac{1}{N}\\sum_{i=1}^N(2wx_{i}^2-2x_{i}y_{i}) $$"
      ]
    },
    {
      "cell_type": "code",
      "metadata": {
        "id": "H7xrT_jgeoAw",
        "colab_type": "code",
        "colab": {}
      },
      "source": [
        "#返回dJ/dw\n",
        "def gradient(x, y, w):\n",
        "    \"\"\"计算梯度\n",
        "    \"\"\"\n",
        "    return np.mean(2*w*x*x-2*x*y)"
      ],
      "execution_count": 4,
      "outputs": []
    },
    {
      "cell_type": "markdown",
      "metadata": {
        "id": "c1gcSvCFVZpv",
        "colab_type": "text"
      },
      "source": [
        "### 梯度下降\n",
        "\n",
        "接着我们就可以对参数w进行优化, 有以下的步骤:\n",
        "\n",
        "1. 随机初始化一个 w 的值。\n",
        "2. 在该 w 下进行正向传播，得到所有 x 的预测值 y_pre。\n",
        "3. 通过实际的值 y 和预测值 y_pre 计算损失。\n",
        "4. 通过损失计算梯度 dw。\n",
        "5. 更新$ w：w = w-lr\\cdot dw$，其中 $lr$ 为步长，可自定义具体的值。\n",
        "6. 重复步骤 $2-5$，直到损失降到较小位置"
      ]
    },
    {
      "cell_type": "code",
      "metadata": {
        "id": "MJWiGnMrelQF",
        "colab_type": "code",
        "colab": {}
      },
      "source": [
        "# 我们先定义一些变量\n",
        "\n",
        "def forward(x):\n",
        "    return w * x\n",
        "\n",
        "def loss(y, y_pred):\n",
        "    return ((y_pred - y)**2).mean()\n",
        "\n",
        "w = 0.0 # 初始化系数\n",
        "\n",
        "# 定义步长和迭代次数\n",
        "learning_rate = 0.001\n",
        "n_iters = 100"
      ],
      "execution_count": 8,
      "outputs": []
    },
    {
      "cell_type": "code",
      "metadata": {
        "id": "At1cYhRPeqwU",
        "colab_type": "code",
        "colab": {
          "base_uri": "https://localhost:8080/",
          "height": 125
        },
        "outputId": "390d7c52-2a47-4fe8-f954-c1bfbd63dca7"
      },
      "source": [
        "for epoch in range(n_iters):\n",
        "    # 彰显传播\n",
        "    y_pred = forward(X)\n",
        "    #计算损失\n",
        "    l = loss(Y, y_pred)\n",
        "    #计算梯度\n",
        "    dw = gradient(X, Y, w)\n",
        "    #更新权重 w\n",
        "    w = w - learning_rate * dw\n",
        "\n",
        "    if epoch % 20 == 0:\n",
        "        print(f'epoch {epoch+1}: w = {w:.3f}, loss = {l:.8f}')\n",
        "     \n",
        "print(f'根据训练模型预测，当 x=7 时，y 的值为： {forward(7):.3f}')"
      ],
      "execution_count": 9,
      "outputs": [
        {
          "output_type": "stream",
          "text": [
            "epoch 1: w = 0.141, loss = 152.59258767\n",
            "epoch 21: w = 1.635, loss = 10.60649751\n",
            "epoch 41: w = 2.019, loss = 1.22531436\n",
            "epoch 61: w = 2.118, loss = 0.60549024\n",
            "epoch 81: w = 2.143, loss = 0.56453753\n",
            "根据训练模型预测，当 x=7 时，y 的值为： 15.046\n"
          ],
          "name": "stdout"
        }
      ]
    },
    {
      "cell_type": "code",
      "metadata": {
        "id": "skbYBkcd-2Ua",
        "colab_type": "code",
        "colab": {
          "base_uri": "https://localhost:8080/",
          "height": 483
        },
        "outputId": "332a21b3-7153-48c6-b518-d27a8b6c847d"
      },
      "source": [
        "# 绘制预测曲线\n",
        "y_pre = forward(X)\n",
        "\n",
        "fig = plt.figure(figsize=(12,8))\n",
        "ax = fig.add_subplot(1,1,1)\n",
        "\n",
        "ax.scatter(X,Y)\n",
        "ax.plot(X, y_pre, 'g-',  lw=3)\n",
        "\n",
        "fig.show()"
      ],
      "execution_count": 10,
      "outputs": [
        {
          "output_type": "display_data",
          "data": {
            "image/png": "[encoded data removed]",
            "text/plain": [
              "<Figure size 864x576 with 1 Axes>"
            ]
          },
          "metadata": {
            "tags": [],
            "needs_background": "light"
          }
        }
      ]
    },
    {
      "cell_type": "markdown",
      "metadata": {
        "id": "_e9ZUr3__RfO",
        "colab_type": "text"
      },
      "source": [
        "## 使用Pytorch进行梯度下降\n",
        "\n",
        "使用Pytorch来求解上面的问题."
      ]
    },
    {
      "cell_type": "code",
      "metadata": {
        "id": "ixy966MFE28s",
        "colab_type": "code",
        "colab": {}
      },
      "source": [
        "X = np.arange(0,10,0.1, dtype=np.float32)\n",
        "Y = 2*X + 2*np.random.random(100)\n",
        "\n",
        "X_tensor = torch.from_numpy(X)\n",
        "Y_tensor = torch.from_numpy(Y)\n",
        "\n",
        "w = torch.tensor(0.0, dtype=torch.float32, requires_grad=True)\n",
        "\n",
        "learning_rate = 0.001\n",
        "n_iters = 100"
      ],
      "execution_count": 40,
      "outputs": []
    },
    {
      "cell_type": "code",
      "metadata": {
        "id": "B6xR-m2S_QQO",
        "colab_type": "code",
        "colab": {
          "base_uri": "https://localhost:8080/",
          "height": 125
        },
        "outputId": "7d39e82d-5825-4b4f-afbd-b4e2e56f84fd"
      },
      "source": [
        "for epoch in range(n_iters):\n",
        "    y_pred = forward(X_tensor)\n",
        "    l = loss(Y_tensor, y_pred) # 求误差\n",
        "    l.backward() # 求梯度\n",
        "    with torch.no_grad():\n",
        "        w.data = w.data - learning_rate * w.grad\n",
        "    \n",
        "    # 清空梯度\n",
        "    w.grad.zero_()\n",
        "\n",
        "    if epoch % 20 == 0:\n",
        "        print(f'epoch {epoch+1}: w = {w.item():.3f}, loss = {l.item():.3f}')\n",
        "\n",
        "print(f'根据训练模型预测, 当x=5时, y的值为： {forward(5):.3f}')"
      ],
      "execution_count": 41,
      "outputs": [
        {
          "output_type": "stream",
          "text": [
            "epoch 1: w = 0.140, loss = 149.477\n",
            "epoch 21: w = 1.618, loss = 10.344\n",
            "epoch 41: w = 1.999, loss = 1.151\n",
            "epoch 61: w = 2.096, loss = 0.544\n",
            "epoch 81: w = 2.121, loss = 0.504\n",
            "根据训练模型预测, 当x=5时, y的值为： 10.638\n"
          ],
          "name": "stdout"
        }
      ]
    },
    {
      "cell_type": "code",
      "metadata": {
        "id": "hnjovDoBEzfp",
        "colab_type": "code",
        "colab": {
          "base_uri": "https://localhost:8080/",
          "height": 483
        },
        "outputId": "4236dee6-e113-4ac5-914e-732a2f802723"
      },
      "source": [
        "# 绘制预测曲线\n",
        "y_pre = forward(X_tensor).detach().numpy()\n",
        "\n",
        "fig = plt.figure(figsize=(12,8))\n",
        "ax = fig.add_subplot(1,1,1)\n",
        "\n",
        "ax.scatter(X,Y)\n",
        "ax.plot(X, y_pre, 'g-',  lw=3)\n",
        "\n",
        "fig.show()"
      ],
      "execution_count": 46,
      "outputs": [
        {
          "output_type": "display_data",
          "data": {
            "image/png": "[encoded data removed]",
            "text/plain": [
              "<Figure size 864x576 with 1 Axes>"
            ]
          },
          "metadata": {
            "tags": [],
            "needs_background": "light"
          }
        }
      ]
    },
    {
      "cell_type": "code",
      "metadata": {
        "id": "Q1lsID8TH9T_",
        "colab_type": "code",
        "colab": {}
      },
      "source": [
        ""
      ],
      "execution_count": null,
      "outputs": []
    }
  ]
}
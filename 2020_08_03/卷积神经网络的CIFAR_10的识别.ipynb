{
  "nbformat": 4,
  "nbformat_minor": 0,
  "metadata": {
    "colab": {
      "name": "卷积神经网络的CIFAR-10的识别.ipynb",
      "provenance": [],
      "collapsed_sections": []
    },
    "kernelspec": {
      "name": "python3",
      "display_name": "Python 3"
    },
    "accelerator": "GPU",
    "widgets": {
      "application/vnd.jupyter.widget-state+json": {
        "e303729eeb8a4fc9a9a271f5c5c06ad5": {
          "model_module": "@jupyter-widgets/controls",
          "model_name": "HBoxModel",
          "state": {
            "_view_name": "HBoxView",
            "_dom_classes": [],
            "_model_name": "HBoxModel",
            "_view_module": "@jupyter-widgets/controls",
            "_model_module_version": "1.5.0",
            "_view_count": null,
            "_view_module_version": "1.5.0",
            "box_style": "",
            "layout": "IPY_MODEL_786215e0332845e2a0076ba76cabe978",
            "_model_module": "@jupyter-widgets/controls",
            "children": [
              "IPY_MODEL_91489b9aa3944c9786e351c7fe2a52be",
              "IPY_MODEL_37427aa4ea5b413e8b51ee8af89603e1"
            ]
          }
        },
        "786215e0332845e2a0076ba76cabe978": {
          "model_module": "@jupyter-widgets/base",
          "model_name": "LayoutModel",
          "state": {
            "_view_name": "LayoutView",
            "grid_template_rows": null,
            "right": null,
            "justify_content": null,
            "_view_module": "@jupyter-widgets/base",
            "overflow": null,
            "_model_module_version": "1.2.0",
            "_view_count": null,
            "flex_flow": null,
            "width": null,
            "min_width": null,
            "border": null,
            "align_items": null,
            "bottom": null,
            "_model_module": "@jupyter-widgets/base",
            "top": null,
            "grid_column": null,
            "overflow_y": null,
            "overflow_x": null,
            "grid_auto_flow": null,
            "grid_area": null,
            "grid_template_columns": null,
            "flex": null,
            "_model_name": "LayoutModel",
            "justify_items": null,
            "grid_row": null,
            "max_height": null,
            "align_content": null,
            "visibility": null,
            "align_self": null,
            "height": null,
            "min_height": null,
            "padding": null,
            "grid_auto_rows": null,
            "grid_gap": null,
            "max_width": null,
            "order": null,
            "_view_module_version": "1.2.0",
            "grid_template_areas": null,
            "object_position": null,
            "object_fit": null,
            "grid_auto_columns": null,
            "margin": null,
            "display": null,
            "left": null
          }
        },
        "91489b9aa3944c9786e351c7fe2a52be": {
          "model_module": "@jupyter-widgets/controls",
          "model_name": "FloatProgressModel",
          "state": {
            "_view_name": "ProgressView",
            "style": "IPY_MODEL_53d116893db640109a26451ddbff91c6",
            "_dom_classes": [],
            "description": "",
            "_model_name": "FloatProgressModel",
            "bar_style": "info",
            "max": 1,
            "_view_module": "@jupyter-widgets/controls",
            "_model_module_version": "1.5.0",
            "value": 1,
            "_view_count": null,
            "_view_module_version": "1.5.0",
            "orientation": "horizontal",
            "min": 0,
            "description_tooltip": null,
            "_model_module": "@jupyter-widgets/controls",
            "layout": "IPY_MODEL_df753db1a9f641bb850675454a0f4f55"
          }
        },
        "37427aa4ea5b413e8b51ee8af89603e1": {
          "model_module": "@jupyter-widgets/controls",
          "model_name": "HTMLModel",
          "state": {
            "_view_name": "HTMLView",
            "style": "IPY_MODEL_5a01dd32b44847da9d043658849d983c",
            "_dom_classes": [],
            "description": "",
            "_model_name": "HTMLModel",
            "placeholder": "​",
            "_view_module": "@jupyter-widgets/controls",
            "_model_module_version": "1.5.0",
            "value": " 170500096/? [00:20&lt;00:00, 33643762.73it/s]",
            "_view_count": null,
            "_view_module_version": "1.5.0",
            "description_tooltip": null,
            "_model_module": "@jupyter-widgets/controls",
            "layout": "IPY_MODEL_31faface7f334930b13b2abf53e484c6"
          }
        },
        "53d116893db640109a26451ddbff91c6": {
          "model_module": "@jupyter-widgets/controls",
          "model_name": "ProgressStyleModel",
          "state": {
            "_view_name": "StyleView",
            "_model_name": "ProgressStyleModel",
            "description_width": "initial",
            "_view_module": "@jupyter-widgets/base",
            "_model_module_version": "1.5.0",
            "_view_count": null,
            "_view_module_version": "1.2.0",
            "bar_color": null,
            "_model_module": "@jupyter-widgets/controls"
          }
        },
        "df753db1a9f641bb850675454a0f4f55": {
          "model_module": "@jupyter-widgets/base",
          "model_name": "LayoutModel",
          "state": {
            "_view_name": "LayoutView",
            "grid_template_rows": null,
            "right": null,
            "justify_content": null,
            "_view_module": "@jupyter-widgets/base",
            "overflow": null,
            "_model_module_version": "1.2.0",
            "_view_count": null,
            "flex_flow": null,
            "width": null,
            "min_width": null,
            "border": null,
            "align_items": null,
            "bottom": null,
            "_model_module": "@jupyter-widgets/base",
            "top": null,
            "grid_column": null,
            "overflow_y": null,
            "overflow_x": null,
            "grid_auto_flow": null,
            "grid_area": null,
            "grid_template_columns": null,
            "flex": null,
            "_model_name": "LayoutModel",
            "justify_items": null,
            "grid_row": null,
            "max_height": null,
            "align_content": null,
            "visibility": null,
            "align_self": null,
            "height": null,
            "min_height": null,
            "padding": null,
            "grid_auto_rows": null,
            "grid_gap": null,
            "max_width": null,
            "order": null,
            "_view_module_version": "1.2.0",
            "grid_template_areas": null,
            "object_position": null,
            "object_fit": null,
            "grid_auto_columns": null,
            "margin": null,
            "display": null,
            "left": null
          }
        },
        "5a01dd32b44847da9d043658849d983c": {
          "model_module": "@jupyter-widgets/controls",
          "model_name": "DescriptionStyleModel",
          "state": {
            "_view_name": "StyleView",
            "_model_name": "DescriptionStyleModel",
            "description_width": "",
            "_view_module": "@jupyter-widgets/base",
            "_model_module_version": "1.5.0",
            "_view_count": null,
            "_view_module_version": "1.2.0",
            "_model_module": "@jupyter-widgets/controls"
          }
        },
        "31faface7f334930b13b2abf53e484c6": {
          "model_module": "@jupyter-widgets/base",
          "model_name": "LayoutModel",
          "state": {
            "_view_name": "LayoutView",
            "grid_template_rows": null,
            "right": null,
            "justify_content": null,
            "_view_module": "@jupyter-widgets/base",
            "overflow": null,
            "_model_module_version": "1.2.0",
            "_view_count": null,
            "flex_flow": null,
            "width": null,
            "min_width": null,
            "border": null,
            "align_items": null,
            "bottom": null,
            "_model_module": "@jupyter-widgets/base",
            "top": null,
            "grid_column": null,
            "overflow_y": null,
            "overflow_x": null,
            "grid_auto_flow": null,
            "grid_area": null,
            "grid_template_columns": null,
            "flex": null,
            "_model_name": "LayoutModel",
            "justify_items": null,
            "grid_row": null,
            "max_height": null,
            "align_content": null,
            "visibility": null,
            "align_self": null,
            "height": null,
            "min_height": null,
            "padding": null,
            "grid_auto_rows": null,
            "grid_gap": null,
            "max_width": null,
            "order": null,
            "_view_module_version": "1.2.0",
            "grid_template_areas": null,
            "object_position": null,
            "object_fit": null,
            "grid_auto_columns": null,
            "margin": null,
            "display": null,
            "left": null
          }
        }
      }
    }
  },
  "cells": [
    {
      "cell_type": "code",
      "metadata": {
        "id": "zbyTHhSK1DGi",
        "colab_type": "code",
        "colab": {
          "base_uri": "https://localhost:8080/",
          "height": 35
        },
        "outputId": "b4ae9682-7b40-4987-c727-a3a8a27bc0a2"
      },
      "source": [
        "import torch\n",
        "import torch.nn as nn\n",
        "import torchvision\n",
        "import torchvision.transforms as transforms\n",
        "import torch.nn.functional as F\n",
        "\n",
        "import numpy as np\n",
        "import pandas as pd\n",
        "import matplotlib.pyplot as plt\n",
        "%matplotlib inline\n",
        "\n",
        "\n",
        "# Device configuration\n",
        "device = torch.device('cuda' if torch.cuda.is_available() else 'cpu')\n",
        "device"
      ],
      "execution_count": 10,
      "outputs": [
        {
          "output_type": "execute_result",
          "data": {
            "text/plain": [
              "device(type='cuda')"
            ]
          },
          "metadata": {
            "tags": []
          },
          "execution_count": 10
        }
      ]
    },
    {
      "cell_type": "markdown",
      "metadata": {
        "id": "dc40QQYdU0S9",
        "colab_type": "text"
      },
      "source": [
        "## 数据加载\n",
        "\n",
        "### 创建dataset\n",
        "- 加载CIFAR-10数据\n",
        "- 进行数据预处理, (转换为tensor, 并进行标准化)\n",
        "\n",
        "下面简单说明以下为什么标准化里的参数都是0.5, 这可以保证标准化之后的图像的像素值在-1到1之间. 这是因为: \n",
        "\n",
        "For example, the minimum value 0 will be converted to (0-0.5)/0.5=-1, the maximum value of 1 will be converted to (1-0.5)/0.5=1.\n",
        "\n",
        "### 创建dataloader\n",
        "- 将dataset传入dataloader, 设置batchsize"
      ]
    },
    {
      "cell_type": "code",
      "metadata": {
        "id": "Gfv3EBiR-fLo",
        "colab_type": "code",
        "colab": {
          "base_uri": "https://localhost:8080/",
          "height": 427,
          "referenced_widgets": [
            "e303729eeb8a4fc9a9a271f5c5c06ad5",
            "786215e0332845e2a0076ba76cabe978",
            "91489b9aa3944c9786e351c7fe2a52be",
            "37427aa4ea5b413e8b51ee8af89603e1",
            "53d116893db640109a26451ddbff91c6",
            "df753db1a9f641bb850675454a0f4f55",
            "5a01dd32b44847da9d043658849d983c",
            "31faface7f334930b13b2abf53e484c6"
          ]
        },
        "outputId": "fc53692f-43ae-487e-ae84-3f712398766b"
      },
      "source": [
        "# 将数据集合下载到指定目录下,这里的transform表示，数据加载时所需要做的预处理操作\n",
        "transform = transforms.Compose(\n",
        "    [transforms.ToTensor(),\n",
        "     transforms.Normalize((0.5, 0.5, 0.5), (0.5, 0.5, 0.5))])\n",
        "\n",
        "# 加载训练集合(Train)\n",
        "train_dataset = torchvision.datasets.CIFAR10(root='./data',\n",
        "                                           train=True,\n",
        "                                           transform=transform,\n",
        "                                           download=True)\n",
        "\n",
        "# 加载测试集合(Test)\n",
        "test_dataset = torchvision.datasets.CIFAR10(root='./data',\n",
        "                                          train=False,\n",
        "                                          transform=transform,\n",
        "                                          download=True)\n",
        "print(train_dataset) # 训练集\n",
        "print(test_dataset) # 测试集"
      ],
      "execution_count": 2,
      "outputs": [
        {
          "output_type": "stream",
          "text": [
            "Downloading https://www.cs.toronto.edu/~kriz/cifar-10-python.tar.gz to ./data/cifar-10-python.tar.gz\n"
          ],
          "name": "stdout"
        },
        {
          "output_type": "display_data",
          "data": {
            "application/vnd.jupyter.widget-view+json": {
              "model_id": "e303729eeb8a4fc9a9a271f5c5c06ad5",
              "version_minor": 0,
              "version_major": 2
            },
            "text/plain": [
              "HBox(children=(FloatProgress(value=1.0, bar_style='info', max=1.0), HTML(value='')))"
            ]
          },
          "metadata": {
            "tags": []
          }
        },
        {
          "output_type": "stream",
          "text": [
            "Extracting ./data/cifar-10-python.tar.gz to ./data\n",
            "Files already downloaded and verified\n",
            "Dataset CIFAR10\n",
            "    Number of datapoints: 50000\n",
            "    Root location: ./data\n",
            "    Split: Train\n",
            "    StandardTransform\n",
            "Transform: Compose(\n",
            "               ToTensor()\n",
            "               Normalize(mean=(0.5, 0.5, 0.5), std=(0.5, 0.5, 0.5))\n",
            "           )\n",
            "Dataset CIFAR10\n",
            "    Number of datapoints: 10000\n",
            "    Root location: ./data\n",
            "    Split: Test\n",
            "    StandardTransform\n",
            "Transform: Compose(\n",
            "               ToTensor()\n",
            "               Normalize(mean=(0.5, 0.5, 0.5), std=(0.5, 0.5, 0.5))\n",
            "           )\n"
          ],
          "name": "stdout"
        }
      ]
    },
    {
      "cell_type": "code",
      "metadata": {
        "id": "i7sziaoN9xkm",
        "colab_type": "code",
        "colab": {}
      },
      "source": [
        "# 定义class\n",
        "classes = ('plane', 'car', 'bird', 'cat',\n",
        "           'deer', 'dog', 'frog', 'horse', 'ship', 'truck')"
      ],
      "execution_count": 3,
      "outputs": []
    },
    {
      "cell_type": "code",
      "metadata": {
        "id": "nUZ4-ujR-hBh",
        "colab_type": "code",
        "colab": {}
      },
      "source": [
        "batch_size = 10\n",
        "# 根据数据集定义数据加载器\n",
        "train_loader = torch.utils.data.DataLoader(dataset=train_dataset,\n",
        "                                           batch_size=batch_size,\n",
        "                                           shuffle=True)\n",
        "\n",
        "test_loader = torch.utils.data.DataLoader(dataset=test_dataset,\n",
        "                                          batch_size=batch_size,\n",
        "                                          shuffle=False)"
      ],
      "execution_count": 4,
      "outputs": []
    },
    {
      "cell_type": "code",
      "metadata": {
        "id": "MPNacuNdQkSG",
        "colab_type": "code",
        "colab": {
          "base_uri": "https://localhost:8080/",
          "height": 205
        },
        "outputId": "53806a95-306b-4777-d175-fc93c7fb6e83"
      },
      "source": [
        "def imshow(img):\n",
        "    img = img / 2 + 0.5     # unnormalize\n",
        "    npimg = img.numpy()\n",
        "    plt.imshow(np.transpose(npimg, (1, 2, 0)))\n",
        "    plt.show()\n",
        "\n",
        "\n",
        "# get some random training images\n",
        "dataiter = iter(train_loader)\n",
        "images, labels = dataiter.next()\n",
        "\n",
        "# show images\n",
        "imshow(torchvision.utils.make_grid(images, nrow=5))\n",
        "# print labels\n",
        "print(' '.join('%5s' % classes[labels[j]] for j in range(10)))"
      ],
      "execution_count": 9,
      "outputs": [
        {
          "output_type": "display_data",
          "data": {
            "image/png": "[encoded data removed]",
            "text/plain": [
              "<Figure size 432x288 with 1 Axes>"
            ]
          },
          "metadata": {
            "tags": [],
            "needs_background": "light"
          }
        },
        {
          "output_type": "stream",
          "text": [
            " bird   car  frog truck   cat  frog   car truck plane  bird\n"
          ],
          "name": "stdout"
        }
      ]
    },
    {
      "cell_type": "markdown",
      "metadata": {
        "id": "2BLJ04g6jCvo",
        "colab_type": "text"
      },
      "source": [
        "## 网络的构建\n"
      ]
    },
    {
      "cell_type": "code",
      "metadata": {
        "id": "FEgBsVaYjEbG",
        "colab_type": "code",
        "colab": {
          "base_uri": "https://localhost:8080/",
          "height": 161
        },
        "outputId": "98d0b95d-fd70-4ab8-90e2-86819b4fc24b"
      },
      "source": [
        "class Net(nn.Module):\n",
        "    def __init__(self):\n",
        "        super(Net, self).__init__()\n",
        "        self.conv1 = nn.Conv2d(3, 6, 5)\n",
        "        self.pool = nn.MaxPool2d(2, 2)\n",
        "        self.conv2 = nn.Conv2d(6, 16, 5)\n",
        "        self.fc1 = nn.Linear(16 * 5 * 5, 120)\n",
        "        self.fc2 = nn.Linear(120, 84)\n",
        "        self.fc3 = nn.Linear(84, 10)\n",
        "\n",
        "    def forward(self, x):\n",
        "        x = self.pool(F.relu(self.conv1(x))) # n*6*14*14\n",
        "        x = self.pool(F.relu(self.conv2(x))) # n*16*5*5\n",
        "        x = x.view(-1, 16 * 5 * 5) # n*400\n",
        "        x = F.relu(self.fc1(x)) # n*120\n",
        "        x = F.relu(self.fc2(x)) # n*84\n",
        "        x = self.fc3(x) # n*10\n",
        "        return x\n",
        "\n",
        "net = Net().to(device)\n",
        "print(net)"
      ],
      "execution_count": 18,
      "outputs": [
        {
          "output_type": "stream",
          "text": [
            "Net(\n",
            "  (conv1): Conv2d(3, 6, kernel_size=(5, 5), stride=(1, 1))\n",
            "  (pool): MaxPool2d(kernel_size=2, stride=2, padding=0, dilation=1, ceil_mode=False)\n",
            "  (conv2): Conv2d(6, 16, kernel_size=(5, 5), stride=(1, 1))\n",
            "  (fc1): Linear(in_features=400, out_features=120, bias=True)\n",
            "  (fc2): Linear(in_features=120, out_features=84, bias=True)\n",
            "  (fc3): Linear(in_features=84, out_features=10, bias=True)\n",
            ")\n"
          ],
          "name": "stdout"
        }
      ]
    },
    {
      "cell_type": "code",
      "metadata": {
        "id": "i14vh4nhdORD",
        "colab_type": "code",
        "colab": {
          "base_uri": "https://localhost:8080/",
          "height": 35
        },
        "outputId": "61117d81-26f6-4f90-e14f-3b8c57cff73b"
      },
      "source": [
        "# 简单测试模型的输出\n",
        "examples = iter(test_loader)\n",
        "example_data, _ = examples.next()\n",
        "\n",
        "net(example_data.to(device)).shape"
      ],
      "execution_count": 19,
      "outputs": [
        {
          "output_type": "execute_result",
          "data": {
            "text/plain": [
              "torch.Size([10, 10])"
            ]
          },
          "metadata": {
            "tags": []
          },
          "execution_count": 19
        }
      ]
    },
    {
      "cell_type": "markdown",
      "metadata": {
        "id": "JCsK2FGNakZ1",
        "colab_type": "text"
      },
      "source": [
        "## 定义损失函数和优化器"
      ]
    },
    {
      "cell_type": "code",
      "metadata": {
        "id": "EyhoLQ0yDsHm",
        "colab_type": "code",
        "colab": {}
      },
      "source": [
        "criterion = nn.CrossEntropyLoss()\n",
        "optimizer = torch.optim.SGD(net.parameters(), lr=0.001, momentum=0.9)"
      ],
      "execution_count": 21,
      "outputs": []
    },
    {
      "cell_type": "markdown",
      "metadata": {
        "id": "pJQ3lmqzaz1G",
        "colab_type": "text"
      },
      "source": [
        "## 模型的训练与测试"
      ]
    },
    {
      "cell_type": "code",
      "metadata": {
        "id": "Gu6aqo0fTVpF",
        "colab_type": "code",
        "colab": {
          "base_uri": "https://localhost:8080/",
          "height": 1000
        },
        "outputId": "3e82e92f-30a1-49f0-f8cd-c3fff8e1c1d4"
      },
      "source": [
        "num_epochs = 10\n",
        "n_total_steps = len(train_loader)\n",
        "\n",
        "LossList = [] # 记录每一个epoch的loss\n",
        "AccuryList = [] # 每一个epoch的accury\n",
        "\n",
        "for epoch in range(num_epochs):\n",
        "    # -------\n",
        "    # 开始训练\n",
        "    # -------\n",
        "    net.train() # 切换为训练模型\n",
        "    totalLoss = 0\n",
        "    for i, (images, labels) in enumerate(train_loader):\n",
        "        images = images.to(device) # 图片大小转换\n",
        "        labels = labels.to(device)\n",
        "\n",
        "        # 正向传播以及损失的求取\n",
        "        outputs = net(images)\n",
        "        loss = criterion(outputs, labels)\n",
        "        totalLoss = totalLoss + loss.item()\n",
        "\n",
        "        # 反向传播\n",
        "        optimizer.zero_grad() # 梯度清空\n",
        "        loss.backward() # 反向传播\n",
        "        optimizer.step() # 权重更新\n",
        "\n",
        "        if (i+1) % 1000 == 0:\n",
        "            print('Epoch [{}/{}], Step [{}/{}], Loss: {:.4f}'.format(epoch+1, num_epochs, i+1, n_total_steps, totalLoss/(i+1)))\n",
        "    \n",
        "    LossList.append(totalLoss/(i+1))\n",
        "\n",
        "    # ---------\n",
        "    # 开始测试\n",
        "    # ---------\n",
        "    net.eval()\n",
        "    with torch.no_grad():\n",
        "        correct = 0\n",
        "        total = 0\n",
        "        for images, labels in test_loader:\n",
        "            images = images.to(device)\n",
        "            labels = labels.to(device)\n",
        "            outputs = net(images)\n",
        "\n",
        "            _, predicted = torch.max(outputs.data, 1) # 预测的结果\n",
        "            total += labels.size(0)\n",
        "            correct += (predicted == labels).sum().item()\n",
        "        acc = 100.0 * correct / total # 在测试集上总的准确率\n",
        "        AccuryList.append(acc)\n",
        "        print('Accuracy of the network on the {} test images: {} %'.format(total, acc))\n",
        "\n",
        "print(\"模型训练完成\")"
      ],
      "execution_count": 23,
      "outputs": [
        {
          "output_type": "stream",
          "text": [
            "Epoch [1/10], Step [1000/5000], Loss: 2.2590\n",
            "Epoch [1/10], Step [2000/5000], Loss: 2.1109\n",
            "Epoch [1/10], Step [3000/5000], Loss: 1.9928\n",
            "Epoch [1/10], Step [4000/5000], Loss: 1.9058\n",
            "Epoch [1/10], Step [5000/5000], Loss: 1.8395\n",
            "Accuracy of the network on the 10000 test images: 41.0 %\n",
            "Epoch [2/10], Step [1000/5000], Loss: 1.5120\n",
            "Epoch [2/10], Step [2000/5000], Loss: 1.4883\n",
            "Epoch [2/10], Step [3000/5000], Loss: 1.4701\n",
            "Epoch [2/10], Step [4000/5000], Loss: 1.4529\n",
            "Epoch [2/10], Step [5000/5000], Loss: 1.4382\n",
            "Accuracy of the network on the 10000 test images: 52.15 %\n",
            "Epoch [3/10], Step [1000/5000], Loss: 1.3187\n",
            "Epoch [3/10], Step [2000/5000], Loss: 1.3127\n",
            "Epoch [3/10], Step [3000/5000], Loss: 1.3039\n",
            "Epoch [3/10], Step [4000/5000], Loss: 1.2895\n",
            "Epoch [3/10], Step [5000/5000], Loss: 1.2808\n",
            "Accuracy of the network on the 10000 test images: 56.75 %\n",
            "Epoch [4/10], Step [1000/5000], Loss: 1.1908\n",
            "Epoch [4/10], Step [2000/5000], Loss: 1.1878\n",
            "Epoch [4/10], Step [3000/5000], Loss: 1.1892\n",
            "Epoch [4/10], Step [4000/5000], Loss: 1.1798\n",
            "Epoch [4/10], Step [5000/5000], Loss: 1.1741\n",
            "Accuracy of the network on the 10000 test images: 60.1 %\n",
            "Epoch [5/10], Step [1000/5000], Loss: 1.1042\n",
            "Epoch [5/10], Step [2000/5000], Loss: 1.1013\n",
            "Epoch [5/10], Step [3000/5000], Loss: 1.1023\n",
            "Epoch [5/10], Step [4000/5000], Loss: 1.0978\n",
            "Epoch [5/10], Step [5000/5000], Loss: 1.0987\n",
            "Accuracy of the network on the 10000 test images: 59.91 %\n",
            "Epoch [6/10], Step [1000/5000], Loss: 1.0451\n",
            "Epoch [6/10], Step [2000/5000], Loss: 1.0380\n",
            "Epoch [6/10], Step [3000/5000], Loss: 1.0369\n",
            "Epoch [6/10], Step [4000/5000], Loss: 1.0403\n",
            "Epoch [6/10], Step [5000/5000], Loss: 1.0414\n",
            "Accuracy of the network on the 10000 test images: 61.0 %\n",
            "Epoch [7/10], Step [1000/5000], Loss: 0.9771\n",
            "Epoch [7/10], Step [2000/5000], Loss: 0.9836\n",
            "Epoch [7/10], Step [3000/5000], Loss: 0.9879\n",
            "Epoch [7/10], Step [4000/5000], Loss: 0.9893\n",
            "Epoch [7/10], Step [5000/5000], Loss: 0.9910\n",
            "Accuracy of the network on the 10000 test images: 62.14 %\n",
            "Epoch [8/10], Step [1000/5000], Loss: 0.9367\n",
            "Epoch [8/10], Step [2000/5000], Loss: 0.9386\n",
            "Epoch [8/10], Step [3000/5000], Loss: 0.9431\n",
            "Epoch [8/10], Step [4000/5000], Loss: 0.9451\n",
            "Epoch [8/10], Step [5000/5000], Loss: 0.9469\n",
            "Accuracy of the network on the 10000 test images: 62.8 %\n",
            "Epoch [9/10], Step [1000/5000], Loss: 0.8864\n",
            "Epoch [9/10], Step [2000/5000], Loss: 0.8912\n",
            "Epoch [9/10], Step [3000/5000], Loss: 0.9013\n",
            "Epoch [9/10], Step [4000/5000], Loss: 0.9046\n",
            "Epoch [9/10], Step [5000/5000], Loss: 0.9081\n",
            "Accuracy of the network on the 10000 test images: 62.28 %\n",
            "Epoch [10/10], Step [1000/5000], Loss: 0.8363\n",
            "Epoch [10/10], Step [2000/5000], Loss: 0.8451\n",
            "Epoch [10/10], Step [3000/5000], Loss: 0.8562\n",
            "Epoch [10/10], Step [4000/5000], Loss: 0.8617\n",
            "Epoch [10/10], Step [5000/5000], Loss: 0.8699\n",
            "Accuracy of the network on the 10000 test images: 62.26 %\n",
            "模型训练完成\n"
          ],
          "name": "stdout"
        }
      ]
    },
    {
      "cell_type": "code",
      "metadata": {
        "id": "tBjQCi4uiwq6",
        "colab_type": "code",
        "colab": {
          "base_uri": "https://localhost:8080/",
          "height": 446
        },
        "outputId": "1b2a79b3-711d-4211-9ee1-228581a774f5"
      },
      "source": [
        "# 绘制loss的变化\n",
        "fig, axes = plt.subplots(nrows=1, ncols=1, figsize=(13,7))\n",
        "axes.plot(LossList, 'k--')"
      ],
      "execution_count": 24,
      "outputs": [
        {
          "output_type": "execute_result",
          "data": {
            "text/plain": [
              "[<matplotlib.lines.Line2D at 0x7f7427aa6438>]"
            ]
          },
          "metadata": {
            "tags": []
          },
          "execution_count": 24
        },
        {
          "output_type": "display_data",
          "data": {
            "image/png": "[encoded data removed]",
            "text/plain": [
              "<Figure size 936x504 with 1 Axes>"
            ]
          },
          "metadata": {
            "tags": [],
            "needs_background": "light"
          }
        }
      ]
    },
    {
      "cell_type": "code",
      "metadata": {
        "id": "1zDGkejZi2hi",
        "colab_type": "code",
        "colab": {
          "base_uri": "https://localhost:8080/",
          "height": 446
        },
        "outputId": "a01c7228-2ad7-470b-f6e5-5cead529a32b"
      },
      "source": [
        "# 绘制loss的变化\n",
        "fig, axes = plt.subplots(nrows=1, ncols=1, figsize=(13,7))\n",
        "axes.plot(AccuryList, 'k--')"
      ],
      "execution_count": 25,
      "outputs": [
        {
          "output_type": "execute_result",
          "data": {
            "text/plain": [
              "[<matplotlib.lines.Line2D at 0x7f7427930b38>]"
            ]
          },
          "metadata": {
            "tags": []
          },
          "execution_count": 25
        },
        {
          "output_type": "display_data",
          "data": {
            "image/png": "[encoded data removed]",
            "text/plain": [
              "<Figure size 936x504 with 1 Axes>"
            ]
          },
          "metadata": {
            "tags": [],
            "needs_background": "light"
          }
        }
      ]
    },
    {
      "cell_type": "markdown",
      "metadata": {
        "id": "r0swU3I4U2Y9",
        "colab_type": "text"
      },
      "source": [
        "## 使用实际例子进行验证"
      ]
    },
    {
      "cell_type": "code",
      "metadata": {
        "id": "H7xrT_jgeoAw",
        "colab_type": "code",
        "colab": {
          "base_uri": "https://localhost:8080/",
          "height": 53
        },
        "outputId": "e5e82889-9836-4982-f1f8-a0d7e0c8ea97"
      },
      "source": [
        "# 测试样例\n",
        "examples = iter(test_loader)\n",
        "example_data, example_targets = examples.next()\n",
        "\n",
        "\n",
        "# 结果的预测\n",
        "images = example_data.to(device)\n",
        "labels = example_targets.to(device)\n",
        "\n",
        "# 正向传播以及损失的求取\n",
        "outputs = net(images)\n",
        "# 将 Tensor 类型的变量 example_targets 转为 numpy 类型的，方便展示\n",
        "print(\"上面9张图片的真实结果：\", example_targets[0:9].cpu().detach().numpy())\n",
        "# 将得到预测结果\n",
        "# 由于预测结果是 N×10 的矩阵，因此利用 np.argmax 函数取每行最大的那个值，最为预测值\n",
        "print(\"上面9张图片的预测结果：\", np.argmax(outputs[0:9].cpu().detach().numpy(), axis=1))"
      ],
      "execution_count": 28,
      "outputs": [
        {
          "output_type": "stream",
          "text": [
            "上面9张图片的真实结果： [3 8 8 0 6 6 1 6 3]\n",
            "上面9张图片的预测结果： [6 8 1 8 6 6 1 4 2]\n"
          ],
          "name": "stdout"
        }
      ]
    },
    {
      "cell_type": "markdown",
      "metadata": {
        "id": "6_tnA7NYBxOy",
        "colab_type": "text"
      },
      "source": [
        "## 每一类的准确率\n",
        "\n",
        "- 每一类的准确率"
      ]
    },
    {
      "cell_type": "code",
      "metadata": {
        "id": "QLDMUFpYiLDL",
        "colab_type": "code",
        "colab": {
          "base_uri": "https://localhost:8080/",
          "height": 197
        },
        "outputId": "9398779c-e756-4356-e596-c4dc202fabb7"
      },
      "source": [
        "class_correct = list(0. for i in range(10)) # 每一类预测正确的个数\n",
        "class_total = list(0. for i in range(10)) # 每一类的总个数\n",
        "\n",
        "with torch.no_grad():\n",
        "    for images, labels in test_loader:\n",
        "        images = images.to(device)\n",
        "        labels = labels.to(device)\n",
        "        outputs = net(images)\n",
        "        _, predicted = torch.max(outputs, 1)\n",
        "        c = (predicted == labels).squeeze()\n",
        "        for i in range(10): # 一个batch中的个数\n",
        "            label = labels[i]\n",
        "            class_correct[label] += c[i].item()\n",
        "            class_total[label] += 1\n",
        "\n",
        "\n",
        "for i in range(10):\n",
        "    print('Accuracy of %5s : %2d %%' % (\n",
        "        classes[i], 100 * class_correct[i] / class_total[i]))"
      ],
      "execution_count": 29,
      "outputs": [
        {
          "output_type": "stream",
          "text": [
            "Accuracy of plane : 65 %\n",
            "Accuracy of   car : 81 %\n",
            "Accuracy of  bird : 43 %\n",
            "Accuracy of   cat : 25 %\n",
            "Accuracy of  deer : 60 %\n",
            "Accuracy of   dog : 66 %\n",
            "Accuracy of  frog : 73 %\n",
            "Accuracy of horse : 67 %\n",
            "Accuracy of  ship : 73 %\n",
            "Accuracy of truck : 65 %\n"
          ],
          "name": "stdout"
        }
      ]
    },
    {
      "cell_type": "markdown",
      "metadata": {
        "id": "sXXA5lclElag",
        "colab_type": "text"
      },
      "source": [
        "## 使用更深的网络-VGG"
      ]
    },
    {
      "cell_type": "code",
      "metadata": {
        "id": "JCQLjBfYDmfd",
        "colab_type": "code",
        "colab": {}
      },
      "source": [
        "class VGG16(nn.Module):\n",
        "    def __init__(self, num_classes=10):\n",
        "        super(VGG16, self).__init__()\n",
        "        self.features = nn.Sequential(\n",
        "            # 1\n",
        "            nn.Conv2d(3, 64, kernel_size=3, padding=1),\n",
        "            nn.BatchNorm2d(64),\n",
        "            nn.ReLU(True),\n",
        "            # 2\n",
        "            nn.Conv2d(64, 64, kernel_size=3, padding=1),\n",
        "            nn.BatchNorm2d(64),\n",
        "            nn.ReLU(True),\n",
        "            nn.MaxPool2d(kernel_size=2, stride=2),\n",
        "            # 3\n",
        "            nn.Conv2d(64, 128, kernel_size=3, padding=1),\n",
        "            nn.BatchNorm2d(128),\n",
        "            nn.ReLU(True),\n",
        "            # 4\n",
        "            nn.Conv2d(128, 128, kernel_size=3, padding=1),\n",
        "            nn.BatchNorm2d(128),\n",
        "            nn.ReLU(True),\n",
        "            nn.MaxPool2d(kernel_size=2, stride=2),\n",
        "            # 5\n",
        "            nn.Conv2d(128, 256, kernel_size=3, padding=1),\n",
        "            nn.BatchNorm2d(256),\n",
        "            nn.ReLU(True),\n",
        "            # 6\n",
        "            nn.Conv2d(256, 256, kernel_size=3, padding=1),\n",
        "            nn.BatchNorm2d(256),\n",
        "            nn.ReLU(True),\n",
        "            # 7\n",
        "            nn.Conv2d(256, 256, kernel_size=3, padding=1),\n",
        "            nn.BatchNorm2d(256),\n",
        "            nn.ReLU(True),\n",
        "            nn.MaxPool2d(kernel_size=2, stride=2),\n",
        "            # 8\n",
        "            nn.Conv2d(256, 512, kernel_size=3, padding=1),\n",
        "            nn.BatchNorm2d(512),\n",
        "            nn.ReLU(True),\n",
        "            # 9\n",
        "            nn.Conv2d(512, 512, kernel_size=3, padding=1),\n",
        "            nn.BatchNorm2d(512),\n",
        "            nn.ReLU(True),\n",
        "            # 10\n",
        "            nn.Conv2d(512, 512, kernel_size=3, padding=1),\n",
        "            nn.BatchNorm2d(512),\n",
        "            nn.ReLU(True),\n",
        "            nn.MaxPool2d(kernel_size=2, stride=2),\n",
        "            # 11\n",
        "            nn.Conv2d(512, 512, kernel_size=3, padding=1),\n",
        "            nn.BatchNorm2d(512),\n",
        "            nn.ReLU(True),\n",
        "            # 12\n",
        "            nn.Conv2d(512, 512, kernel_size=3, padding=1),\n",
        "            nn.BatchNorm2d(512),\n",
        "            nn.ReLU(True),\n",
        "            # 13\n",
        "            nn.Conv2d(512, 512, kernel_size=3, padding=1),\n",
        "            nn.BatchNorm2d(512),\n",
        "            nn.ReLU(True),\n",
        "            nn.MaxPool2d(kernel_size=2, stride=2),\n",
        "            nn.AvgPool2d(kernel_size=1, stride=1),\n",
        "        )\n",
        "        self.classifier = nn.Sequential(\n",
        "            # 14\n",
        "            nn.Linear(512, 4096),\n",
        "            nn.ReLU(True),\n",
        "            nn.Dropout(),\n",
        "            # 15\n",
        "            nn.Linear(4096, 4096),\n",
        "            nn.ReLU(True),\n",
        "            nn.Dropout(),\n",
        "            # 16\n",
        "            nn.Linear(4096, num_classes),\n",
        "        )\n",
        "        #self.classifier = nn.Linear(512, 10)\n",
        "\n",
        "    def forward(self, x):\n",
        "        out = self.features(x)\n",
        "        out = out.view(out.size(0), -1)\n",
        "        out = self.classifier(out)\n",
        "        return out\n",
        "\n",
        "\n",
        "# 定义当前设备是否支持 GPU\n",
        "net = VGG16().to(device)\n",
        "\n",
        "# 定义损失函数和优化器\n",
        "criterion = nn.CrossEntropyLoss()\n",
        "optimizer = torch.optim.SGD(net.parameters(), lr=0.001, momentum=0.9)"
      ],
      "execution_count": 37,
      "outputs": []
    },
    {
      "cell_type": "code",
      "metadata": {
        "id": "VXLJ9b9fEsqm",
        "colab_type": "code",
        "colab": {
          "base_uri": "https://localhost:8080/",
          "height": 575
        },
        "outputId": "62918831-c777-43a4-e1f7-ebf16d92d893"
      },
      "source": [
        "num_epochs = 10\n",
        "n_total_steps = len(train_loader)\n",
        "\n",
        "LossList = [] # 记录每一个epoch的loss\n",
        "AccuryList = [] # 每一个epoch的accury\n",
        "\n",
        "for epoch in range(num_epochs):\n",
        "    # -------\n",
        "    # 开始训练\n",
        "    # -------\n",
        "    net.train() # 切换为训练模型\n",
        "    totalLoss = 0\n",
        "    for i, (images, labels) in enumerate(train_loader):\n",
        "        images = images.to(device) # 图片大小转换\n",
        "        labels = labels.to(device)\n",
        "\n",
        "        # 正向传播以及损失的求取\n",
        "        outputs = net(images)\n",
        "        loss = criterion(outputs, labels)\n",
        "        totalLoss = totalLoss + loss.item()\n",
        "\n",
        "        # 反向传播\n",
        "        optimizer.zero_grad() # 梯度清空\n",
        "        loss.backward() # 反向传播\n",
        "        optimizer.step() # 权重更新\n",
        "\n",
        "        if (i+1) % 2500 == 0:\n",
        "            print('Epoch [{}/{}], Step [{}/{}], Loss: {:.4f}'.format(epoch+1, num_epochs, i+1, n_total_steps, totalLoss/(i+1)))\n",
        "    \n",
        "    LossList.append(totalLoss/(i+1))\n",
        "\n",
        "    # ---------\n",
        "    # 开始测试\n",
        "    # ---------\n",
        "    net.eval()\n",
        "    with torch.no_grad():\n",
        "        correct = 0\n",
        "        total = 0\n",
        "        for images, labels in test_loader:\n",
        "            images = images.to(device)\n",
        "            labels = labels.to(device)\n",
        "            outputs = net(images)\n",
        "\n",
        "            _, predicted = torch.max(outputs.data, 1) # 预测的结果\n",
        "            total += labels.size(0)\n",
        "            correct += (predicted == labels).sum().item()\n",
        "        acc = 100.0 * correct / total # 在测试集上总的准确率\n",
        "        AccuryList.append(acc)\n",
        "        print('Accuracy of the network on the {} test images: {} %'.format(total, acc))\n",
        "\n",
        "print(\"模型训练完成\")"
      ],
      "execution_count": 38,
      "outputs": [
        {
          "output_type": "stream",
          "text": [
            "Epoch [1/10], Step [2500/5000], Loss: 1.6148\n",
            "Epoch [1/10], Step [5000/5000], Loss: 1.3861\n",
            "Accuracy of the network on the 10000 test images: 63.32 %\n",
            "Epoch [2/10], Step [2500/5000], Loss: 0.9311\n",
            "Epoch [2/10], Step [5000/5000], Loss: 0.8755\n",
            "Accuracy of the network on the 10000 test images: 74.7 %\n",
            "Epoch [3/10], Step [2500/5000], Loss: 0.6964\n",
            "Epoch [3/10], Step [5000/5000], Loss: 0.6761\n",
            "Accuracy of the network on the 10000 test images: 78.86 %\n",
            "Epoch [4/10], Step [2500/5000], Loss: 0.5386\n",
            "Epoch [4/10], Step [5000/5000], Loss: 0.5328\n",
            "Accuracy of the network on the 10000 test images: 81.19 %\n",
            "Epoch [5/10], Step [2500/5000], Loss: 0.4332\n",
            "Epoch [5/10], Step [5000/5000], Loss: 0.4394\n",
            "Accuracy of the network on the 10000 test images: 79.04 %\n",
            "Epoch [6/10], Step [2500/5000], Loss: 0.3462\n",
            "Epoch [6/10], Step [5000/5000], Loss: 0.3551\n",
            "Accuracy of the network on the 10000 test images: 83.0 %\n",
            "Epoch [7/10], Step [2500/5000], Loss: 0.2812\n",
            "Epoch [7/10], Step [5000/5000], Loss: 0.2904\n",
            "Accuracy of the network on the 10000 test images: 82.87 %\n",
            "Epoch [8/10], Step [2500/5000], Loss: 0.2298\n",
            "Epoch [8/10], Step [5000/5000], Loss: 0.2371\n",
            "Accuracy of the network on the 10000 test images: 83.78 %\n",
            "Epoch [9/10], Step [2500/5000], Loss: 0.1856\n",
            "Epoch [9/10], Step [5000/5000], Loss: 0.1914\n",
            "Accuracy of the network on the 10000 test images: 84.23 %\n",
            "Epoch [10/10], Step [2500/5000], Loss: 0.1490\n",
            "Epoch [10/10], Step [5000/5000], Loss: 0.1553\n",
            "Accuracy of the network on the 10000 test images: 84.81 %\n",
            "模型训练完成\n"
          ],
          "name": "stdout"
        }
      ]
    },
    {
      "cell_type": "code",
      "metadata": {
        "id": "qyMAZlz-Ezse",
        "colab_type": "code",
        "colab": {
          "base_uri": "https://localhost:8080/",
          "height": 197
        },
        "outputId": "e4fcf50f-0d50-409e-d397-5b78f890c0bd"
      },
      "source": [
        "class_correct = list(0. for i in range(10)) # 每一类预测正确的个数\n",
        "class_total = list(0. for i in range(10)) # 每一类的总个数\n",
        "\n",
        "with torch.no_grad():\n",
        "    for images, labels in test_loader:\n",
        "        images = images.to(device)\n",
        "        labels = labels.to(device)\n",
        "        outputs = net(images)\n",
        "        _, predicted = torch.max(outputs, 1)\n",
        "        c = (predicted == labels).squeeze()\n",
        "        for i in range(10): # 一个batch中的个数\n",
        "            label = labels[i]\n",
        "            class_correct[label] += c[i].item()\n",
        "            class_total[label] += 1\n",
        "\n",
        "\n",
        "for i in range(10):\n",
        "    print('Accuracy of %5s : %2d %%' % (\n",
        "        classes[i], 100 * class_correct[i] / class_total[i]))"
      ],
      "execution_count": 39,
      "outputs": [
        {
          "output_type": "stream",
          "text": [
            "Accuracy of plane : 83 %\n",
            "Accuracy of   car : 94 %\n",
            "Accuracy of  bird : 79 %\n",
            "Accuracy of   cat : 74 %\n",
            "Accuracy of  deer : 83 %\n",
            "Accuracy of   dog : 72 %\n",
            "Accuracy of  frog : 91 %\n",
            "Accuracy of horse : 88 %\n",
            "Accuracy of  ship : 91 %\n",
            "Accuracy of truck : 90 %\n"
          ],
          "name": "stdout"
        }
      ]
    },
    {
      "cell_type": "code",
      "metadata": {
        "id": "ZIEfZDMFI2OJ",
        "colab_type": "code",
        "colab": {}
      },
      "source": [
        ""
      ],
      "execution_count": null,
      "outputs": []
    }
  ]
}
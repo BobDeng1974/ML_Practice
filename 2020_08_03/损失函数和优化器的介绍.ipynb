{
  "nbformat": 4,
  "nbformat_minor": 0,
  "metadata": {
    "colab": {
      "name": "损失函数和优化器的介绍.ipynb",
      "provenance": [],
      "collapsed_sections": []
    },
    "kernelspec": {
      "name": "python3",
      "display_name": "Python 3"
    }
  },
  "cells": [
    {
      "cell_type": "code",
      "metadata": {
        "id": "zbyTHhSK1DGi",
        "colab_type": "code",
        "colab": {}
      },
      "source": [
        "import torch\n",
        "import numpy as np\n",
        "import matplotlib.pyplot as plt\n",
        "%matplotlib inline"
      ],
      "execution_count": 48,
      "outputs": []
    },
    {
      "cell_type": "markdown",
      "metadata": {
        "id": "dc40QQYdU0S9",
        "colab_type": "text"
      },
      "source": [
        "## 生成测试数据集"
      ]
    },
    {
      "cell_type": "code",
      "metadata": {
        "id": "Gfv3EBiR-fLo",
        "colab_type": "code",
        "colab": {}
      },
      "source": [
        "# 定义数据集合\n",
        "X = np.arange(0,10,0.1, dtype=np.float32)\n",
        "Y = 2*X + 2*np.random.random(100)"
      ],
      "execution_count": 49,
      "outputs": []
    },
    {
      "cell_type": "code",
      "metadata": {
        "id": "nUZ4-ujR-hBh",
        "colab_type": "code",
        "colab": {
          "base_uri": "https://localhost:8080/",
          "height": 483
        },
        "outputId": "1b0c5323-4a0a-42c0-9517-8aa10d8150b1"
      },
      "source": [
        "# 可视化数据集\n",
        "fig = plt.figure(figsize=(12,8))\n",
        "ax = fig.add_subplot(1,1,1)\n",
        "\n",
        "ax.scatter(X,Y)\n",
        "\n",
        "fig.show()"
      ],
      "execution_count": 50,
      "outputs": [
        {
          "output_type": "display_data",
          "data": {
            "image/png": "[encoded data removed]",
            "text/plain": [
              "<Figure size 864x576 with 1 Axes>"
            ]
          },
          "metadata": {
            "tags": [],
            "needs_background": "light"
          }
        }
      ]
    },
    {
      "cell_type": "markdown",
      "metadata": {
        "id": "2BLJ04g6jCvo",
        "colab_type": "text"
      },
      "source": [
        "## 定义我们的模型"
      ]
    },
    {
      "cell_type": "code",
      "metadata": {
        "id": "FEgBsVaYjEbG",
        "colab_type": "code",
        "colab": {}
      },
      "source": [
        "w = torch.tensor(0.0, dtype=torch.float32, requires_grad=True)\n",
        "\n",
        "def forward(x):\n",
        "    return w * x"
      ],
      "execution_count": 57,
      "outputs": []
    },
    {
      "cell_type": "markdown",
      "metadata": {
        "id": "r0swU3I4U2Y9",
        "colab_type": "text"
      },
      "source": [
        "## 定义损失函数"
      ]
    },
    {
      "cell_type": "code",
      "metadata": {
        "id": "H7xrT_jgeoAw",
        "colab_type": "code",
        "colab": {}
      },
      "source": [
        "loss = torch.nn.MSELoss() # 定义均方损失函数"
      ],
      "execution_count": 58,
      "outputs": []
    },
    {
      "cell_type": "code",
      "metadata": {
        "id": "lfNop8Zygn1F",
        "colab_type": "code",
        "colab": {
          "base_uri": "https://localhost:8080/",
          "height": 35
        },
        "outputId": "8ebe3b15-5bf5-40be-e67a-4ff4eb523d8f"
      },
      "source": [
        "# 损失函数的例子\n",
        "x_sample = torch.tensor([1,0], dtype=torch.float32)\n",
        "y_sample = torch.tensor([1,1], dtype=torch.float32)\n",
        "\n",
        "l = loss(x_sample, y_sample)\n",
        "print(l)"
      ],
      "execution_count": 59,
      "outputs": [
        {
          "output_type": "stream",
          "text": [
            "tensor(0.5000)\n"
          ],
          "name": "stdout"
        }
      ]
    },
    {
      "cell_type": "markdown",
      "metadata": {
        "id": "c1gcSvCFVZpv",
        "colab_type": "text"
      },
      "source": [
        "## 定义优化器\n",
        "\n",
        "我们在这里定义一个SGD优化器,     \n",
        "\n",
        "```python\n",
        "optimizer = torch.optim.SGD([w], lr=learning_rate)\n",
        "```\n",
        "\n",
        "其中:\n",
        "- w表示我们要更新的参数(网络的权重)\n",
        "- lr表示学习率\n",
        "\n",
        "在Pytorch中, 还optimizer还提供可以一次更新全部的参数, 和参数梯度清零两个功能.\n",
        "\n",
        "- ` optimizer.step()`: 对神经网络(复合函数)的相关变量进行更新, 即所有参数值向梯度相反方向走一步;\n",
        "-  `optimizer.zero_grad()`: 对神经网络(复合函数)的相关系数进行梯度的清空;"
      ]
    },
    {
      "cell_type": "code",
      "metadata": {
        "id": "bIqLQnyrhnuw",
        "colab_type": "code",
        "colab": {}
      },
      "source": [
        "# 定义一个SGD优化器\n",
        "learning_rate = 0.001\n",
        "optimizer = torch.optim.SGD([w], lr=learning_rate)"
      ],
      "execution_count": 60,
      "outputs": []
    },
    {
      "cell_type": "markdown",
      "metadata": {
        "id": "NJsLkXqAjMwq",
        "colab_type": "text"
      },
      "source": [
        "## 更新权重"
      ]
    },
    {
      "cell_type": "code",
      "metadata": {
        "id": "At1cYhRPeqwU",
        "colab_type": "code",
        "colab": {
          "base_uri": "https://localhost:8080/",
          "height": 125
        },
        "outputId": "b8f1c25b-270d-4934-a783-37011815114c"
      },
      "source": [
        "X_tensor = torch.from_numpy(X)\n",
        "Y_tensor = torch.from_numpy(Y)\n",
        "\n",
        "n_iters = 100\n",
        "for epoch in range(n_iters):\n",
        "    y_pred = forward(X_tensor)\n",
        "    l = loss(Y_tensor, y_pred) # 求误差(注意这里的顺序)\n",
        "    l.backward() # 求梯度\n",
        "    optimizer.step()  # 更新权重，即向梯度方向走一步\n",
        "    optimizer.zero_grad() # 清空梯度\n",
        "\n",
        "    if epoch % 20 == 0:\n",
        "        print(f'epoch {epoch+1}: w = {w.item():.3f}, loss = {l.item():.3f}')\n",
        "\n",
        "print(f'根据训练模型预测, 当x=5时, y的值为： {forward(5):.3f}')"
      ],
      "execution_count": 61,
      "outputs": [
        {
          "output_type": "stream",
          "text": [
            "epoch 1: w = 0.142, loss = 153.912\n",
            "epoch 21: w = 1.642, loss = 10.674\n",
            "epoch 41: w = 2.028, loss = 1.210\n",
            "epoch 61: w = 2.127, loss = 0.585\n",
            "epoch 81: w = 2.152, loss = 0.544\n",
            "根据训练模型预测, 当x=5时, y的值为： 10.794\n"
          ],
          "name": "stdout"
        }
      ]
    },
    {
      "cell_type": "code",
      "metadata": {
        "id": "skbYBkcd-2Ua",
        "colab_type": "code",
        "colab": {
          "base_uri": "https://localhost:8080/",
          "height": 483
        },
        "outputId": "62b510d4-17f0-4592-fa1b-83c1b36d3159"
      },
      "source": [
        "# 绘制预测曲线\n",
        "y_pre = forward(X_tensor).detach().numpy()\n",
        "\n",
        "fig = plt.figure(figsize=(12,8))\n",
        "ax = fig.add_subplot(1,1,1)\n",
        "\n",
        "ax.scatter(X,Y)\n",
        "ax.plot(X, y_pre, 'g-',  lw=3)\n",
        "\n",
        "fig.show()"
      ],
      "execution_count": 62,
      "outputs": [
        {
          "output_type": "display_data",
          "data": {
            "image/png": "[encoded data removed]",
            "text/plain": [
              "<Figure size 864x576 with 1 Axes>"
            ]
          },
          "metadata": {
            "tags": [],
            "needs_background": "light"
          }
        }
      ]
    }
  ]
}
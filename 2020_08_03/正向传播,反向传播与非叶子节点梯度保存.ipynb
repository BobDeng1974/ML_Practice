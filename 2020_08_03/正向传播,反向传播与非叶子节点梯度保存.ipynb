{
  "nbformat": 4,
  "nbformat_minor": 0,
  "metadata": {
    "colab": {
      "name": "正向传播,反向传播与非叶子节点梯度保存.ipynb",
      "provenance": [],
      "collapsed_sections": []
    },
    "kernelspec": {
      "name": "python3",
      "display_name": "Python 3"
    }
  },
  "cells": [
    {
      "cell_type": "code",
      "metadata": {
        "id": "zbyTHhSK1DGi",
        "colab_type": "code",
        "colab": {}
      },
      "source": [
        "import torch\n",
        "import numpy as np"
      ],
      "execution_count": 1,
      "outputs": []
    },
    {
      "cell_type": "markdown",
      "metadata": {
        "id": "_RewLgEZUCEK",
        "colab_type": "text"
      },
      "source": [
        "## 正向传播与反向传播\n",
        "\n",
        "这一部分主要包含下面的内容:\n",
        "\n",
        "- 正向传播\n",
        "- 非叶子节点梯度的保存, 使用retain_grad\n",
        "- 反向传播"
      ]
    },
    {
      "cell_type": "markdown",
      "metadata": {
        "id": "dc40QQYdU0S9",
        "colab_type": "text"
      },
      "source": [
        "### 正向传播"
      ]
    },
    {
      "cell_type": "code",
      "metadata": {
        "id": "Gfv3EBiR-fLo",
        "colab_type": "code",
        "colab": {}
      },
      "source": [
        "def forwrad(x, y, w1, w2):\n",
        "    # 其中 x,y 为输入数据，w为该函数所需要的参数\n",
        "    z_1 = torch.mm(w1, x)\n",
        "    z_1.retain_grad()\n",
        "    y_1 = torch.sigmoid(z_1)\n",
        "    y_1.retain_grad()\n",
        "    z_2 = torch.mm(w2, y_1)\n",
        "    z_2.retain_grad()\n",
        "    y_2 = torch.sigmoid(z_2)\n",
        "    y_2.retain_grad()\n",
        "    loss = 1/2*(((y_2 - y)**2).sum())\n",
        "    loss.retain_grad()\n",
        "    return loss, z_1, y_1, z_2, y_2\n",
        "\n",
        "\n",
        "# 测试代码\n",
        "x = torch.tensor([[1.0]])\n",
        "y = torch.tensor([[1.0], [0.0]])\n",
        "w1 = torch.tensor([[1.0], [2.0]], requires_grad=True)\n",
        "w2 = torch.tensor([[3.0, 4.0], [5.0, 6.0]], requires_grad=True)\n",
        "# w2 = torch.tensor([[3.0, 1.0], [1.0, 6.0]], requires_grad=True)\n",
        "\n",
        "loss, z_1, y_1, z_2, y_2 = forwrad(x, y, w1, w2)"
      ],
      "execution_count": 5,
      "outputs": []
    },
    {
      "cell_type": "code",
      "metadata": {
        "id": "nUZ4-ujR-hBh",
        "colab_type": "code",
        "colab": {
          "base_uri": "https://localhost:8080/",
          "height": 179
        },
        "outputId": "2ec199db-35e5-4e03-c7fc-b7f4bd46033a"
      },
      "source": [
        "print(' loss: {} \\n z_1: {} \\n y_1: {} \\n z_2: {} \\n y_2: {}'.format(loss, z_1, y_1, z_2, y_2))"
      ],
      "execution_count": 6,
      "outputs": [
        {
          "output_type": "stream",
          "text": [
            " loss: 0.49987438321113586 \n",
            " z_1: tensor([[1.],\n",
            "        [2.]], grad_fn=<MmBackward>) \n",
            " y_1: tensor([[0.7311],\n",
            "        [0.8808]], grad_fn=<SigmoidBackward>) \n",
            " z_2: tensor([[5.7164],\n",
            "        [8.9401]], grad_fn=<MmBackward>) \n",
            " y_2: tensor([[0.9967],\n",
            "        [0.9999]], grad_fn=<SigmoidBackward>)\n"
          ],
          "name": "stdout"
        }
      ]
    },
    {
      "cell_type": "markdown",
      "metadata": {
        "id": "r0swU3I4U2Y9",
        "colab_type": "text"
      },
      "source": [
        "### 反向传播"
      ]
    },
    {
      "cell_type": "code",
      "metadata": {
        "id": "H7xrT_jgeoAw",
        "colab_type": "code",
        "colab": {
          "base_uri": "https://localhost:8080/",
          "height": 89
        },
        "outputId": "d5b70162-6961-4bbb-95be-c821ccf114ee"
      },
      "source": [
        "loss.backward()  # 反向传播，计算梯度\n",
        "print('w1的梯度, {}'.format(w1.grad))\n",
        "print('w2的梯度, {}'.format(w2.grad))"
      ],
      "execution_count": 7,
      "outputs": [
        {
          "output_type": "stream",
          "text": [
            "w1的梯度, tensor([[1.2243e-04],\n",
            "        [7.8005e-05]])\n",
            "w2的梯度, tensor([[-7.8431e-06, -9.4496e-06],\n",
            "        [ 9.5752e-05,  1.1536e-04]])\n"
          ],
          "name": "stdout"
        }
      ]
    },
    {
      "cell_type": "markdown",
      "metadata": {
        "id": "c1gcSvCFVZpv",
        "colab_type": "text"
      },
      "source": [
        "### 查看各节点的梯度"
      ]
    },
    {
      "cell_type": "markdown",
      "metadata": {
        "id": "fIfJ5QmQVeZ7",
        "colab_type": "text"
      },
      "source": [
        "$$loss.grad = \\frac{\\partial loss}{\\partial loss} = 1$$"
      ]
    },
    {
      "cell_type": "code",
      "metadata": {
        "id": "e9ifSsIqAzOr",
        "colab_type": "code",
        "colab": {
          "base_uri": "https://localhost:8080/",
          "height": 35
        },
        "outputId": "952bf7a4-e757-4c90-8180-9dfc16193332"
      },
      "source": [
        "loss.grad"
      ],
      "execution_count": 8,
      "outputs": [
        {
          "output_type": "execute_result",
          "data": {
            "text/plain": [
              "tensor(1.)"
            ]
          },
          "metadata": {
            "tags": []
          },
          "execution_count": 8
        }
      ]
    },
    {
      "cell_type": "markdown",
      "metadata": {
        "id": "pYcM8124VyeI",
        "colab_type": "text"
      },
      "source": [
        "$$y_2.grad = \\frac{\\partial loss}{\\partial y_2}$$"
      ]
    },
    {
      "cell_type": "code",
      "metadata": {
        "id": "TNl83tB6VdTH",
        "colab_type": "code",
        "colab": {
          "base_uri": "https://localhost:8080/",
          "height": 53
        },
        "outputId": "a546197a-3846-404f-aebb-2758ff186302"
      },
      "source": [
        "y_2.grad"
      ],
      "execution_count": 9,
      "outputs": [
        {
          "output_type": "execute_result",
          "data": {
            "text/plain": [
              "tensor([[-0.0033],\n",
              "        [ 0.9999]])"
            ]
          },
          "metadata": {
            "tags": []
          },
          "execution_count": 9
        }
      ]
    },
    {
      "cell_type": "markdown",
      "metadata": {
        "id": "jlpfksJPWC7N",
        "colab_type": "text"
      },
      "source": [
        "$$z_2.grad = \\frac{\\partial loss}{\\partial z_2} = \\frac{\\partial loss}{\\partial y_2} \\cdot \\frac{\\partial y_2}{\\partial z_2}$$"
      ]
    },
    {
      "cell_type": "code",
      "metadata": {
        "id": "ab9fZ7bfVz46",
        "colab_type": "code",
        "colab": {
          "base_uri": "https://localhost:8080/",
          "height": 53
        },
        "outputId": "8d0e4a2e-d7f5-4e8a-b748-8ff28ca3e3f2"
      },
      "source": [
        "z_2.grad"
      ],
      "execution_count": 10,
      "outputs": [
        {
          "output_type": "execute_result",
          "data": {
            "text/plain": [
              "tensor([[-1.0728e-05],\n",
              "        [ 1.3098e-04]])"
            ]
          },
          "metadata": {
            "tags": []
          },
          "execution_count": 10
        }
      ]
    },
    {
      "cell_type": "markdown",
      "metadata": {
        "id": "0XmHd4t2WWUW",
        "colab_type": "text"
      },
      "source": [
        "后面的节点计算方法类似"
      ]
    },
    {
      "cell_type": "code",
      "metadata": {
        "id": "FIcJW0JoWFwK",
        "colab_type": "code",
        "colab": {
          "base_uri": "https://localhost:8080/",
          "height": 53
        },
        "outputId": "ff91a494-a187-4d84-f4b9-b2dd5181c450"
      },
      "source": [
        "w2.grad"
      ],
      "execution_count": 11,
      "outputs": [
        {
          "output_type": "execute_result",
          "data": {
            "text/plain": [
              "tensor([[-7.8431e-06, -9.4496e-06],\n",
              "        [ 9.5752e-05,  1.1536e-04]])"
            ]
          },
          "metadata": {
            "tags": []
          },
          "execution_count": 11
        }
      ]
    },
    {
      "cell_type": "code",
      "metadata": {
        "id": "bGOc9w7xWkr_",
        "colab_type": "code",
        "colab": {
          "base_uri": "https://localhost:8080/",
          "height": 53
        },
        "outputId": "8a208b31-4c9a-4a06-e268-345c272a6356"
      },
      "source": [
        "# w2的梯度, 按照手推的公式进行计算\n",
        "((y_2-y)* torch.sigmoid(z_2)*(1-torch.sigmoid(z_2)))* (torch.cat((y_1, y_1), dim=1).T)"
      ],
      "execution_count": 15,
      "outputs": [
        {
          "output_type": "execute_result",
          "data": {
            "text/plain": [
              "tensor([[-7.8431e-06, -9.4496e-06],\n",
              "        [ 9.5752e-05,  1.1536e-04]], grad_fn=<MulBackward0>)"
            ]
          },
          "metadata": {
            "tags": []
          },
          "execution_count": 15
        }
      ]
    },
    {
      "cell_type": "code",
      "metadata": {
        "id": "Gfds4-YhWKW4",
        "colab_type": "code",
        "colab": {
          "base_uri": "https://localhost:8080/",
          "height": 53
        },
        "outputId": "63b15a07-28c6-4093-8b7a-d3b30dc74a70"
      },
      "source": [
        "y_1.grad"
      ],
      "execution_count": 12,
      "outputs": [
        {
          "output_type": "execute_result",
          "data": {
            "text/plain": [
              "tensor([[0.0006],\n",
              "        [0.0007]])"
            ]
          },
          "metadata": {
            "tags": []
          },
          "execution_count": 12
        }
      ]
    },
    {
      "cell_type": "code",
      "metadata": {
        "id": "Vr-NP8fCbAtz",
        "colab_type": "code",
        "colab": {
          "base_uri": "https://localhost:8080/",
          "height": 53
        },
        "outputId": "3d598866-b5d4-4879-946f-9fd3875abb53"
      },
      "source": [
        "# y_1的梯度计算\n",
        "torch.mm(w2.T, z_2.grad)"
      ],
      "execution_count": 21,
      "outputs": [
        {
          "output_type": "execute_result",
          "data": {
            "text/plain": [
              "tensor([[0.0006],\n",
              "        [0.0007]], grad_fn=<MmBackward>)"
            ]
          },
          "metadata": {
            "tags": []
          },
          "execution_count": 21
        }
      ]
    },
    {
      "cell_type": "code",
      "metadata": {
        "id": "EK7i3j03WbCD",
        "colab_type": "code",
        "colab": {
          "base_uri": "https://localhost:8080/",
          "height": 53
        },
        "outputId": "451703f4-b9ea-44cf-b7d6-4a901937a49c"
      },
      "source": [
        "z_1.grad"
      ],
      "execution_count": 13,
      "outputs": [
        {
          "output_type": "execute_result",
          "data": {
            "text/plain": [
              "tensor([[1.2243e-04],\n",
              "        [7.8005e-05]])"
            ]
          },
          "metadata": {
            "tags": []
          },
          "execution_count": 13
        }
      ]
    },
    {
      "cell_type": "code",
      "metadata": {
        "id": "4j76UuPeWcY2",
        "colab_type": "code",
        "colab": {
          "base_uri": "https://localhost:8080/",
          "height": 53
        },
        "outputId": "5fd8027c-3514-465a-bf79-8bbe221e1c2b"
      },
      "source": [
        "w1.grad"
      ],
      "execution_count": 14,
      "outputs": [
        {
          "output_type": "execute_result",
          "data": {
            "text/plain": [
              "tensor([[1.2243e-04],\n",
              "        [7.8005e-05]])"
            ]
          },
          "metadata": {
            "tags": []
          },
          "execution_count": 14
        }
      ]
    },
    {
      "cell_type": "markdown",
      "metadata": {
        "id": "XYhJQCWkXeSi",
        "colab_type": "text"
      },
      "source": [
        "## 使用Hook"
      ]
    },
    {
      "cell_type": "code",
      "metadata": {
        "id": "OXMRXI67Wdnw",
        "colab_type": "code",
        "colab": {}
      },
      "source": [
        "# 我们可以定义一个hook来保存中间的变量\n",
        "grads = {} # 存储节点名称与节点的grad\n",
        "def save_grad(name):\n",
        "    def hook(grad):\n",
        "        grads[name] = grad\n",
        "    return hook"
      ],
      "execution_count": 24,
      "outputs": []
    },
    {
      "cell_type": "code",
      "metadata": {
        "id": "9418g6vRdfyM",
        "colab_type": "code",
        "colab": {}
      },
      "source": [
        "def forwrad(x, y, w1, w2):\n",
        "    # 其中 x,y 为输入数据，w为该函数所需要的参数\n",
        "    z_1 = torch.mm(w1, x)\n",
        "    y_1 = torch.sigmoid(z_1)\n",
        "    z_2 = torch.mm(w2, y_1)\n",
        "    y_2 = torch.sigmoid(z_2)\n",
        "    loss = 1/2*(((y_2 - y)**2).sum())\n",
        "\n",
        "    # hook中间节点\n",
        "    z_1.register_hook(save_grad('z_1'))\n",
        "    y_1.register_hook(save_grad('y_1'))\n",
        "    z_2.register_hook(save_grad('z_2'))\n",
        "    y_2.register_hook(save_grad('y_2'))\n",
        "    loss.register_hook(save_grad('loss'))\n",
        "\n",
        "    return loss, z_1, y_1, z_2, y_2\n",
        "\n",
        "\n",
        "# 测试代码\n",
        "x = torch.tensor([[1.0]])\n",
        "y = torch.tensor([[1.0], [0.0]])\n",
        "w1 = torch.tensor([[1.0], [2.0]], requires_grad=True)\n",
        "w2 = torch.tensor([[3.0, 4.0], [5.0, 6.0]], requires_grad=True)\n",
        "\n",
        "# 正向传播\n",
        "loss, z_1, y_1, z_2, y_2 = forwrad(x, y, w1, w2)\n",
        "\n",
        "# 反向传播\n",
        "loss.backward()"
      ],
      "execution_count": 25,
      "outputs": []
    },
    {
      "cell_type": "code",
      "metadata": {
        "id": "MJWiGnMrelQF",
        "colab_type": "code",
        "colab": {
          "base_uri": "https://localhost:8080/",
          "height": 179
        },
        "outputId": "7d2062f3-95fb-4296-e6e4-d896ddcb6cb9"
      },
      "source": [
        "print(grads['z_1'])\n",
        "print(grads['y_1'])\n",
        "print(grads['z_2'])\n",
        "print(grads['y_2'])\n",
        "print(grads['loss'])"
      ],
      "execution_count": 27,
      "outputs": [
        {
          "output_type": "stream",
          "text": [
            "tensor([[1.2243e-04],\n",
            "        [7.8005e-05]])\n",
            "tensor([[0.0006],\n",
            "        [0.0007]])\n",
            "tensor([[-1.0728e-05],\n",
            "        [ 1.3098e-04]])\n",
            "tensor([[-0.0033],\n",
            "        [ 0.9999]])\n",
            "tensor(1.)\n"
          ],
          "name": "stdout"
        }
      ]
    },
    {
      "cell_type": "code",
      "metadata": {
        "id": "At1cYhRPeqwU",
        "colab_type": "code",
        "colab": {}
      },
      "source": [
        ""
      ],
      "execution_count": null,
      "outputs": []
    }
  ]
}
{
  "nbformat": 4,
  "nbformat_minor": 0,
  "metadata": {
    "colab": {
      "name": "全连接网络的手写数字识别(MNIST).ipynb",
      "provenance": [],
      "collapsed_sections": []
    },
    "kernelspec": {
      "name": "python3",
      "display_name": "Python 3"
    }
  },
  "cells": [
    {
      "cell_type": "code",
      "metadata": {
        "id": "zbyTHhSK1DGi",
        "colab_type": "code",
        "colab": {
          "base_uri": "https://localhost:8080/",
          "height": 35
        },
        "outputId": "6566b939-f6d7-4c4e-f4c1-0f02ec2e6bdc"
      },
      "source": [
        "import torch\n",
        "import torch.nn as nn\n",
        "import torchvision\n",
        "import torchvision.transforms as transforms\n",
        "\n",
        "import numpy as np\n",
        "import pandas as pd\n",
        "import matplotlib.pyplot as plt\n",
        "%matplotlib inline\n",
        "\n",
        "\n",
        "# Device configuration\n",
        "device = torch.device('cuda' if torch.cuda.is_available() else 'cpu')\n",
        "device"
      ],
      "execution_count": 8,
      "outputs": [
        {
          "output_type": "execute_result",
          "data": {
            "text/plain": [
              "device(type='cpu')"
            ]
          },
          "metadata": {
            "tags": []
          },
          "execution_count": 8
        }
      ]
    },
    {
      "cell_type": "markdown",
      "metadata": {
        "id": "dc40QQYdU0S9",
        "colab_type": "text"
      },
      "source": [
        "## 数据加载\n",
        "\n",
        "### 创建dataset\n",
        "- 加载MNIST数据\n",
        "- 进行数据预处理, 转换为tensor\n",
        "\n",
        "### 创建dataloader\n",
        "- 将dataset传入dataloader, 设置batchsize"
      ]
    },
    {
      "cell_type": "code",
      "metadata": {
        "id": "Gfv3EBiR-fLo",
        "colab_type": "code",
        "colab": {
          "base_uri": "https://localhost:8080/",
          "height": 233
        },
        "outputId": "10fb1eda-3e63-43f4-ae96-8fe4b0933467"
      },
      "source": [
        "# 将数据集合下载到指定目录下,这里的transform表示，数据加载时所需要做的预处理操作\n",
        "\n",
        "# 加载训练集合(Train)\n",
        "train_dataset = torchvision.datasets.MNIST(root='./data',\n",
        "                                           train=True,\n",
        "                                           transform=torchvision.transforms.ToTensor(),\n",
        "                                           download=True)\n",
        "\n",
        "# 加载测试集合(Test)\n",
        "test_dataset = torchvision.datasets.MNIST(root='./data',\n",
        "                                          train=False,\n",
        "                                          transform=transforms.ToTensor())\n",
        "print(train_dataset) # 训练集\n",
        "print(test_dataset) # 测试集"
      ],
      "execution_count": 5,
      "outputs": [
        {
          "output_type": "stream",
          "text": [
            "Dataset MNIST\n",
            "    Number of datapoints: 60000\n",
            "    Root location: ./data\n",
            "    Split: Train\n",
            "    StandardTransform\n",
            "Transform: ToTensor()\n",
            "Dataset MNIST\n",
            "    Number of datapoints: 10000\n",
            "    Root location: ./data\n",
            "    Split: Test\n",
            "    StandardTransform\n",
            "Transform: ToTensor()\n"
          ],
          "name": "stdout"
        }
      ]
    },
    {
      "cell_type": "code",
      "metadata": {
        "id": "nUZ4-ujR-hBh",
        "colab_type": "code",
        "colab": {}
      },
      "source": [
        "batch_size = 100\n",
        "# 根据数据集定义数据加载器\n",
        "train_loader = torch.utils.data.DataLoader(dataset=train_dataset,\n",
        "                                           batch_size=batch_size,\n",
        "                                           shuffle=True)\n",
        "\n",
        "test_loader = torch.utils.data.DataLoader(dataset=test_dataset,\n",
        "                                          batch_size=batch_size,\n",
        "                                          shuffle=False)"
      ],
      "execution_count": 7,
      "outputs": []
    },
    {
      "cell_type": "code",
      "metadata": {
        "id": "MPNacuNdQkSG",
        "colab_type": "code",
        "colab": {
          "base_uri": "https://localhost:8080/",
          "height": 297
        },
        "outputId": "42202246-c781-418c-cb20-08f4d52b2669"
      },
      "source": [
        "# 查看数据\n",
        "examples = iter(test_loader)\n",
        "example_data, example_target = examples.next() # 100*1*28*28\n",
        "\n",
        "for i in range(9):\n",
        "    plt.subplot(3,3,i+1).set_title(example_target[i])\n",
        "    plt.imshow(example_data[i][0], 'gray')\n",
        "\n",
        "plt.tight_layout()\n",
        "plt.show()"
      ],
      "execution_count": 16,
      "outputs": [
        {
          "output_type": "display_data",
          "data": {
            "image/png": "[encoded data removed]",
            "text/plain": [
              "<Figure size 432x288 with 9 Axes>"
            ]
          },
          "metadata": {
            "tags": [],
            "needs_background": "light"
          }
        }
      ]
    },
    {
      "cell_type": "markdown",
      "metadata": {
        "id": "2BLJ04g6jCvo",
        "colab_type": "text"
      },
      "source": [
        "## 网络的构建\n"
      ]
    },
    {
      "cell_type": "code",
      "metadata": {
        "id": "FEgBsVaYjEbG",
        "colab_type": "code",
        "colab": {
          "base_uri": "https://localhost:8080/",
          "height": 107
        },
        "outputId": "ae9d7e26-dd31-4426-8beb-3b6f346945ec"
      },
      "source": [
        "# 输入节点数就为图片的大小：28×28×1\n",
        "input_size = 784\n",
        "# 由于数字为 0-9，因此是10分类问题，因此输出节点数为 10\n",
        "num_classes = 10\n",
        "\n",
        "# 网络的建立\n",
        "class NeuralNet(nn.Module):\n",
        "    # 输入数据的维度，中间层的节点数，输出数据的维度\n",
        "    def __init__(self, input_size, hidden_size, num_classes):\n",
        "        super(NeuralNet, self).__init__()\n",
        "        self.input_size = input_size\n",
        "        self.l1 = nn.Linear(input_size, hidden_size)\n",
        "        self.relu = nn.ReLU()\n",
        "        self.l2 = nn.Linear(hidden_size, num_classes)\n",
        "\n",
        "    def forward(self, x):\n",
        "        out = self.relu(self.l1(x))\n",
        "        out = self.l2(out)\n",
        "        return out\n",
        "\n",
        "\n",
        "model = NeuralNet(input_size, 500, num_classes).to(device)\n",
        "model"
      ],
      "execution_count": 41,
      "outputs": [
        {
          "output_type": "execute_result",
          "data": {
            "text/plain": [
              "NeuralNet(\n",
              "  (l1): Linear(in_features=784, out_features=500, bias=True)\n",
              "  (relu): ReLU()\n",
              "  (l2): Linear(in_features=500, out_features=10, bias=True)\n",
              ")"
            ]
          },
          "metadata": {
            "tags": []
          },
          "execution_count": 41
        }
      ]
    },
    {
      "cell_type": "code",
      "metadata": {
        "id": "i14vh4nhdORD",
        "colab_type": "code",
        "colab": {
          "base_uri": "https://localhost:8080/",
          "height": 35
        },
        "outputId": "4e3623ee-c3e3-44e0-b7cd-8bf6d5cec7b4"
      },
      "source": [
        "# 简单测试模型的输出\n",
        "examples = iter(test_loader)\n",
        "example_data, _ = examples.next() # 100*1*28*28\n",
        "\n",
        "model(example_data.reshape(example_data.size(0),-1)).shape"
      ],
      "execution_count": 42,
      "outputs": [
        {
          "output_type": "execute_result",
          "data": {
            "text/plain": [
              "torch.Size([100, 10])"
            ]
          },
          "metadata": {
            "tags": []
          },
          "execution_count": 42
        }
      ]
    },
    {
      "cell_type": "markdown",
      "metadata": {
        "id": "JCsK2FGNakZ1",
        "colab_type": "text"
      },
      "source": [
        "## 定义损失函数和优化器"
      ]
    },
    {
      "cell_type": "code",
      "metadata": {
        "id": "EyhoLQ0yDsHm",
        "colab_type": "code",
        "colab": {}
      },
      "source": [
        "# 定义学习率\n",
        "learning_rate = 0.001\n",
        "\n",
        "criterion = nn.CrossEntropyLoss()\n",
        "optimizer = torch.optim.Adam(model.parameters(), lr=learning_rate)"
      ],
      "execution_count": 43,
      "outputs": []
    },
    {
      "cell_type": "markdown",
      "metadata": {
        "id": "pJQ3lmqzaz1G",
        "colab_type": "text"
      },
      "source": [
        "## 模型的训练与测试"
      ]
    },
    {
      "cell_type": "code",
      "metadata": {
        "id": "Gu6aqo0fTVpF",
        "colab_type": "code",
        "colab": {
          "base_uri": "https://localhost:8080/",
          "height": 575
        },
        "outputId": "b2faa6a2-a1a9-4ee1-c7c8-e4c1780e0392"
      },
      "source": [
        "num_epochs = 10\n",
        "n_total_steps = len(train_loader)\n",
        "\n",
        "LossList = [] # 记录每一个epoch的loss\n",
        "AccuryList = [] # 每一个epoch的accury\n",
        "\n",
        "for epoch in range(num_epochs):\n",
        "    # -------\n",
        "    # 开始训练\n",
        "    # -------\n",
        "    model.train() # 切换为训练模型\n",
        "    totalLoss = 0\n",
        "    for i, (images, labels) in enumerate(train_loader):\n",
        "        images = images.reshape(-1, 28*28).to(device) # 图片大小转换\n",
        "        labels = labels.to(device)\n",
        "\n",
        "        # 正向传播以及损失的求取\n",
        "        outputs = model(images)\n",
        "        loss = criterion(outputs, labels)\n",
        "        totalLoss = totalLoss + loss.item()\n",
        "\n",
        "        # 反向传播\n",
        "        optimizer.zero_grad() # 梯度清空\n",
        "        loss.backward() # 反向传播\n",
        "        optimizer.step() # 权重更新\n",
        "\n",
        "        if (i+1) % 300 == 0:\n",
        "            print('Epoch [{}/{}], Step [{}/{}], Loss: {:.4f}'.format(epoch+1, num_epochs, i+1, n_total_steps, totalLoss/(i+1)))\n",
        "    \n",
        "    LossList.append(totalLoss/(i+1))\n",
        "\n",
        "    # ---------\n",
        "    # 开始测试\n",
        "    # ---------\n",
        "    model.eval()\n",
        "    with torch.no_grad():\n",
        "        correct = 0\n",
        "        total = 0\n",
        "        for images, labels in test_loader:\n",
        "            images = images.reshape(-1, 28*28).to(device)\n",
        "            labels = labels.to(device)\n",
        "            outputs = model(images)\n",
        "\n",
        "            _, predicted = torch.max(outputs.data, 1) # 预测的结果\n",
        "            total += labels.size(0)\n",
        "            correct += (predicted == labels).sum().item()\n",
        "        acc = 100.0 * correct / total # 在测试集上总的准确率\n",
        "        AccuryList.append(acc)\n",
        "        print('Accuracy of the network on the {} test images: {} %'.format(total, acc))\n",
        "\n",
        "print(\"模型训练完成\")"
      ],
      "execution_count": 44,
      "outputs": [
        {
          "output_type": "stream",
          "text": [
            "Epoch [1/10], Step [300/600], Loss: 0.3928\n",
            "Epoch [1/10], Step [600/600], Loss: 0.2928\n",
            "Accuracy of the network on the 10000 test images: 95.96 %\n",
            "Epoch [2/10], Step [300/600], Loss: 0.1281\n",
            "Epoch [2/10], Step [600/600], Loss: 0.1169\n",
            "Accuracy of the network on the 10000 test images: 97.0 %\n",
            "Epoch [3/10], Step [300/600], Loss: 0.0778\n",
            "Epoch [3/10], Step [600/600], Loss: 0.0757\n",
            "Accuracy of the network on the 10000 test images: 97.32 %\n",
            "Epoch [4/10], Step [300/600], Loss: 0.0538\n",
            "Epoch [4/10], Step [600/600], Loss: 0.0544\n",
            "Accuracy of the network on the 10000 test images: 97.94 %\n",
            "Epoch [5/10], Step [300/600], Loss: 0.0360\n",
            "Epoch [5/10], Step [600/600], Loss: 0.0394\n",
            "Accuracy of the network on the 10000 test images: 97.94 %\n",
            "Epoch [6/10], Step [300/600], Loss: 0.0275\n",
            "Epoch [6/10], Step [600/600], Loss: 0.0304\n",
            "Accuracy of the network on the 10000 test images: 97.94 %\n",
            "Epoch [7/10], Step [300/600], Loss: 0.0207\n",
            "Epoch [7/10], Step [600/600], Loss: 0.0224\n",
            "Accuracy of the network on the 10000 test images: 97.81 %\n",
            "Epoch [8/10], Step [300/600], Loss: 0.0147\n",
            "Epoch [8/10], Step [600/600], Loss: 0.0168\n",
            "Accuracy of the network on the 10000 test images: 98.1 %\n",
            "Epoch [9/10], Step [300/600], Loss: 0.0112\n",
            "Epoch [9/10], Step [600/600], Loss: 0.0133\n",
            "Accuracy of the network on the 10000 test images: 98.03 %\n",
            "Epoch [10/10], Step [300/600], Loss: 0.0092\n",
            "Epoch [10/10], Step [600/600], Loss: 0.0114\n",
            "Accuracy of the network on the 10000 test images: 98.08 %\n",
            "模型训练完成\n"
          ],
          "name": "stdout"
        }
      ]
    },
    {
      "cell_type": "code",
      "metadata": {
        "id": "tBjQCi4uiwq6",
        "colab_type": "code",
        "colab": {
          "base_uri": "https://localhost:8080/",
          "height": 446
        },
        "outputId": "4378b6cb-f860-4cfe-f4d4-881d021e9d61"
      },
      "source": [
        "# 绘制loss的变化\n",
        "fig, axes = plt.subplots(nrows=1, ncols=1, figsize=(13,7))\n",
        "axes.plot(LossList, 'k--')"
      ],
      "execution_count": 45,
      "outputs": [
        {
          "output_type": "execute_result",
          "data": {
            "text/plain": [
              "[<matplotlib.lines.Line2D at 0x7f32d13a5710>]"
            ]
          },
          "metadata": {
            "tags": []
          },
          "execution_count": 45
        },
        {
          "output_type": "display_data",
          "data": {
            "image/png": "[encoded data removed]",
            "text/plain": [
              "<Figure size 936x504 with 1 Axes>"
            ]
          },
          "metadata": {
            "tags": [],
            "needs_background": "light"
          }
        }
      ]
    },
    {
      "cell_type": "code",
      "metadata": {
        "id": "1zDGkejZi2hi",
        "colab_type": "code",
        "colab": {
          "base_uri": "https://localhost:8080/",
          "height": 446
        },
        "outputId": "4b85c60f-e257-4a2d-b97c-b03ada332c33"
      },
      "source": [
        "# 绘制loss的变化\n",
        "fig, axes = plt.subplots(nrows=1, ncols=1, figsize=(13,7))\n",
        "axes.plot(AccuryList, 'k--')"
      ],
      "execution_count": 46,
      "outputs": [
        {
          "output_type": "execute_result",
          "data": {
            "text/plain": [
              "[<matplotlib.lines.Line2D at 0x7f32cf5b74a8>]"
            ]
          },
          "metadata": {
            "tags": []
          },
          "execution_count": 46
        },
        {
          "output_type": "display_data",
          "data": {
            "image/png": "[encoded data removed]",
            "text/plain": [
              "<Figure size 936x504 with 1 Axes>"
            ]
          },
          "metadata": {
            "tags": [],
            "needs_background": "light"
          }
        }
      ]
    },
    {
      "cell_type": "markdown",
      "metadata": {
        "id": "r0swU3I4U2Y9",
        "colab_type": "text"
      },
      "source": [
        "## 使用实际例子进行验证"
      ]
    },
    {
      "cell_type": "code",
      "metadata": {
        "id": "H7xrT_jgeoAw",
        "colab_type": "code",
        "colab": {
          "base_uri": "https://localhost:8080/",
          "height": 304
        },
        "outputId": "e8da4d87-4559-4e19-a5ac-73f2ef14649f"
      },
      "source": [
        "# 测试样例\n",
        "examples = iter(test_loader)\n",
        "example_data, example_targets = examples.next()\n",
        "\n",
        "# 实际图片\n",
        "for i in range(9):\n",
        "    plt.subplot(3, 3, i+1)\n",
        "    plt.imshow(example_data[i][0], cmap='gray')\n",
        "plt.show()\n",
        "\n",
        "# 结果的预测\n",
        "images = example_data\n",
        "images = images.reshape(-1, 28*28).to(device)\n",
        "labels = labels.to(device)\n",
        "\n",
        "# 正向传播以及损失的求取\n",
        "outputs = model(images)\n",
        "# 将 Tensor 类型的变量 example_targets 转为 numpy 类型的，方便展示\n",
        "print(\"上面三张图片的真实结果：\", example_targets[0:9].detach().numpy())\n",
        "# 将得到预测结果\n",
        "# 由于预测结果是 N×10 的矩阵，因此利用 np.argmax 函数取每行最大的那个值，最为预测值\n",
        "print(\"上面三张图片的预测结果：\", np.argmax(outputs[0:9].detach().numpy(), axis=1))"
      ],
      "execution_count": 47,
      "outputs": [
        {
          "output_type": "display_data",
          "data": {
            "image/png": "[encoded data removed]",
            "text/plain": [
              "<Figure size 432x288 with 9 Axes>"
            ]
          },
          "metadata": {
            "tags": [],
            "needs_background": "light"
          }
        },
        {
          "output_type": "stream",
          "text": [
            "上面三张图片的真实结果： [7 2 1 0 4 1 4 9 5]\n",
            "上面三张图片的预测结果： [7 2 1 0 4 1 4 9 5]\n"
          ],
          "name": "stdout"
        }
      ]
    },
    {
      "cell_type": "code",
      "metadata": {
        "id": "QLDMUFpYiLDL",
        "colab_type": "code",
        "colab": {}
      },
      "source": [
        ""
      ],
      "execution_count": null,
      "outputs": []
    }
  ]
}
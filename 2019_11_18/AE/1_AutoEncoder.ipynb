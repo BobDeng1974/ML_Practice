{
 "cells": [
  {
   "cell_type": "code",
   "execution_count": 1,
   "metadata": {},
   "outputs": [
    {
     "data": {
      "text/plain": [
       "device(type='cpu')"
      ]
     },
     "execution_count": 1,
     "metadata": {},
     "output_type": "execute_result"
    }
   ],
   "source": [
    "import numpy as np\n",
    "import pandas as pd\n",
    "\n",
    "import os\n",
    "import matplotlib.pyplot as plt\n",
    "from datetime import date,datetime\n",
    "import logging\n",
    "\n",
    "import torch\n",
    "from torch import nn\n",
    "from torchvision import datasets, transforms\n",
    "from torch import optim\n",
    "from torch.autograd import Variable\n",
    "from torchvision.utils import make_grid\n",
    "from torchvision.utils import save_image\n",
    "\n",
    "device = torch.device(\"cuda\" if torch.cuda.is_available() else \"cpu\")\n",
    "device"
   ]
  },
  {
   "cell_type": "markdown",
   "metadata": {},
   "source": [
    "## 加载数据集"
   ]
  },
  {
   "cell_type": "code",
   "execution_count": 2,
   "metadata": {},
   "outputs": [],
   "source": [
    "trans = transforms.Compose([\n",
    "    transforms.Resize(64),\n",
    "    transforms.ToTensor(),\n",
    "    transforms.Normalize((0.5, 0.5, 0.5), (0.5, 0.5, 0.5))\n",
    "])\n",
    "\n",
    "dataset = datasets.ImageFolder('./data', transform=trans) # 数据路径\n",
    "\n",
    "dataloader = torch.utils.data.DataLoader(dataset,\n",
    "                                    batch_size=128, # 批量大小\n",
    "                                    shuffle=True, # 乱序\n",
    "                                    num_workers=2 # 多进程\n",
    "                                    )"
   ]
  },
  {
   "cell_type": "code",
   "execution_count": 3,
   "metadata": {},
   "outputs": [],
   "source": [
    "# 图像像素还原\n",
    "def denorm(x):\n",
    "    out = (x + 1) / 2\n",
    "    return out.clamp(0, 1)"
   ]
  },
  {
   "cell_type": "markdown",
   "metadata": {},
   "source": [
    "## 构建网络"
   ]
  },
  {
   "cell_type": "code",
   "execution_count": 49,
   "metadata": {},
   "outputs": [],
   "source": [
    "class DeepAutoEncoder(nn.Module):\n",
    "    def __init__(self):\n",
    "        super(DeepAutoEncoder, self).__init__()\n",
    "        self.encoder = nn.Sequential(\n",
    "            nn.Conv2d(in_channels=3, out_channels=32, kernel_size=4, stride=2, padding=1, bias=False),\n",
    "            nn.BatchNorm2d(32),\n",
    "            nn.LeakyReLU(0.2, inplace=True),\n",
    "\n",
    "            nn.Conv2d(in_channels=32, out_channels=64, kernel_size=4, stride=2, padding=1, bias=False),\n",
    "            nn.BatchNorm2d(64),\n",
    "            nn.LeakyReLU(0.2, inplace=True),\n",
    "\n",
    "            nn.Conv2d(in_channels=64, out_channels=128, kernel_size=4, stride=2, padding=1, bias=False),\n",
    "            nn.BatchNorm2d(128),\n",
    "            nn.LeakyReLU(0.2, inplace=True),\n",
    "            \n",
    "            nn.Conv2d(in_channels=128, out_channels=256, kernel_size=4, stride=2, padding=1, bias=False),\n",
    "            nn.BatchNorm2d(256),\n",
    "            nn.LeakyReLU(0.2, inplace=True),\n",
    "\n",
    "            nn.Conv2d(in_channels=256, out_channels=256, kernel_size=4, stride=1, padding=0, bias=False),\n",
    "            nn.BatchNorm2d(256),\n",
    "            nn.LeakyReLU(0.2, inplace=True),\n",
    "        ) # encoder可以将图片大小转换为 3*64*64 -> 256*1*1\n",
    "        \n",
    "        self.decoder = nn.Sequential(\n",
    "            nn.ConvTranspose2d(in_channels=256, out_channels=256, kernel_size=4, bias=False), # 1->4\n",
    "            nn.BatchNorm2d(256),\n",
    "            nn.ReLU(True),\n",
    "            \n",
    "            nn.ConvTranspose2d(in_channels=256, out_channels=128, kernel_size=4, stride=2, bias=False), # 4 -> 10\n",
    "            nn.BatchNorm2d(128),\n",
    "            nn.ReLU(True),\n",
    "\n",
    "            nn.ConvTranspose2d(in_channels=128, out_channels=64, kernel_size=4, stride=2, bias=False), # 10 -> 22\n",
    "            nn.BatchNorm2d(64),\n",
    "            nn.ReLU(True),\n",
    "            \n",
    "            nn.ConvTranspose2d(in_channels=64, out_channels=32, kernel_size=4, stride=2, bias=False), # 22 -> 46\n",
    "            nn.BatchNorm2d(32),\n",
    "            nn.ReLU(True),\n",
    "            \n",
    "            nn.ConvTranspose2d(in_channels=32, out_channels=3, kernel_size=7, bias=False),\n",
    "            nn.BatchNorm2d(3),\n",
    "            nn.ReLU(True),\n",
    "\n",
    "            nn.ConvTranspose2d(in_channels=3, out_channels=3, kernel_size=7, bias=False),\n",
    "            nn.BatchNorm2d(3),\n",
    "            nn.ReLU(True),\n",
    "            \n",
    "            nn.ConvTranspose2d(in_channels=3, out_channels=3, kernel_size=7, bias=False),\n",
    "            nn.BatchNorm2d(3),\n",
    "            nn.ReLU(True),\n",
    "            \n",
    "            # nn.Tanh()\n",
    "        ) # decoder可以将图片大小转换为 256*1*1 -> 3*64*64\n",
    "        \n",
    "    def forward(self, x):\n",
    "        x = self.encoder(x)\n",
    "        x = self.decoder(x)\n",
    "        return x"
   ]
  },
  {
   "cell_type": "code",
   "execution_count": 50,
   "metadata": {},
   "outputs": [
    {
     "name": "stdout",
     "output_type": "stream",
     "text": [
      "torch.Size([4, 3, 64, 64])\n"
     ]
    }
   ],
   "source": [
    "# 测试输出的结果\n",
    "AE = DeepAutoEncoder() # 初始化网络\n",
    "# 真实的图片\n",
    "images = torch.stack(([dataset[i][0] for i in range(4)]))\n",
    "# 测试D是否与想象的是一样的\n",
    "outputs = AE(images)\n",
    "print(outputs.shape)"
   ]
  },
  {
   "cell_type": "markdown",
   "metadata": {},
   "source": [
    "## 开始训练"
   ]
  },
  {
   "cell_type": "code",
   "execution_count": 46,
   "metadata": {},
   "outputs": [],
   "source": [
    "# ----------\n",
    "# 初始化网络\n",
    "# ----------\n",
    "AE = DeepAutoEncoder().to(device) # 定义分类器\n",
    "# ------------\n",
    "# 定义损失函数\n",
    "# ------------\n",
    "criterion = nn.L1Loss()\n",
    "# -----------------------\n",
    "# 定义损失函数和优化器\n",
    "# -----------------------\n",
    "learning_rate = 0.0002\n",
    "d_optimizer = torch.optim.Adam(AE.parameters(), lr=learning_rate)"
   ]
  },
  {
   "cell_type": "code",
   "execution_count": null,
   "metadata": {},
   "outputs": [],
   "source": [
    "num_epochs = 3\n",
    "total_step = len(dataloader) # 依次epoch的步骤\n",
    "# 开始训练\n",
    "for epoch in range(num_epochs):\n",
    "    for i, (images, _) in enumerate(dataloader):\n",
    "        batch_size = images.size(0)\n",
    "        images = images.reshape(batch_size, 3, 64, 64).to(device)\n",
    "        # ---------------------\n",
    "        # 开始训练AutoEncoder\n",
    "        # ---------------------\n",
    "        AE.train()\n",
    "        # 首先计算真实的图片\n",
    "        fake_image = AE(images) # 计算重构之后的内容\n",
    "        loss = criterion(image, fake_image) # 计算loss\n",
    "        g_optimizer.zero_grad() # 优化器梯度都要清0\n",
    "        loss.backward() # 反向传播\n",
    "        d_optimizer.step() # 进行优化\n",
    "\n",
    "        # ---------\n",
    "        # 打印结果\n",
    "        # ---------\n",
    "        if (i+2) % 20 == 0:\n",
    "            t = datetime.now() #获取现在的时间\n",
    "            logging.info('Time {}, Epoch [{}/{}], Step [{}/{}], loss:{:.4f}'\n",
    "                         .format(t, epoch, num_epochs, i+1, total_step, loss.item()))\n",
    "    # -------------------------------\n",
    "    # 结果的保存(每一个epoch保存一次)\n",
    "    # -------------------------------\n",
    "    # 每一个epoch显示图片(这里切换为eval模式)\n",
    "    AE.eval()\n",
    "    test_images = AE(test_noise)\n",
    "    save_image(denorm(test_images), os.path.join(sample_dir, 'fake_images-{}.png'.format(epoch+1)))"
   ]
  },
  {
   "cell_type": "code",
   "execution_count": null,
   "metadata": {},
   "outputs": [],
   "source": []
  }
 ],
 "metadata": {
  "kernelspec": {
   "display_name": "Python 3",
   "language": "python",
   "name": "python3"
  },
  "language_info": {
   "codemirror_mode": {
    "name": "ipython",
    "version": 3
   },
   "file_extension": ".py",
   "mimetype": "text/x-python",
   "name": "python",
   "nbconvert_exporter": "python",
   "pygments_lexer": "ipython3",
   "version": "3.7.3"
  }
 },
 "nbformat": 4,
 "nbformat_minor": 2
}

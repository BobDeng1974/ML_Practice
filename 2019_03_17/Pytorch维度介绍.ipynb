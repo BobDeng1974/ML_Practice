{
  "nbformat": 4,
  "nbformat_minor": 0,
  "metadata": {
    "colab": {
      "name": "Pytorch维度介绍.ipynb",
      "provenance": [],
      "collapsed_sections": []
    },
    "kernelspec": {
      "name": "python3",
      "display_name": "Python 3"
    }
  },
  "cells": [
    {
      "cell_type": "code",
      "metadata": {
        "id": "hPZ-tIVRHWqw",
        "colab_type": "code",
        "colab": {}
      },
      "source": [
        "import numpy as np\n",
        "import torch"
      ],
      "execution_count": null,
      "outputs": []
    },
    {
      "cell_type": "code",
      "metadata": {
        "id": "Xpx-lKGEH_BD",
        "colab_type": "code",
        "colab": {
          "base_uri": "https://localhost:8080/",
          "height": 35
        },
        "outputId": "379731a7-6a39-4663-a83c-87bcf911aeda"
      },
      "source": [
        "x = torch.tensor([\n",
        "        [1,2,3],\n",
        "        [4,5,6]\n",
        "    ])\n",
        "# 我们可以看到\"行\"是dim=0, \"列\"是dim=1\n",
        "print(x.shape)"
      ],
      "execution_count": null,
      "outputs": [
        {
          "output_type": "stream",
          "text": [
            "torch.Size([2, 3])\n"
          ],
          "name": "stdout"
        }
      ]
    },
    {
      "cell_type": "code",
      "metadata": {
        "id": "vto4Fz_6IqLz",
        "colab_type": "code",
        "colab": {
          "base_uri": "https://localhost:8080/",
          "height": 35
        },
        "outputId": "a93aba90-eb92-47f6-f84f-048183376e2a"
      },
      "source": [
        "# 但是我们按照dim=0求和, 是按照列相加\n",
        "torch.sum(x, dim=0)"
      ],
      "execution_count": null,
      "outputs": [
        {
          "output_type": "execute_result",
          "data": {
            "text/plain": [
              "tensor([5, 7, 9])"
            ]
          },
          "metadata": {
            "tags": []
          },
          "execution_count": 3
        }
      ]
    },
    {
      "cell_type": "code",
      "metadata": {
        "id": "ASfey3zfI9mZ",
        "colab_type": "code",
        "colab": {
          "base_uri": "https://localhost:8080/",
          "height": 35
        },
        "outputId": "13f0f4c9-6770-41f0-98aa-ec6ed4fc9530"
      },
      "source": [
        "# 但是我们按照dim=1求和, 是按照行相加1\n",
        "torch.sum(x, dim=1)"
      ],
      "execution_count": null,
      "outputs": [
        {
          "output_type": "execute_result",
          "data": {
            "text/plain": [
              "tensor([ 6, 15])"
            ]
          },
          "metadata": {
            "tags": []
          },
          "execution_count": 4
        }
      ]
    },
    {
      "cell_type": "markdown",
      "metadata": {
        "id": "niXSSCwvJTLZ",
        "colab_type": "text"
      },
      "source": [
        "这个就是要看我们如何理解dim了.\n",
        "\n",
        "The way to understand the “axis” of numpy sum is that it collapses the specified axis. So when it collapses the axis 0 (the row), it becomes just one row (it sums column-wise).\n",
        "\n",
        "我们可以将其想象为dim=0的时候, 对行进行挤压, 于是变为了一行, 也就是每列元素相加."
      ]
    },
    {
      "cell_type": "code",
      "metadata": {
        "id": "FHzXITn8JFyz",
        "colab_type": "code",
        "colab": {
          "base_uri": "https://localhost:8080/",
          "height": 35
        },
        "outputId": "dfff0279-83eb-40fe-d204-4504f5a239c0"
      },
      "source": [
        "# 看一下三维的\n",
        "x = torch.tensor([\n",
        "        [\n",
        "         [1,2,3],\n",
        "         [4,5,6]\n",
        "        ],\n",
        "        [\n",
        "         [1,2,3],\n",
        "         [4,5,6]\n",
        "        ],\n",
        "        [\n",
        "         [1,2,3],\n",
        "         [4,5,6]\n",
        "        ]\n",
        "    ])\n",
        "# 我们可以看到第三维是dim=0, \"行\"是dim=1, 列是dim=2\n",
        "print(x.shape)"
      ],
      "execution_count": null,
      "outputs": [
        {
          "output_type": "stream",
          "text": [
            "torch.Size([3, 2, 3])\n"
          ],
          "name": "stdout"
        }
      ]
    },
    {
      "cell_type": "code",
      "metadata": {
        "id": "yJ-c6U7yKFwL",
        "colab_type": "code",
        "colab": {
          "base_uri": "https://localhost:8080/",
          "height": 53
        },
        "outputId": "ada63c17-2f67-49bd-9fba-20c94826461d"
      },
      "source": [
        "torch.sum(x, dim=0)"
      ],
      "execution_count": null,
      "outputs": [
        {
          "output_type": "execute_result",
          "data": {
            "text/plain": [
              "tensor([[ 3,  6,  9],\n",
              "        [12, 15, 18]])"
            ]
          },
          "metadata": {
            "tags": []
          },
          "execution_count": 25
        }
      ]
    },
    {
      "cell_type": "code",
      "metadata": {
        "id": "0pnvn2l_VjfQ",
        "colab_type": "code",
        "colab": {
          "base_uri": "https://localhost:8080/",
          "height": 71
        },
        "outputId": "d610bc2c-9dfa-4b1d-d116-a9a66693737d"
      },
      "source": [
        "torch.sum(x, dim=1)"
      ],
      "execution_count": null,
      "outputs": [
        {
          "output_type": "execute_result",
          "data": {
            "text/plain": [
              "tensor([[5, 7, 9],\n",
              "        [5, 7, 9],\n",
              "        [5, 7, 9]])"
            ]
          },
          "metadata": {
            "tags": []
          },
          "execution_count": 26
        }
      ]
    },
    {
      "cell_type": "code",
      "metadata": {
        "id": "De2yluVWWa0X",
        "colab_type": "code",
        "colab": {
          "base_uri": "https://localhost:8080/",
          "height": 71
        },
        "outputId": "e3e33b86-946b-4d40-8944-1b54a203b3bd"
      },
      "source": [
        "torch.sum(x, dim=2)"
      ],
      "execution_count": null,
      "outputs": [
        {
          "output_type": "execute_result",
          "data": {
            "text/plain": [
              "tensor([[ 6, 15],\n",
              "        [ 6, 15],\n",
              "        [ 6, 15]])"
            ]
          },
          "metadata": {
            "tags": []
          },
          "execution_count": 27
        }
      ]
    },
    {
      "cell_type": "markdown",
      "metadata": {
        "id": "TrLCzZlbWxkC",
        "colab_type": "text"
      },
      "source": [
        "## 关于TopK的用法"
      ]
    },
    {
      "cell_type": "code",
      "metadata": {
        "id": "BFi1d24pKf1u",
        "colab_type": "code",
        "colab": {
          "base_uri": "https://localhost:8080/",
          "height": 35
        },
        "outputId": "f34a0a6c-6802-4fb3-9a33-d8c7fef0f9af"
      },
      "source": [
        "# 看一下2维的\n",
        "x = torch.tensor([\n",
        "    [0.1, 0.2 ,0.5, 0.2],\n",
        "    [0.4, 0.3, 0.2, 0.1],\n",
        "    [0.1, 0.2, 0.5, 0.1],\n",
        "])\n",
        "# 我们可以看到\"行\"是dim=0, 列是dim=1\n",
        "print(x.shape)"
      ],
      "execution_count": null,
      "outputs": [
        {
          "output_type": "stream",
          "text": [
            "torch.Size([3, 4])\n"
          ],
          "name": "stdout"
        }
      ]
    },
    {
      "cell_type": "code",
      "metadata": {
        "id": "yxaHfRIVMFlk",
        "colab_type": "code",
        "colab": {
          "base_uri": "https://localhost:8080/",
          "height": 161
        },
        "outputId": "175fd542-3d65-4cee-97f4-f6283784df95"
      },
      "source": [
        "a, b = x.topk(1, dim=1)\n",
        "print(a)\n",
        "print('-'*10)\n",
        "print(b)\n",
        "print(b.shape)"
      ],
      "execution_count": null,
      "outputs": [
        {
          "output_type": "stream",
          "text": [
            "tensor([[0.5000],\n",
            "        [0.4000],\n",
            "        [0.5000]])\n",
            "----------\n",
            "tensor([[2],\n",
            "        [0],\n",
            "        [2]])\n",
            "torch.Size([3, 1])\n"
          ],
          "name": "stdout"
        }
      ]
    },
    {
      "cell_type": "code",
      "metadata": {
        "id": "Bp9Nb3dMYgPt",
        "colab_type": "code",
        "colab": {
          "base_uri": "https://localhost:8080/",
          "height": 89
        },
        "outputId": "f26edcba-c0c9-49cd-fa95-f4f8d0f662a5"
      },
      "source": [
        "a, b = x.topk(1, dim=0)\n",
        "print(a)\n",
        "print('-'*10)\n",
        "print(b)\n",
        "print(b.shape)"
      ],
      "execution_count": null,
      "outputs": [
        {
          "output_type": "stream",
          "text": [
            "tensor([[0.4000, 0.3000, 0.5000, 0.2000]])\n",
            "----------\n",
            "tensor([[1, 1, 0, 0]])\n",
            "torch.Size([1, 4])\n"
          ],
          "name": "stdout"
        }
      ]
    },
    {
      "cell_type": "code",
      "metadata": {
        "id": "r1ottbbuMOzl",
        "colab_type": "code",
        "colab": {}
      },
      "source": [
        ""
      ],
      "execution_count": null,
      "outputs": []
    }
  ]
}
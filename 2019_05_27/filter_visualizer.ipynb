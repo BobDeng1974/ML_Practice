{
 "cells": [
  {
   "cell_type": "markdown",
   "metadata": {},
   "source": [
    "## 参考资料\n",
    "- https://github.com/fg91/visualizing-cnn-feature-maps\n",
    "- https://towardsdatascience.com/how-to-visualize-convolutional-features-in-40-lines-of-code-70b7d87b0030"
   ]
  },
  {
   "cell_type": "markdown",
   "metadata": {},
   "source": [
    "## 导入相应的库"
   ]
  },
  {
   "cell_type": "code",
   "execution_count": 1,
   "metadata": {},
   "outputs": [],
   "source": [
    "import torch\n",
    "from torch.autograd import Variable\n",
    "from PIL import Image,ImageOps\n",
    "import torchvision.transforms as transforms\n",
    "import torchvision.models as models\n",
    "\n",
    "import numpy as np\n",
    "import cv2\n",
    "from cv2 import resize\n",
    "from matplotlib import pyplot as plt\n",
    "%matplotlib inline"
   ]
  },
  {
   "cell_type": "code",
   "execution_count": 2,
   "metadata": {},
   "outputs": [
    {
     "data": {
      "text/plain": [
       "device(type='cuda')"
      ]
     },
     "execution_count": 2,
     "metadata": {},
     "output_type": "execute_result"
    }
   ],
   "source": [
    "device = torch.device('cuda' if torch.cuda.is_available() else 'cpu')\n",
    "device"
   ]
  },
  {
   "cell_type": "markdown",
   "metadata": {},
   "source": [
    "## 初始化图片"
   ]
  },
  {
   "cell_type": "code",
   "execution_count": 3,
   "metadata": {},
   "outputs": [
    {
     "data": {
      "text/plain": [
       "torch.Size([1, 3, 56, 56])"
      ]
     },
     "execution_count": 3,
     "metadata": {},
     "output_type": "execute_result"
    }
   ],
   "source": [
    "# 生成随机的图片\n",
    "sz = 56\n",
    "img = np.uint8(np.random.uniform(150, 180, (3, sz, sz)))/255\n",
    "img = torch.from_numpy(img[None]).float().to(device)\n",
    "# img[None]可以增加一个维度\n",
    "# img_var = Variable(torch.from_numpy(img[None]).float().to(device), requires_grad=True) # 转换为pytorch的变量, 需要梯度\n",
    "# img_var.shape\n",
    "img.shape"
   ]
  },
  {
   "cell_type": "markdown",
   "metadata": {},
   "source": [
    "## 给出一个预训练好的网络"
   ]
  },
  {
   "cell_type": "code",
   "execution_count": 4,
   "metadata": {},
   "outputs": [],
   "source": [
    "model_vgg16 = models.vgg16_bn(pretrained=True).features.to(device).eval()"
   ]
  },
  {
   "cell_type": "code",
   "execution_count": 5,
   "metadata": {},
   "outputs": [
    {
     "data": {
      "text/plain": [
       "44"
      ]
     },
     "execution_count": 5,
     "metadata": {},
     "output_type": "execute_result"
    }
   ],
   "source": [
    "len(list(model_vgg16.children()))"
   ]
  },
  {
   "cell_type": "code",
   "execution_count": 5,
   "metadata": {},
   "outputs": [
    {
     "data": {
      "text/plain": [
       "[Conv2d(3, 64, kernel_size=(3, 3), stride=(1, 1), padding=(1, 1)),\n",
       " BatchNorm2d(64, eps=1e-05, momentum=0.1, affine=True, track_running_stats=True),\n",
       " ReLU(inplace),\n",
       " Conv2d(64, 64, kernel_size=(3, 3), stride=(1, 1), padding=(1, 1)),\n",
       " BatchNorm2d(64, eps=1e-05, momentum=0.1, affine=True, track_running_stats=True),\n",
       " ReLU(inplace),\n",
       " MaxPool2d(kernel_size=2, stride=2, padding=0, dilation=1, ceil_mode=False),\n",
       " Conv2d(64, 128, kernel_size=(3, 3), stride=(1, 1), padding=(1, 1)),\n",
       " BatchNorm2d(128, eps=1e-05, momentum=0.1, affine=True, track_running_stats=True),\n",
       " ReLU(inplace),\n",
       " Conv2d(128, 128, kernel_size=(3, 3), stride=(1, 1), padding=(1, 1)),\n",
       " BatchNorm2d(128, eps=1e-05, momentum=0.1, affine=True, track_running_stats=True),\n",
       " ReLU(inplace),\n",
       " MaxPool2d(kernel_size=2, stride=2, padding=0, dilation=1, ceil_mode=False),\n",
       " Conv2d(128, 256, kernel_size=(3, 3), stride=(1, 1), padding=(1, 1)),\n",
       " BatchNorm2d(256, eps=1e-05, momentum=0.1, affine=True, track_running_stats=True),\n",
       " ReLU(inplace),\n",
       " Conv2d(256, 256, kernel_size=(3, 3), stride=(1, 1), padding=(1, 1)),\n",
       " BatchNorm2d(256, eps=1e-05, momentum=0.1, affine=True, track_running_stats=True),\n",
       " ReLU(inplace),\n",
       " Conv2d(256, 256, kernel_size=(3, 3), stride=(1, 1), padding=(1, 1)),\n",
       " BatchNorm2d(256, eps=1e-05, momentum=0.1, affine=True, track_running_stats=True),\n",
       " ReLU(inplace),\n",
       " MaxPool2d(kernel_size=2, stride=2, padding=0, dilation=1, ceil_mode=False),\n",
       " Conv2d(256, 512, kernel_size=(3, 3), stride=(1, 1), padding=(1, 1)),\n",
       " BatchNorm2d(512, eps=1e-05, momentum=0.1, affine=True, track_running_stats=True),\n",
       " ReLU(inplace),\n",
       " Conv2d(512, 512, kernel_size=(3, 3), stride=(1, 1), padding=(1, 1)),\n",
       " BatchNorm2d(512, eps=1e-05, momentum=0.1, affine=True, track_running_stats=True),\n",
       " ReLU(inplace),\n",
       " Conv2d(512, 512, kernel_size=(3, 3), stride=(1, 1), padding=(1, 1)),\n",
       " BatchNorm2d(512, eps=1e-05, momentum=0.1, affine=True, track_running_stats=True),\n",
       " ReLU(inplace),\n",
       " MaxPool2d(kernel_size=2, stride=2, padding=0, dilation=1, ceil_mode=False),\n",
       " Conv2d(512, 512, kernel_size=(3, 3), stride=(1, 1), padding=(1, 1)),\n",
       " BatchNorm2d(512, eps=1e-05, momentum=0.1, affine=True, track_running_stats=True),\n",
       " ReLU(inplace),\n",
       " Conv2d(512, 512, kernel_size=(3, 3), stride=(1, 1), padding=(1, 1)),\n",
       " BatchNorm2d(512, eps=1e-05, momentum=0.1, affine=True, track_running_stats=True),\n",
       " ReLU(inplace),\n",
       " Conv2d(512, 512, kernel_size=(3, 3), stride=(1, 1), padding=(1, 1)),\n",
       " BatchNorm2d(512, eps=1e-05, momentum=0.1, affine=True, track_running_stats=True),\n",
       " ReLU(inplace),\n",
       " MaxPool2d(kernel_size=2, stride=2, padding=0, dilation=1, ceil_mode=False)]"
      ]
     },
     "execution_count": 5,
     "metadata": {},
     "output_type": "execute_result"
    }
   ],
   "source": [
    "list(model_vgg16.children())"
   ]
  },
  {
   "cell_type": "markdown",
   "metadata": {},
   "source": [
    "## 注册hook,进行正向传播,计算梯度,找到最优图片"
   ]
  },
  {
   "cell_type": "code",
   "execution_count": 6,
   "metadata": {},
   "outputs": [],
   "source": [
    "class SaveFeatures():\n",
    "    \"\"\"注册hook和移除hook\n",
    "    \"\"\"\n",
    "    def __init__(self, module):\n",
    "        self.hook = module.register_forward_hook(self.hook_fn)\n",
    "    def hook_fn(self, module, input, output):\n",
    "        # self.features = output.clone().detach().requires_grad_(True)\n",
    "        self.features = output.clone()\n",
    "    def close(self):\n",
    "        self.hook.remove()"
   ]
  },
  {
   "cell_type": "code",
   "execution_count": 7,
   "metadata": {},
   "outputs": [],
   "source": [
    "# 将hook注册在倒数第三层\n",
    "layer = 40\n",
    "activations = SaveFeatures(list(model_vgg16.children())[layer])"
   ]
  },
  {
   "cell_type": "markdown",
   "metadata": {},
   "source": [
    "### 反向传播, 找到最优的图片"
   ]
  },
  {
   "cell_type": "code",
   "execution_count": 8,
   "metadata": {
    "scrolled": true
   },
   "outputs": [
    {
     "name": "stdout",
     "output_type": "stream",
     "text": [
      "Imgshape1 :  torch.Size([1, 3, 56, 56])\n",
      "Loss: -6.7902794\n",
      "Imgshape2 :  (67, 67, 3)\n",
      "Imgshape3 :  torch.Size([1, 3, 67, 67])\n",
      "0 ,Finished\n",
      "=======\n",
      "Imgshape1 :  torch.Size([1, 3, 67, 67])\n",
      "Loss: -8.646091\n",
      "Imgshape2 :  (80, 80, 3)\n",
      "Imgshape3 :  torch.Size([1, 3, 80, 80])\n",
      "1 ,Finished\n",
      "=======\n",
      "Imgshape1 :  torch.Size([1, 3, 80, 80])\n",
      "Loss: -9.490366\n",
      "Imgshape2 :  (96, 96, 3)\n",
      "Imgshape3 :  torch.Size([1, 3, 96, 96])\n",
      "2 ,Finished\n",
      "=======\n",
      "Imgshape1 :  torch.Size([1, 3, 96, 96])\n",
      "Loss: -10.114728\n",
      "Imgshape2 :  (115, 115, 3)\n",
      "Imgshape3 :  torch.Size([1, 3, 115, 115])\n",
      "3 ,Finished\n",
      "=======\n",
      "Imgshape1 :  torch.Size([1, 3, 115, 115])\n",
      "Loss: -10.062547\n",
      "Imgshape2 :  (138, 138, 3)\n",
      "Imgshape3 :  torch.Size([1, 3, 138, 138])\n",
      "4 ,Finished\n",
      "=======\n",
      "Imgshape1 :  torch.Size([1, 3, 138, 138])\n",
      "Loss: -10.0085125\n",
      "Imgshape2 :  (165, 165, 3)\n",
      "Imgshape3 :  torch.Size([1, 3, 165, 165])\n",
      "5 ,Finished\n",
      "=======\n",
      "Imgshape1 :  torch.Size([1, 3, 165, 165])\n",
      "Loss: -9.711624\n",
      "Imgshape2 :  (198, 198, 3)\n",
      "Imgshape3 :  torch.Size([1, 3, 198, 198])\n",
      "6 ,Finished\n",
      "=======\n",
      "Imgshape1 :  torch.Size([1, 3, 198, 198])\n",
      "Loss: -9.38218\n",
      "Imgshape2 :  (237, 237, 3)\n",
      "Imgshape3 :  torch.Size([1, 3, 237, 237])\n",
      "7 ,Finished\n",
      "=======\n",
      "Imgshape1 :  torch.Size([1, 3, 237, 237])\n",
      "Loss: -9.273965\n",
      "Imgshape2 :  (284, 284, 3)\n",
      "Imgshape3 :  torch.Size([1, 3, 284, 284])\n",
      "8 ,Finished\n",
      "=======\n",
      "Imgshape1 :  torch.Size([1, 3, 284, 284])\n",
      "Loss: -9.26385\n",
      "Imgshape2 :  (340, 340, 3)\n",
      "Imgshape3 :  torch.Size([1, 3, 340, 340])\n",
      "9 ,Finished\n",
      "=======\n",
      "Imgshape1 :  torch.Size([1, 3, 340, 340])\n",
      "Loss: -8.933088\n",
      "Imgshape2 :  (408, 408, 3)\n",
      "Imgshape3 :  torch.Size([1, 3, 408, 408])\n",
      "10 ,Finished\n",
      "=======\n",
      "Imgshape1 :  torch.Size([1, 3, 408, 408])\n",
      "Loss: -8.720171\n",
      "Imgshape2 :  (489, 489, 3)\n",
      "Imgshape3 :  torch.Size([1, 3, 489, 489])\n",
      "11 ,Finished\n",
      "=======\n",
      "Imgshape1 :  torch.Size([1, 3, 489, 489])\n",
      "Loss: -8.845785\n",
      "Imgshape2 :  (586, 586, 3)\n",
      "Imgshape3 :  torch.Size([1, 3, 586, 586])\n",
      "12 ,Finished\n",
      "=======\n"
     ]
    }
   ],
   "source": [
    "# 超参数\n",
    "lr = 0.1 # 学习率\n",
    "opt_steps = 25 # 迭代次数\n",
    "filters = 265 # 第265个filter,使其最大\n",
    "upscaling_steps = 13 # 图像放大次数\n",
    "blur=3\n",
    "upscaling_factor=1.2 # 把图像变粗\n",
    "\n",
    "# 定义处理时的均值与方差\n",
    "cnn_normalization_mean = torch.tensor([0.485, 0.456, 0.406]).view(-1, 1, 1).to(device)\n",
    "cnn_normalization_std = torch.tensor([0.229, 0.224, 0.225]).view(-1, 1, 1).to(device)\n",
    "\n",
    "\n",
    "for epoch in range(upscaling_steps):  # scale the image up upscaling_steps times\n",
    "    # --------------------------------------------------------------------------------\n",
    "    # 因为原始的VGG网络对图片做了normalization, 所以这里对输入图片也要做normalization\n",
    "    # --------------------------------------------------------------------------------\n",
    "    img = (img - cnn_normalization_mean) / cnn_normalization_std\n",
    "    img[img>1]=1\n",
    "    img[img<0]=0\n",
    "    print('Imgshape1 : ',img.shape)\n",
    "    img_var = Variable(img, requires_grad=True)  # convert image to Variable that requires grad\n",
    "    # ----------\n",
    "    # 定义优化器\n",
    "    # ----------\n",
    "    optimizer = torch.optim.Adam([img_var], lr=lr, weight_decay=1e-6)\n",
    "    for n in range(opt_steps):  # optimize pixel values for opt_steps times\n",
    "        optimizer.zero_grad()\n",
    "        model_vgg16(img_var) # 正向传播\n",
    "        loss = -activations.features[0, filters].mean() # loss相当于最大该层的激活的值\n",
    "        loss.backward()\n",
    "        optimizer.step()\n",
    "    # ------------\n",
    "    # 图像进行还原\n",
    "    # ------------\n",
    "    print('Loss:',loss.cpu().detach().numpy())\n",
    "    img = img_var * cnn_normalization_std + cnn_normalization_mean # 这个使用img_var变换img\n",
    "    img[img>1]=1\n",
    "    img[img<0]=0\n",
    "    img = img.data.cpu().numpy()[0].transpose(1,2,0)\n",
    "    sz = int(upscaling_factor * sz)  # calculate new image size\n",
    "    img = cv2.resize(img, (sz, sz), interpolation = cv2.INTER_CUBIC)  # scale image up\n",
    "    if blur is not None: img = cv2.blur(img,(blur,blur))  # blur image to reduce high frequency patterns\n",
    "    print('Imgshape2 : ',img.shape)\n",
    "    img = torch.from_numpy(img.transpose(2,0,1)[None]).to(device)\n",
    "    print('Imgshape3 : ',img.shape)\n",
    "    print(str(epoch),',Finished')\n",
    "    print('=======')\n",
    "\n",
    "activations.close() # 移除hook\n",
    "\n",
    "# 保存图片\n",
    "image = img.cpu().clone()\n",
    "image = image.squeeze(0)\n",
    "unloader = transforms.ToPILImage()\n",
    "\n",
    "image = unloader(image)\n",
    "image = cv2.cvtColor(np.asarray(image),cv2.COLOR_RGB2BGR) \n",
    "cv2.imwrite('res1.jpg',image)\n",
    "torch.cuda.empty_cache()"
   ]
  },
  {
   "cell_type": "markdown",
   "metadata": {},
   "source": [
    "## 总体的代码"
   ]
  },
  {
   "cell_type": "code",
   "execution_count": 13,
   "metadata": {
    "scrolled": true
   },
   "outputs": [
    {
     "name": "stdout",
     "output_type": "stream",
     "text": [
      "Imgshape1 :  torch.Size([1, 3, 56, 56])\n",
      "Loss: -5.5001235\n",
      "Imgshape2 :  (67, 67, 3)\n",
      "Imgshape3 :  torch.Size([1, 3, 67, 67])\n",
      "0 ,Finished\n",
      "=======\n",
      "Imgshape1 :  torch.Size([1, 3, 67, 67])\n",
      "Loss: -7.377492\n",
      "Imgshape2 :  (80, 80, 3)\n",
      "Imgshape3 :  torch.Size([1, 3, 80, 80])\n",
      "1 ,Finished\n",
      "=======\n",
      "Imgshape1 :  torch.Size([1, 3, 80, 80])\n",
      "Loss: -7.718061\n",
      "Imgshape2 :  (96, 96, 3)\n",
      "Imgshape3 :  torch.Size([1, 3, 96, 96])\n",
      "2 ,Finished\n",
      "=======\n",
      "Imgshape1 :  torch.Size([1, 3, 96, 96])\n",
      "Loss: -7.2772813\n",
      "Imgshape2 :  (115, 115, 3)\n",
      "Imgshape3 :  torch.Size([1, 3, 115, 115])\n",
      "3 ,Finished\n",
      "=======\n",
      "Imgshape1 :  torch.Size([1, 3, 115, 115])\n",
      "Loss: -7.0601907\n",
      "Imgshape2 :  (138, 138, 3)\n",
      "Imgshape3 :  torch.Size([1, 3, 138, 138])\n",
      "4 ,Finished\n",
      "=======\n",
      "Imgshape1 :  torch.Size([1, 3, 138, 138])\n",
      "Loss: -6.1325536\n",
      "Imgshape2 :  (165, 165, 3)\n",
      "Imgshape3 :  torch.Size([1, 3, 165, 165])\n",
      "5 ,Finished\n",
      "=======\n",
      "Imgshape1 :  torch.Size([1, 3, 165, 165])\n",
      "Loss: -5.674845\n",
      "Imgshape2 :  (198, 198, 3)\n",
      "Imgshape3 :  torch.Size([1, 3, 198, 198])\n",
      "6 ,Finished\n",
      "=======\n",
      "Imgshape1 :  torch.Size([1, 3, 198, 198])\n",
      "Loss: -5.6070237\n",
      "Imgshape2 :  (237, 237, 3)\n",
      "Imgshape3 :  torch.Size([1, 3, 237, 237])\n",
      "7 ,Finished\n",
      "=======\n",
      "Imgshape1 :  torch.Size([1, 3, 237, 237])\n",
      "Loss: -5.510432\n",
      "Imgshape2 :  (284, 284, 3)\n",
      "Imgshape3 :  torch.Size([1, 3, 284, 284])\n",
      "8 ,Finished\n",
      "=======\n",
      "Imgshape1 :  torch.Size([1, 3, 284, 284])\n",
      "Loss: -5.5473785\n",
      "Imgshape2 :  (340, 340, 3)\n",
      "Imgshape3 :  torch.Size([1, 3, 340, 340])\n",
      "9 ,Finished\n",
      "=======\n",
      "Imgshape1 :  torch.Size([1, 3, 340, 340])\n",
      "Loss: -5.5313873\n",
      "Imgshape2 :  (408, 408, 3)\n",
      "Imgshape3 :  torch.Size([1, 3, 408, 408])\n",
      "10 ,Finished\n",
      "=======\n",
      "Imgshape1 :  torch.Size([1, 3, 408, 408])\n",
      "Loss: -5.5360265\n",
      "Imgshape2 :  (489, 489, 3)\n",
      "Imgshape3 :  torch.Size([1, 3, 489, 489])\n",
      "11 ,Finished\n",
      "=======\n",
      "Imgshape1 :  torch.Size([1, 3, 489, 489])\n",
      "Loss: -5.5281315\n",
      "Imgshape2 :  (586, 586, 3)\n",
      "Imgshape3 :  torch.Size([1, 3, 586, 586])\n",
      "12 ,Finished\n",
      "=======\n"
     ]
    }
   ],
   "source": [
    "torch.cuda.empty_cache()\n",
    "device = torch.device('cuda' if torch.cuda.is_available() else 'cpu')\n",
    "\n",
    "# 生成随机的图片\n",
    "sz = 56\n",
    "img = np.uint8(np.random.uniform(150, 180, (3, sz, sz)))/255\n",
    "img = torch.from_numpy(img[None]).float().to(device)\n",
    "# img[None]可以增加一个维度\n",
    "# img_var = Variable(torch.from_numpy(img[None]).float().to(device), requires_grad=True) # 转换为pytorch的变量, 需要梯度\n",
    "# img_var.shape\n",
    "\n",
    "model_vgg16 = models.vgg16_bn(pretrained=True).features.to(device).eval()\n",
    "\n",
    "# 将hook注册在倒数第三层\n",
    "layer = 40\n",
    "activations = SaveFeatures(list(model_vgg16.children())[layer])\n",
    "\n",
    "# 超参数\n",
    "lr = 0.1 # 学习率\n",
    "opt_steps = 25 # 迭代次数\n",
    "filters = 265 # 第265个filter,使其最大\n",
    "upscaling_steps = 13 # 图像反复迭代次数\n",
    "blur=3\n",
    "upscaling_factor=1.2 # 把图像变粗\n",
    "\n",
    "# 定义处理时的均值与方差\n",
    "cnn_normalization_mean = torch.tensor([0.485, 0.456, 0.406]).view(-1, 1, 1).to(device)\n",
    "cnn_normalization_std = torch.tensor([0.229, 0.224, 0.225]).view(-1, 1, 1).to(device)\n",
    "\n",
    "\n",
    "for epoch in range(upscaling_steps):  # scale the image up upscaling_steps times\n",
    "    # --------------------------------------------------------------------------------\n",
    "    # 因为原始的VGG网络对图片做了normalization, 所以这里对输入图片也要做normalization\n",
    "    # --------------------------------------------------------------------------------\n",
    "    img = (img - cnn_normalization_mean) / cnn_normalization_std\n",
    "    img[img>1]=1\n",
    "    img[img<0]=0\n",
    "    print('Imgshape1 : ',img.shape)\n",
    "    img_var = Variable(img, requires_grad=True)  # convert image to Variable that requires grad\n",
    "    # ----------\n",
    "    # 定义优化器\n",
    "    # ----------\n",
    "    optimizer = torch.optim.Adam([img_var], lr=lr, weight_decay=1e-6)\n",
    "    for n in range(opt_steps):  # optimize pixel values for opt_steps times\n",
    "        optimizer.zero_grad()\n",
    "        model_vgg16(img_var) # 正向传播\n",
    "        loss = -activations.features[0, filters].mean() # loss相当于最大该层的激活的值\n",
    "        loss.backward()\n",
    "        optimizer.step()\n",
    "    # ------------\n",
    "    # 图像进行还原\n",
    "    # ------------\n",
    "    print('Loss:',loss.cpu().detach().numpy())\n",
    "    img = img_var * cnn_normalization_std + cnn_normalization_mean # 这个使用img_var变换img\n",
    "    img[img>1]=1\n",
    "    img[img<0]=0\n",
    "    img = img.data.cpu().numpy()[0].transpose(1,2,0)\n",
    "    sz = int(upscaling_factor * sz)  # calculate new image size\n",
    "    img = cv2.resize(img, (sz, sz), interpolation = cv2.INTER_CUBIC)  # scale image up\n",
    "    if blur is not None: img = cv2.blur(img,(blur,blur))  # blur image to reduce high frequency patterns\n",
    "    print('Imgshape2 : ',img.shape)\n",
    "    img = torch.from_numpy(img.transpose(2,0,1)[None]).to(device)\n",
    "    print('Imgshape3 : ',img.shape)\n",
    "    print(str(epoch),',Finished')\n",
    "    print('=======')\n",
    "\n",
    "activations.close() # 移除hook\n",
    "\n",
    "image = img.cpu().clone()\n",
    "image = image.squeeze(0)\n",
    "unloader = transforms.ToPILImage()\n",
    "\n",
    "image = unloader(image)\n",
    "image = cv2.cvtColor(np.asarray(image),cv2.COLOR_RGB2BGR) \n",
    "cv2.imwrite('res1.jpg',image)\n",
    "torch.cuda.empty_cache()"
   ]
  },
  {
   "cell_type": "markdown",
   "metadata": {},
   "source": [
    "## 验证自己的猜想"
   ]
  },
  {
   "cell_type": "code",
   "execution_count": 1,
   "metadata": {},
   "outputs": [],
   "source": [
    "import torch\n",
    "from torch.autograd import Variable\n",
    "from PIL import Image\n",
    "import torchvision.transforms as transforms\n",
    "import torchvision.models as models\n",
    "\n",
    "import numpy as np\n",
    "import cv2\n",
    "from cv2 import resize\n",
    "from matplotlib import pyplot as plt\n",
    "%matplotlib inline\n",
    "\n",
    "device = torch.device('cuda' if torch.cuda.is_available() else 'cpu')\n",
    "\n",
    "class SaveFeatures():\n",
    "    \"\"\"注册hook和移除hook\n",
    "    \"\"\"\n",
    "    def __init__(self, module):\n",
    "        self.hook = module.register_forward_hook(self.hook_fn)\n",
    "    def hook_fn(self, module, input, output):\n",
    "        # self.features = output.clone().detach().requires_grad_(True)\n",
    "        self.features = output.clone()\n",
    "    def close(self):\n",
    "        self.hook.remove()"
   ]
  },
  {
   "cell_type": "code",
   "execution_count": 9,
   "metadata": {},
   "outputs": [
    {
     "data": {
      "image/png": "[encoded data removed]",
      "text/plain": [
       "<PIL.Image.Image image mode=RGB size=224x224 at 0x147F4C72BA8>"
      ]
     },
     "execution_count": 9,
     "metadata": {},
     "output_type": "execute_result"
    }
   ],
   "source": [
    "# 导入图片\n",
    "size = (224, 224)\n",
    "picture = Image.open(\"./Broad_chain_closeup.jpg\")\n",
    "# picture = Image.open(\"./Wattledcranethumb.jpg\")\n",
    "picture = ImageOps.fit(picture, size, Image.ANTIALIAS)\n",
    "picture"
   ]
  },
  {
   "cell_type": "code",
   "execution_count": 20,
   "metadata": {},
   "outputs": [
    {
     "data": {
      "text/plain": [
       "(224, 224)"
      ]
     },
     "execution_count": 20,
     "metadata": {},
     "output_type": "execute_result"
    }
   ],
   "source": [
    "picture.size"
   ]
  },
  {
   "cell_type": "code",
   "execution_count": 10,
   "metadata": {},
   "outputs": [
    {
     "data": {
      "text/plain": [
       "torch.Size([3, 224, 224])"
      ]
     },
     "execution_count": 10,
     "metadata": {},
     "output_type": "execute_result"
    }
   ],
   "source": [
    "# 导入图像\n",
    "loader = transforms.ToTensor()\n",
    "picture = loader(picture).to(device)\n",
    "picture.shape"
   ]
  },
  {
   "cell_type": "code",
   "execution_count": 22,
   "metadata": {},
   "outputs": [
    {
     "data": {
      "text/plain": [
       "tensor([[[0.4353, 0.4353, 0.4392,  ..., 0.4235, 0.4157, 0.4118],\n",
       "         [0.4353, 0.4353, 0.4392,  ..., 0.4275, 0.4157, 0.4157],\n",
       "         [0.4314, 0.4314, 0.4353,  ..., 0.4196, 0.4235, 0.4196],\n",
       "         ...,\n",
       "         [0.2118, 0.2784, 0.3451,  ..., 0.2471, 0.2235, 0.2275],\n",
       "         [0.2471, 0.2980, 0.3176,  ..., 0.2235, 0.2078, 0.2392],\n",
       "         [0.3216, 0.3294, 0.3098,  ..., 0.2196, 0.2510, 0.2941]],\n",
       "\n",
       "        [[0.4549, 0.4549, 0.4588,  ..., 0.4510, 0.4549, 0.4588],\n",
       "         [0.4549, 0.4549, 0.4588,  ..., 0.4549, 0.4549, 0.4549],\n",
       "         [0.4510, 0.4510, 0.4549,  ..., 0.4588, 0.4549, 0.4510],\n",
       "         ...,\n",
       "         [0.2039, 0.2392, 0.2902,  ..., 0.2353, 0.1882, 0.1725],\n",
       "         [0.2431, 0.2627, 0.2588,  ..., 0.2039, 0.1608, 0.1686],\n",
       "         [0.3294, 0.3098, 0.2549,  ..., 0.1882, 0.1922, 0.2157]],\n",
       "\n",
       "        [[0.4275, 0.4275, 0.4314,  ..., 0.4235, 0.4235, 0.4196],\n",
       "         [0.4275, 0.4275, 0.4314,  ..., 0.4235, 0.4196, 0.4118],\n",
       "         [0.4235, 0.4235, 0.4275,  ..., 0.4196, 0.4118, 0.4039],\n",
       "         ...,\n",
       "         [0.1059, 0.1569, 0.2118,  ..., 0.1608, 0.1373, 0.1373],\n",
       "         [0.1333, 0.1686, 0.1804,  ..., 0.1373, 0.1098, 0.1294],\n",
       "         [0.2039, 0.2039, 0.1765,  ..., 0.1294, 0.1490, 0.1804]]],\n",
       "       device='cuda:0')"
      ]
     },
     "execution_count": 22,
     "metadata": {},
     "output_type": "execute_result"
    }
   ],
   "source": [
    "picture"
   ]
  },
  {
   "cell_type": "code",
   "execution_count": 11,
   "metadata": {},
   "outputs": [],
   "source": [
    "# 将图片做标准化, 转换为vgg网络的输入\n",
    "cnn_normalization_mean = torch.tensor([0.485, 0.456, 0.406]).view(-1, 1, 1).to(device)\n",
    "cnn_normalization_std = torch.tensor([0.229, 0.224, 0.225]).view(-1, 1, 1).to(device)\n",
    "# 减均值. 除方差\n",
    "picture = (picture - cnn_normalization_mean) / cnn_normalization_std\n",
    "# 查看转换之后的效果\n",
    "# unload = transforms.ToPILImage()\n",
    "# unload(picture.cpu())"
   ]
  },
  {
   "cell_type": "code",
   "execution_count": 14,
   "metadata": {},
   "outputs": [
    {
     "data": {
      "text/plain": [
       "ReLU(inplace)"
      ]
     },
     "execution_count": 14,
     "metadata": {},
     "output_type": "execute_result"
    }
   ],
   "source": [
    "list(model_vgg16.children())[42]"
   ]
  },
  {
   "cell_type": "code",
   "execution_count": 15,
   "metadata": {},
   "outputs": [],
   "source": [
    "# 定义网络\n",
    "model_vgg16 = models.vgg16_bn(pretrained=True).features.to(device).eval()\n",
    "# 对网络进行hook,hook住指定层的output的值\n",
    "layer = 42 # 这里是ReLU之后, 经过激活之后也应该较大\n",
    "filters = 265\n",
    "activations = SaveFeatures(list(model_vgg16.children())[layer])\n",
    "# 网络前向传播\n",
    "with torch.no_grad():\n",
    "    picture_var = Variable(picture[None])\n",
    "    model_vgg16(picture_var)\n",
    "activations.close() # 移除hook"
   ]
  },
  {
   "cell_type": "code",
   "execution_count": 8,
   "metadata": {},
   "outputs": [
    {
     "data": {
      "text/plain": [
       "torch.Size([1, 512, 37, 50])"
      ]
     },
     "execution_count": 8,
     "metadata": {},
     "output_type": "execute_result"
    }
   ],
   "source": [
    "# 一共512个filter, 每个的输出大小为37*50\n",
    "activations.features.shape"
   ]
  },
  {
   "cell_type": "code",
   "execution_count": 16,
   "metadata": {},
   "outputs": [
    {
     "data": {
      "image/png": "[encoded data removed]",
      "text/plain": [
       "<Figure size 504x360 with 1 Axes>"
      ]
     },
     "metadata": {
      "needs_background": "light"
     },
     "output_type": "display_data"
    }
   ],
   "source": [
    "# 画出每个filter的平均值\n",
    "mean_act = [activations.features[0,i].mean().item() for i in range(512)] # 计算平均值\n",
    "\n",
    "plt.figure(figsize=(7,5))\n",
    "act = plt.plot(mean_act,linewidth=2.) # 画出折线图\n",
    "extraticks=[filters] # 增加的一个坐标\n",
    "ax = act[0].axes\n",
    "ax.set_xlim(0,500)\n",
    "plt.axvline(x=filters, color='grey', linestyle='--') # 绘制虚线\n",
    "ax.set_xlabel(\"feature map\")\n",
    "ax.set_ylabel(\"mean activation\")\n",
    "ax.set_xticks([0,200,400] + extraticks)\n",
    "plt.show()"
   ]
  },
  {
   "cell_type": "code",
   "execution_count": 10,
   "metadata": {},
   "outputs": [
    {
     "data": {
      "text/plain": [
       "[71]"
      ]
     },
     "execution_count": 10,
     "metadata": {},
     "output_type": "execute_result"
    }
   ],
   "source": [
    "# 找出比较大的filter\n",
    "thresh = 0.35\n",
    "[i for i in range(512) if mean_act[i]>thresh]"
   ]
  },
  {
   "cell_type": "code",
   "execution_count": null,
   "metadata": {},
   "outputs": [],
   "source": []
  }
 ],
 "metadata": {
  "kernelspec": {
   "display_name": "Python 3",
   "language": "python",
   "name": "python3"
  },
  "language_info": {
   "codemirror_mode": {
    "name": "ipython",
    "version": 3
   },
   "file_extension": ".py",
   "mimetype": "text/x-python",
   "name": "python",
   "nbconvert_exporter": "python",
   "pygments_lexer": "ipython3",
   "version": "3.7.3"
  }
 },
 "nbformat": 4,
 "nbformat_minor": 2
}
